{
 "cells": [
  {
   "cell_type": "code",
   "execution_count": 49,
   "metadata": {
    "colab": {},
    "colab_type": "code",
    "id": "ei_8D2wEj5re"
   },
   "outputs": [],
   "source": [
    "import torch\n",
    "from torch.utils.data import Dataset, DataLoader\n",
    "import os\n",
    "import pickle\n",
    "import numpy as np\n",
    "from sklearn.model_selection import train_test_split"
   ]
  },
  {
   "cell_type": "markdown",
   "metadata": {
    "colab_type": "text",
    "id": "Nqbbp8CFwL_h"
   },
   "source": [
    "# Movie Review Data Cleaning"
   ]
  },
  {
   "cell_type": "code",
   "execution_count": 62,
   "metadata": {
    "colab": {},
    "colab_type": "code",
    "id": "Ky8sR9Fygoxb"
   },
   "outputs": [],
   "source": [
    "def read_raw(file_name, label):\n",
    "  with open(file_name, 'r') as file:\n",
    "    data = []\n",
    "    for line in file:\n",
    "        processed_line = preprocess_raw(line)\n",
    "        data.append([processed_line.split(), label])\n",
    "  return data\n",
    "\n",
    "def preprocess_raw(text):\n",
    "  text = text.replace('\\u202f', ' ').replace('\\xa0', ' ')\n",
    "  out = ''\n",
    "  for i, char in enumerate(text.lower()):\n",
    "    if char.isalpha()==True or char==' ':\n",
    "      out += char\n",
    "  out=\" \".join(out.split())\n",
    "  out += ' .'\n",
    "  return out\n",
    "\n",
    "def build_data(direc):\n",
    "  data=[]\n",
    "  counter=0\n",
    "  for label in ['pos', 'neg']:\n",
    "    label_direc = os.path.join(direc, label)\n",
    "    for filename in os.listdir(label_direc):\n",
    "      if (label == 'pos'):\n",
    "        data += read_raw(os.path.join(label_direc,str(filename)), 1)\n",
    "      else:\n",
    "        data += read_raw(os.path.join(label_direc,str(filename)), 0)\n",
    "  print('Done')\n",
    "  return data"
   ]
  },
  {
   "cell_type": "code",
   "execution_count": 63,
   "metadata": {
    "colab": {
     "base_uri": "https://localhost:8080/",
     "height": 1000
    },
    "colab_type": "code",
    "id": "cATbAuX8grnR",
    "outputId": "b9a9ec3d-9256-420b-8236-b80968604d16"
   },
   "outputs": [
    {
     "name": "stdout",
     "output_type": "stream",
     "text": [
      "Done\n"
     ]
    }
   ],
   "source": [
    "data = build_data('./txt_sentoken')"
   ]
  },
  {
   "cell_type": "markdown",
   "metadata": {},
   "source": [
    "# Data to File"
   ]
  },
  {
   "cell_type": "code",
   "execution_count": 64,
   "metadata": {
    "colab": {},
    "colab_type": "code",
    "id": "xrAs4EG1DTcd"
   },
   "outputs": [],
   "source": [
    "data = np.array(data)\n",
    "file = open('data', 'wb')\n",
    "pickle.dump(data, file)\n",
    "file.close()"
   ]
  },
  {
   "cell_type": "markdown",
   "metadata": {},
   "source": [
    "# Movie Review Dataset"
   ]
  },
  {
   "cell_type": "code",
   "execution_count": 65,
   "metadata": {},
   "outputs": [],
   "source": [
    "class MovieReviewDataset(Dataset):\n",
    "    def __init__(self, dataset, transform=None):\n",
    "        self.data = dataset\n",
    "        self.transform = transform\n",
    "    \n",
    "    def __getitem__(self, idx):\n",
    "        temp = self.data[idx]\n",
    "        if (self.transform):\n",
    "            temp = self.transform(sample)\n",
    "        \n",
    "        sample = {'sentence': temp[0] ,'label': temp[1]}\n",
    "        return sample\n",
    "    \n",
    "    def __len__(self):\n",
    "        return len(self.data)            "
   ]
  },
  {
   "cell_type": "markdown",
   "metadata": {},
   "source": [
    "# Load data file"
   ]
  },
  {
   "cell_type": "code",
   "execution_count": 66,
   "metadata": {},
   "outputs": [
    {
     "name": "stdout",
     "output_type": "stream",
     "text": [
      "48540\n"
     ]
    }
   ],
   "source": [
    "file = open('data', 'rb')\n",
    "data = pickle.load(file)\n",
    "file.close()\n",
    "\n",
    "X_train, X_test, y_train, y_test = train_test_split(data[:,0], data[:,1])\n",
    "dataset = []\n",
    "for i in range(len(X_train)):\n",
    "    dataset.append([X_train[i], y_train[i]])\n",
    "    \n",
    "mr = MovieReviewDataset(dataset)\n",
    "print(len(mr))\n",
    "\n",
    "\n",
    "mr_dataloader = DataLoader(mr, batch_size = 16, shuffle=True)"
   ]
  },
  {
   "cell_type": "code",
   "execution_count": 67,
   "metadata": {},
   "outputs": [
    {
     "name": "stdout",
     "output_type": "stream",
     "text": [
      "16\n"
     ]
    }
   ],
   "source": [
    "print(len(next(iter(mr_dataloader))['label']))"
   ]
  },
  {
   "cell_type": "code",
   "execution_count": null,
   "metadata": {},
   "outputs": [],
   "source": []
  }
 ],
 "metadata": {
  "colab": {
   "collapsed_sections": [],
   "name": "Final.ipynb",
   "provenance": []
  },
  "kernelspec": {
   "display_name": "Python 3",
   "language": "python",
   "name": "python3"
  },
  "language_info": {
   "codemirror_mode": {
    "name": "ipython",
    "version": 3
   },
   "file_extension": ".py",
   "mimetype": "text/x-python",
   "name": "python",
   "nbconvert_exporter": "python",
   "pygments_lexer": "ipython3",
   "version": "3.7.4"
  }
 },
 "nbformat": 4,
 "nbformat_minor": 1
}
