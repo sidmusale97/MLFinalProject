{
  "nbformat": 4,
  "nbformat_minor": 0,
  "metadata": {
    "accelerator": "GPU",
    "colab": {
      "name": "CRAN_New.ipynb",
      "provenance": [],
      "collapsed_sections": [],
      "toc_visible": true,
      "machine_shape": "hm"
    },
    "kernelspec": {
      "display_name": "Python 3",
      "language": "python",
      "name": "python3"
    },
    "language_info": {
      "codemirror_mode": {
        "name": "ipython",
        "version": 3
      },
      "file_extension": ".py",
      "mimetype": "text/x-python",
      "name": "python",
      "nbconvert_exporter": "python",
      "pygments_lexer": "ipython3",
      "version": "3.7.1"
    }
  },
  "cells": [
    {
      "cell_type": "code",
      "metadata": {
        "colab_type": "code",
        "id": "ei_8D2wEj5re",
        "colab": {}
      },
      "source": [
        "import torch\n",
        "from torch.utils.data import Dataset, DataLoader\n",
        "import os\n",
        "import pickle\n",
        "import numpy as np\n",
        "from sklearn.model_selection import train_test_split\n",
        "import torch.nn as nn\n",
        "import torch.nn.functional as F\n",
        "import math\n",
        "import gensim\n",
        "from gensim.models import Word2Vec, KeyedVectors\n",
        "from gensim.test.utils import common_texts, get_tmpfile\n",
        "import collections"
      ],
      "execution_count": 0,
      "outputs": []
    },
    {
      "cell_type": "markdown",
      "metadata": {
        "colab_type": "text",
        "id": "Nqbbp8CFwL_h"
      },
      "source": [
        "# Movie Review Data Cleaning"
      ]
    },
    {
      "cell_type": "code",
      "metadata": {
        "colab_type": "code",
        "id": "Ky8sR9Fygoxb",
        "colab": {}
      },
      "source": [
        "def read_raw(file_name, label):\n",
        "  with open(file_name, 'r') as file:\n",
        "    data = []\n",
        "    for line in file:\n",
        "        processed_line = preprocess_raw(line)\n",
        "        data.append([processed_line.split(), label])\n",
        "  return data\n",
        "\n",
        "def preprocess_raw(text):\n",
        "  text = text.replace('\\u202f', ' ').replace('\\xa0', ' ')\n",
        "  out = ''\n",
        "  for i, char in enumerate(text.lower()):\n",
        "    if char.isalpha()==True or char==' ':\n",
        "      out += char\n",
        "  out=\" \".join(out.split())\n",
        "  return out\n",
        "\n",
        "def build_data(direc):\n",
        "  data=[]\n",
        "  counter=0\n",
        "  for label in ['pos', 'neg']:\n",
        "    label_direc = os.path.join(direc, label)\n",
        "    for filename in os.listdir(label_direc):\n",
        "      if (label == 'pos'):\n",
        "        data += read_raw(os.path.join(label_direc,str(filename)), 1)\n",
        "      else:\n",
        "        data += read_raw(os.path.join(label_direc,str(filename)), 0)\n",
        "      counter += 1\n",
        "      print(counter)\n",
        "  print('Done')\n",
        "  return data"
      ],
      "execution_count": 0,
      "outputs": []
    },
    {
      "cell_type": "code",
      "metadata": {
        "colab_type": "code",
        "id": "cATbAuX8grnR",
        "colab": {}
      },
      "source": [
        "data = build_data('./review_polarity/txt_sentoken/')"
      ],
      "execution_count": 0,
      "outputs": []
    },
    {
      "cell_type": "markdown",
      "metadata": {
        "colab_type": "text",
        "id": "xnYbLt0S5-vO"
      },
      "source": [
        "# Data to File"
      ]
    },
    {
      "cell_type": "code",
      "metadata": {
        "colab_type": "code",
        "id": "xrAs4EG1DTcd",
        "colab": {}
      },
      "source": [
        "data = np.array(data)\n",
        "file = open('data', 'wb')\n",
        "pickle.dump(data, file)\n",
        "file.close()"
      ],
      "execution_count": 0,
      "outputs": []
    },
    {
      "cell_type": "markdown",
      "metadata": {
        "colab_type": "text",
        "id": "coytsUvQ5-vU"
      },
      "source": [
        "# Movie Review Dataset"
      ]
    },
    {
      "cell_type": "code",
      "metadata": {
        "colab_type": "code",
        "id": "Q718-47w5-vV",
        "colab": {}
      },
      "source": [
        "class MovieReviewDataset(Dataset):\n",
        "    def __init__(self, dataset, transform=None):\n",
        "        self.data = dataset\n",
        "        self.transform = transform\n",
        "    \n",
        "    def __getitem__(self, idx):\n",
        "        temp = self.data[idx]\n",
        "        if (self.transform):\n",
        "            temp = self.transform(sample)\n",
        "        \n",
        "        sample = {'sentence': temp[0] ,'label': temp[1]}\n",
        "        return sample\n",
        "    \n",
        "    def __len__(self):\n",
        "        return len(self.data)            "
      ],
      "execution_count": 0,
      "outputs": []
    },
    {
      "cell_type": "markdown",
      "metadata": {
        "colab_type": "text",
        "id": "8eV-J5by5-vY"
      },
      "source": [
        "# Load data file"
      ]
    },
    {
      "cell_type": "code",
      "metadata": {
        "colab_type": "code",
        "id": "A7zJpLof5-vZ",
        "outputId": "aa58d6d9-bdd1-4080-8405-244d69f18aec",
        "colab": {
          "base_uri": "https://localhost:8080/",
          "height": 34
        }
      },
      "source": [
        "file = open('./drive/My Drive/data', 'rb')\n",
        "data = pickle.load(file)\n",
        "file.close()\n",
        "\n",
        "dataset = []\n",
        "for i in data:\n",
        "    dataset.append([i[0], i[1]])\n",
        "    \n",
        "mr = MovieReviewDataset(dataset)\n",
        "print(len(mr))\n",
        "\n",
        "\n",
        "mr_dataloader = DataLoader(mr, batch_size = 16, shuffle=True)"
      ],
      "execution_count": 27,
      "outputs": [
        {
          "output_type": "stream",
          "text": [
            "64720\n"
          ],
          "name": "stdout"
        }
      ]
    },
    {
      "cell_type": "code",
      "metadata": {
        "colab_type": "code",
        "id": "_5FaxdBk5-vf",
        "colab": {}
      },
      "source": [
        "test_batch = next(iter(mr_dataloader))\n",
        "print(test_batch)"
      ],
      "execution_count": 0,
      "outputs": []
    },
    {
      "cell_type": "code",
      "metadata": {
        "colab_type": "code",
        "id": "hucr8u6uievD",
        "colab": {}
      },
      "source": [
        "embed_model = Word2Vec(size=300, min_count=1)\n",
        "embed_model.build_vocab(data[:,0])\n",
        "total_examples = embed_model.corpus_count\n",
        "pretrained = KeyedVectors.load_word2vec_format(\"GoogleNews-vectors-negative300.bin\", binary=True)\n",
        "embed_model.build_vocab([list(pretrained.vocab.keys())], update=True)\n",
        "embed_model.intersect_word2vec_format(\"GoogleNews-vectors-negative300.bin\", binary=True, lockf=1.0)\n",
        "embed_model.train(data[:,0], total_examples=total_examples, epochs=embed_model.iter)\n"
      ],
      "execution_count": 0,
      "outputs": []
    },
    {
      "cell_type": "code",
      "metadata": {
        "colab_type": "code",
        "id": "v_haw40hievH",
        "colab": {}
      },
      "source": [
        "embed_model.save('embedding_model')"
      ],
      "execution_count": 0,
      "outputs": []
    },
    {
      "cell_type": "code",
      "metadata": {
        "colab_type": "code",
        "id": "FJW8qiKFievK",
        "colab": {}
      },
      "source": [
        "a = Word2Vec.load('embedding_model')\n",
        "print(a['hi'])"
      ],
      "execution_count": 0,
      "outputs": []
    },
    {
      "cell_type": "code",
      "metadata": {
        "colab_type": "code",
        "id": "FqP7CgCXievP",
        "colab": {}
      },
      "source": [
        "b = KeyedVectors.load('embedding_model.wv.vectors.npy', mmap='r')\n",
        "b['hi']"
      ],
      "execution_count": 0,
      "outputs": []
    },
    {
      "cell_type": "code",
      "metadata": {
        "id": "oqRcR9SJLjHT",
        "colab_type": "code",
        "colab": {
          "base_uri": "https://localhost:8080/",
          "height": 281
        },
        "outputId": "9783ff42-a2b3-46b2-cc44-35782f7eef5a"
      },
      "source": [
        "text=data[:,0]\n",
        "import collections\n",
        "import numpy as np\n",
        "import matplotlib.pyplot as plt\n",
        "def len_dis(text):\n",
        "  lens = [len(line) for line in text]\n",
        "  len_counter = collections.Counter(lens)\n",
        "\n",
        "  lens = np.array(list(len_counter.keys()))\n",
        "  sort_idx = np.argsort(lens)\n",
        "  lens_sort = lens[sort_idx]\n",
        "  len_counts = np.array(list(len_counter.values()))\n",
        "  len_counts_sort = len_counts[sort_idx]\n",
        "  p = np.cumsum(len_counts_sort) / len_counts_sort.sum()\n",
        "  return p, lens_sort\n",
        "  \n",
        "src_p, src_lens_sort = len_dis(text)\n",
        "plt.plot(src_lens_sort, src_p, 'r-', label='eng')\n",
        "plt.title('Cumulative Distribution of Sentence Length')\n",
        "plt.legend()\n",
        "plt.show()"
      ],
      "execution_count": 28,
      "outputs": [
        {
          "output_type": "display_data",
          "data": {
            "image/png": "[encoded data removed]",
            "text/plain": [
              "<Figure size 432x288 with 1 Axes>"
            ]
          },
          "metadata": {
            "tags": [],
            "needs_background": "light"
          }
        }
      ]
    },
    {
      "cell_type": "code",
      "metadata": {
        "id": "F7yfDZjVLox2",
        "colab_type": "code",
        "colab": {
          "base_uri": "https://localhost:8080/",
          "height": 281
        },
        "outputId": "4d71c437-eb25-46b7-ddf6-51d004d168d7"
      },
      "source": [
        "def len_dis(text):\n",
        "  words = [token for line in text for token in line]\n",
        "  word_counter = collections.Counter(words)\n",
        "  freq_counter=  collections.Counter(word_counter.values())\n",
        "  freqs = np.array(list(freq_counter.keys()))\n",
        "  freq_length = np.array(list(freq_counter.values()))\n",
        "  sort_idx= np.argsort(freqs)\n",
        "  freq_sort = freqs[sort_idx]\n",
        "  freq_length = np.array(list(freq_counter.values()))\n",
        "  freq_length_sort = freq_length[sort_idx]\n",
        "  p = np.cumsum(freq_length_sort) / freq_length_sort.sum()\n",
        "  return p, freq_sort\n",
        "  \n",
        "src_p, src_lens_sort = len_dis(text)\n",
        "plt.plot(src_lens_sort, src_p, 'r-', label='eng')\n",
        "plt.title('Cumulative Distribution of Word Occurence')\n",
        "plt.legend()\n",
        "axes = plt.gca()\n",
        "axes.set_xlim([1,100])\n",
        "plt.show()"
      ],
      "execution_count": 29,
      "outputs": [
        {
          "output_type": "display_data",
          "data": {
            "image/png": "[encoded data removed]",
            "text/plain": [
              "<Figure size 432x288 with 1 Axes>"
            ]
          },
          "metadata": {
            "tags": [],
            "needs_background": "light"
          }
        }
      ]
    },
    {
      "cell_type": "code",
      "metadata": {
        "colab_type": "code",
        "id": "zrKjnRgQkTMk",
        "colab": {}
      },
      "source": [
        "MIN_FREQ=30\n",
        "MAX_LEN=50"
      ],
      "execution_count": 0,
      "outputs": []
    },
    {
      "cell_type": "code",
      "metadata": {
        "colab_type": "code",
        "id": "Njv_eA9ZievS",
        "colab": {}
      },
      "source": [
        "class Vocab():\n",
        "  def __init__(self, name, tokens, min_freq):\n",
        "    self.name = name\n",
        "    self.index2word = {\n",
        "      0: 'pad',\n",
        "      1: 'unk'\n",
        "    }\n",
        "    self.word2index = {v: k for k, v in self.index2word.items()}\n",
        "    self.num_word = 2\n",
        "    token_freq = collections.Counter(tokens)\n",
        "    tokens = [token for token in tokens if token_freq[token] >= MIN_FREQ]\n",
        "    self._build_vocab(tokens)\n",
        "    \n",
        "  def _build_vocab(self, tokens):\n",
        "    for token in tokens:\n",
        "      if token not in self.word2index:\n",
        "        self.word2index[token] = self.num_word\n",
        "        self.index2word[self.num_word] = token\n",
        "        self.num_word += 1\n",
        "        \n",
        "  def __getitem__(self, tokens):\n",
        "    if not isinstance(tokens, (list, tuple)):\n",
        "      return self.word2index.get(tokens, self.word2index['unk'])\n",
        "    else:\n",
        "      return [self.__getitem__(token) for token in tokens]"
      ],
      "execution_count": 0,
      "outputs": []
    },
    {
      "cell_type": "code",
      "metadata": {
        "colab_type": "code",
        "id": "hkgiV8PYnwUx",
        "colab": {}
      },
      "source": [
        "def build_vocab(name, tokens, min_freq):\n",
        "  sentences=tokens[:,0]\n",
        "  tokens = [token for sentence in sentences for token in sentence]\n",
        "  return Vocab(name, tokens, min_freq)\n",
        "\n",
        "def build_vocabs(lang_src, src_text):\n",
        "  vocab_src = build_vocab(lang_src, src_text, MIN_FREQ)\n",
        "  return vocab_src\n",
        "\n",
        "def pad(line, padding_token):\n",
        "  return line + [padding_token] * (MAX_LEN-len(line))\n",
        "\n",
        "def build_tensor(text, reviews_vocab):\n",
        "  labels=text[:,1]\n",
        "  lines = [reviews_vocab[line] for line in text[:,0]]\n",
        "  lst=[]\n",
        "  for i in range(len(lines)):\n",
        "    padded_sentence=torch.tensor(pad(lines[i],reviews_vocab['pad']))\n",
        "    label=torch.tensor(labels[i])\n",
        "    lst.append([padded_sentence,label])\n",
        "  return lst\n",
        "\n",
        "def load_reviews_data():\n",
        "  reviews_vocab = build_vocabs('reviews', data)\n",
        "  for i in range(len(data[:,0])):\n",
        "    data[:,0][i]=data[:,0][i][:MAX_LEN]\n",
        "  reviews_array = build_tensor(data, reviews_vocab)\n",
        "  return reviews_vocab,reviews_array\n",
        "\n",
        "\n",
        "#source, target = prepare_data(raw_text, max_len=MAX_LEN)\n",
        "#vocab_eng, vocab_fra, train_iter = load_data_nmt(batch_size=2)\n",
        "#print('Vocabulary size of source language: {}'.format(vocab_eng.num_word))\n",
        "#print('Vocabulary size of target language: {}'.format(vocab_fra.num_word))\n",
        "#print('Total number of sentence pairs: {}'.format(len(source)))"
      ],
      "execution_count": 0,
      "outputs": []
    },
    {
      "cell_type": "code",
      "metadata": {
        "colab_type": "code",
        "id": "Wknd8TGe3OS2",
        "colab": {}
      },
      "source": [
        "reviews_vocab,reviews_array=load_reviews_data()"
      ],
      "execution_count": 0,
      "outputs": []
    },
    {
      "cell_type": "code",
      "metadata": {
        "colab_type": "code",
        "id": "BN4NHZ9eNzfr",
        "colab": {}
      },
      "source": [
        "#CRAN used with Pytorch embedding\n",
        "class CRAN(nn.Module):\n",
        "  def __init__(self,vocab_size,embedding_size,cnn_window_length,hidden_units,p_dropout):\n",
        "    super(CRAN, self).__init__()\n",
        "\n",
        "    \"\"\"\n",
        "    inputs:\n",
        "      cnn_num_filters: the number of convolutional kernels, represents the number of output channels parameter in Conv2d\n",
        "      cnn_window_length: in a kernel size of d*l, d represents the embedding size and l represents the window length\n",
        "      LSTM_hidden_units: number of hidden units in LSTM layer\n",
        "      dropout: dropout probability for CNN\n",
        "      embedding_size: length of embedded word vectors \n",
        "    \"\"\"\n",
        "    self.embedding=nn.Embedding(vocab_size,embedding_size)\n",
        "    self.cnn=torch.nn.Conv2d(1,hidden_units,(cnn_window_length,embedding_size), padding=(1,0))\n",
        "    self.dropout=torch.nn.Dropout(p_dropout)\n",
        "    self.rnn=torch.nn.LSTM(embedding_size,hidden_units,1, batch_first=True)\n",
        "    self.hidden_size = hidden_units\n",
        "    self.dense = nn.Linear(hidden_units, 2)\n",
        "  def forward(self,batch,labels):\n",
        "    word_embedded=self.embedding(batch)\n",
        "    (N,T,d)=word_embedded.shape\n",
        "    word_embedded=word_embedded.view(N,1,T,d)\n",
        "    #apply convolutional filters to the input sentences\n",
        "    cnn_output=self.cnn(word_embedded)\n",
        "    #cnn_output will be of shape (N,cnn_num_filters,H_out from Pytorch documentation,1)\n",
        "    shape=cnn_output.shape\n",
        "    cnn_output= F.relu(cnn_output.view(N,shape[1],shape[2]))\n",
        "    #average across the different filter outputs\n",
        "    cnn_output=torch.mean(cnn_output,1)\n",
        "    h = batch.new_zeros(1, N, self.hidden_size).float()\n",
        "    c = batch.new_zeros(1, N, self.hidden_size).float()\n",
        "    word_embedded=word_embedded.view(N,T,d)\n",
        "  \n",
        "    lstm_out, (h,c) = self.rnn(word_embedded, (h, c))\n",
        "\n",
        "    s = torch.mean(lstm_out * cnn_output.unsqueeze(2), 1)\n",
        "\n",
        "    pred = F.log_softmax(self.dense(s))\n",
        "    \n",
        "    if self.training:\n",
        "      loss = F.nll_loss(pred, labels)\n",
        "\n",
        "      return loss, pred.argmax(dim=-1)\n",
        "    else:\n",
        "      return pred"
      ],
      "execution_count": 0,
      "outputs": []
    },
    {
      "cell_type": "code",
      "metadata": {
        "colab_type": "code",
        "id": "nq7hfnE_PjLf",
        "outputId": "0c7822fa-2633-45ae-c3b1-c47ba436b6f4",
        "colab": {}
      },
      "source": [
        "# training CRAN with Pytorch embedding\n",
        "reviews=torch.zeros((len(reviews_array),len(reviews_array[0][0])),dtype=torch.long)\n",
        "labels=torch.zeros((len(reviews_array)),dtype=torch.long)\n",
        "for i in range(len(reviews_array)):\n",
        "  reviews[i]=torch.tensor(reviews_array[i][0])\n",
        "  labels[i]=torch.tensor(reviews_array[i][1])\n",
        "\n",
        "batch_size = 16\n",
        "vocab_size=reviews_vocab.num_word\n",
        "embedding_dim = 100\n",
        "hidden_size = 100\n",
        "cnn_window_length=3\n",
        "lr = 1e-3\n",
        "epoch = 10\n",
        "p_dropout=0.5\n",
        "\n",
        "CRAN_m = CRAN(vocab_size, embedding_dim, cnn_window_length,hidden_size,p_dropout)\n",
        "device = torch.device('cuda:0') # cuda:0 if you have gpu\n",
        "CRAN_m = CRAN_m.to(device)\n",
        "\n",
        "optimizer = torch.optim.Adam(CRAN_m.parameters(), lr=lr)\n",
        "loss_list = []\n",
        "for e in range(epoch):\n",
        "  CRAN_m.train()\n",
        "  permutation=torch.randperm(reviews.size()[0])\n",
        "  for i in range(0,reviews.size()[0],batch_size):\n",
        "    indices = permutation[i:i+batch_size]\n",
        "    reviews_batch, labels_batch = reviews[indices], labels[indices]\n",
        "    reviews_batch=reviews_batch.to(device)\n",
        "    labels_batch=labels_batch.to(device)\n",
        "    loss, pred = CRAN_m(reviews_batch,labels_batch)\n",
        "    loss_list.append(loss.mean().detach())\n",
        "    optimizer.zero_grad()\n",
        "    loss.mean().backward()\n",
        "    optimizer.step()\n",
        "    if i%5000==0:\n",
        "      print(loss.mean())"
      ],
      "execution_count": 0,
      "outputs": [
        {
          "output_type": "stream",
          "text": [
            "/anaconda3/lib/python3.7/site-packages/ipykernel_launcher.py:5: UserWarning: To copy construct from a tensor, it is recommended to use sourceTensor.clone().detach() or sourceTensor.clone().detach().requires_grad_(True), rather than torch.tensor(sourceTensor).\n",
            "  \"\"\"\n",
            "/anaconda3/lib/python3.7/site-packages/ipykernel_launcher.py:6: UserWarning: To copy construct from a tensor, it is recommended to use sourceTensor.clone().detach() or sourceTensor.clone().detach().requires_grad_(True), rather than torch.tensor(sourceTensor).\n",
            "  \n"
          ],
          "name": "stderr"
        },
        {
          "output_type": "error",
          "ename": "KeyboardInterrupt",
          "evalue": "",
          "traceback": [
            "\u001b[0;31m---------------------------------------------------------------------------\u001b[0m",
            "\u001b[0;31mKeyboardInterrupt\u001b[0m                         Traceback (most recent call last)",
            "\u001b[0;32m<ipython-input-15-cef542745214>\u001b[0m in \u001b[0;36m<module>\u001b[0;34m\u001b[0m\n\u001b[1;32m      3\u001b[0m \u001b[0mlabels\u001b[0m\u001b[0;34m=\u001b[0m\u001b[0mtorch\u001b[0m\u001b[0;34m.\u001b[0m\u001b[0mzeros\u001b[0m\u001b[0;34m(\u001b[0m\u001b[0;34m(\u001b[0m\u001b[0mlen\u001b[0m\u001b[0;34m(\u001b[0m\u001b[0mreviews_array\u001b[0m\u001b[0;34m)\u001b[0m\u001b[0;34m)\u001b[0m\u001b[0;34m,\u001b[0m\u001b[0mdtype\u001b[0m\u001b[0;34m=\u001b[0m\u001b[0mtorch\u001b[0m\u001b[0;34m.\u001b[0m\u001b[0mlong\u001b[0m\u001b[0;34m)\u001b[0m\u001b[0;34m\u001b[0m\u001b[0;34m\u001b[0m\u001b[0m\n\u001b[1;32m      4\u001b[0m \u001b[0;32mfor\u001b[0m \u001b[0mi\u001b[0m \u001b[0;32min\u001b[0m \u001b[0mrange\u001b[0m\u001b[0;34m(\u001b[0m\u001b[0mlen\u001b[0m\u001b[0;34m(\u001b[0m\u001b[0mreviews_array\u001b[0m\u001b[0;34m)\u001b[0m\u001b[0;34m)\u001b[0m\u001b[0;34m:\u001b[0m\u001b[0;34m\u001b[0m\u001b[0;34m\u001b[0m\u001b[0m\n\u001b[0;32m----> 5\u001b[0;31m   \u001b[0mreviews\u001b[0m\u001b[0;34m[\u001b[0m\u001b[0mi\u001b[0m\u001b[0;34m]\u001b[0m\u001b[0;34m=\u001b[0m\u001b[0mtorch\u001b[0m\u001b[0;34m.\u001b[0m\u001b[0mtensor\u001b[0m\u001b[0;34m(\u001b[0m\u001b[0mreviews_array\u001b[0m\u001b[0;34m[\u001b[0m\u001b[0mi\u001b[0m\u001b[0;34m]\u001b[0m\u001b[0;34m[\u001b[0m\u001b[0;36m0\u001b[0m\u001b[0;34m]\u001b[0m\u001b[0;34m)\u001b[0m\u001b[0;34m\u001b[0m\u001b[0;34m\u001b[0m\u001b[0m\n\u001b[0m\u001b[1;32m      6\u001b[0m   \u001b[0mlabels\u001b[0m\u001b[0;34m[\u001b[0m\u001b[0mi\u001b[0m\u001b[0;34m]\u001b[0m\u001b[0;34m=\u001b[0m\u001b[0mtorch\u001b[0m\u001b[0;34m.\u001b[0m\u001b[0mtensor\u001b[0m\u001b[0;34m(\u001b[0m\u001b[0mreviews_array\u001b[0m\u001b[0;34m[\u001b[0m\u001b[0mi\u001b[0m\u001b[0;34m]\u001b[0m\u001b[0;34m[\u001b[0m\u001b[0;36m1\u001b[0m\u001b[0;34m]\u001b[0m\u001b[0;34m)\u001b[0m\u001b[0;34m\u001b[0m\u001b[0;34m\u001b[0m\u001b[0m\n\u001b[1;32m      7\u001b[0m \u001b[0;34m\u001b[0m\u001b[0m\n",
            "\u001b[0;31mKeyboardInterrupt\u001b[0m: "
          ]
        }
      ]
    },
    {
      "cell_type": "code",
      "metadata": {
        "colab_type": "code",
        "id": "78P9wOlInYZN",
        "outputId": "dbf9bd88-a5af-435b-be93-f53c81139b53",
        "colab": {
          "base_uri": "https://localhost:8080/",
          "height": 429
        }
      },
      "source": [
        "embed_model = Word2Vec(size=300, min_count=1)\n",
        "embed_model.build_vocab(data[:,0])\n",
        "total_examples = embed_model.corpus_count\n",
        "pretrained = KeyedVectors.load_word2vec_format(\"GoogleNews-vectors-negative300.bin\", binary=True)\n",
        "embed_model.build_vocab([list(pretrained.vocab.keys())], update=True)\n",
        "embed_model.intersect_word2vec_format(\"GoogleNews-vectors-negative300.bin\", binary=True, lockf=1.0)\n",
        "embed_model.train(data[:,0], total_examples=total_examples, epochs=embed_model.iter)"
      ],
      "execution_count": 0,
      "outputs": [
        {
          "output_type": "stream",
          "text": [
            "/anaconda3/lib/python3.7/site-packages/gensim/models/base_any2vec.py:743: UserWarning: C extension not loaded, training will be slow. Install a C compiler and reinstall gensim for fast training.\n",
            "  \"C extension not loaded, training will be slow. \"\n"
          ],
          "name": "stderr"
        }
      ]
    },
    {
      "cell_type": "code",
      "metadata": {
        "colab_type": "code",
        "id": "aaSWyhubnbzh",
        "colab": {}
      },
      "source": [
        "embed_model.wv.save('embedding_model')"
      ],
      "execution_count": 0,
      "outputs": []
    },
    {
      "cell_type": "code",
      "metadata": {
        "colab_type": "code",
        "id": "kDOtN_X9nhcK",
        "colab": {}
      },
      "source": [
        "class GoogleEmbedding(nn.Module):\n",
        "  def __init__(self, model_path):\n",
        "    super(GoogleEmbedding, self).__init__()\n",
        "\n",
        "    # Load Google's pre-trained Word2Vec model.\n",
        "    self.model = KeyedVectors.load(model_path, mmap='r')\n",
        "\n",
        "  def forward(self, batch):\n",
        "    out = []\n",
        "    for sent in batch:\n",
        "      sent_embed = []\n",
        "      for word in sent:\n",
        "        sent_embed.append(self.model[word])\n",
        "      \n",
        "      sent_embed = np.array(sent_embed)\n",
        "      out.append(sent_embed)\n",
        "    return np.array(out)"
      ],
      "execution_count": 0,
      "outputs": []
    },
    {
      "cell_type": "code",
      "metadata": {
        "colab_type": "code",
        "id": "qvaMIEUtnv5M",
        "outputId": "01bd00f1-27b1-4614-a8d7-0765fef70759",
        "colab": {
          "base_uri": "https://localhost:8080/",
          "height": 71
        }
      },
      "source": [
        "embedding = GoogleEmbedding('./drive/My Drive/embedding_model')"
      ],
      "execution_count": 0,
      "outputs": [
        {
          "output_type": "stream",
          "text": [
            "/usr/local/lib/python3.6/dist-packages/smart_open/smart_open_lib.py:253: UserWarning: This function is deprecated, use smart_open.open instead. See the migration notes for details: https://github.com/RaRe-Technologies/smart_open/blob/master/README.rst#migrating-to-the-new-open-function\n",
            "  'See the migration notes for details: %s' % _MIGRATION_NOTES_URL\n"
          ],
          "name": "stderr"
        }
      ]
    },
    {
      "cell_type": "code",
      "metadata": {
        "id": "CA6fHmgwFjsp",
        "colab_type": "code",
        "colab": {}
      },
      "source": [
        "del_lst=[]\n",
        "for i in range(len(data)):\n",
        "    if len(data[:,0][i])==0:\n",
        "        del_lst.append(i)\n",
        "data=np.delete(data,del_lst,axis=0)"
      ],
      "execution_count": 0,
      "outputs": []
    },
    {
      "cell_type": "code",
      "metadata": {
        "id": "fIb_X-h_Fjss",
        "colab_type": "code",
        "colab": {}
      },
      "source": [
        "for i in range(len(data)):\n",
        "    data[:,0][i]=data[:,0][i][:MAX_LEN]"
      ],
      "execution_count": 0,
      "outputs": []
    },
    {
      "cell_type": "code",
      "metadata": {
        "colab_type": "code",
        "id": "I45ic94onxgu",
        "colab": {}
      },
      "source": [
        "reviews_array=embedding(data[:,0])"
      ],
      "execution_count": 0,
      "outputs": []
    },
    {
      "cell_type": "code",
      "metadata": {
        "id": "QsHt-og4Fjsx",
        "colab_type": "code",
        "colab": {}
      },
      "source": [
        "for i in range(len(reviews_array)):\n",
        "    print(i)\n",
        "    avg_vector=np.reshape(np.repeat(np.reshape(np.average(reviews_array[i],axis=0),(1,300)),MAX_LEN-len(reviews_array[i]),axis=0),(MAX_LEN-len(reviews_array[i]),300))\n",
        "    reviews_array[i]=np.concatenate((reviews_array[i],avg_vector),axis=0)"
      ],
      "execution_count": 0,
      "outputs": []
    },
    {
      "cell_type": "code",
      "metadata": {
        "id": "AiPaZiieFjs4",
        "colab_type": "code",
        "colab": {}
      },
      "source": [
        "#CRAN used with word2vec embedding\n",
        "class CRANword2vec(nn.Module):\n",
        "  def __init__(self,embedding_size,cnn_window_length,hidden_units,p_dropout):\n",
        "    super(CRANword2vec, self).__init__()\n",
        "\n",
        "    \"\"\"\n",
        "    inputs:\n",
        "      cnn_num_filters: the number of convolutional kernels, represents the number of output channels parameter in Conv2d\n",
        "      cnn_window_length: in a kernel size of d*l, d represents the embedding size and l represents the window length\n",
        "      LSTM_hidden_units: number of hidden units in LSTM layer\n",
        "      dropout: dropout probability for CNN\n",
        "      embedding_size: length of embedded word vectors \n",
        "    \"\"\"\n",
        "    self.cnn=torch.nn.Conv2d(1,hidden_units,(cnn_window_length,embedding_size), padding=(1,0))\n",
        "    self.dropout=torch.nn.Dropout(p_dropout)\n",
        "    self.rnn=torch.nn.LSTM(embedding_size,hidden_units,1, batch_first=True)\n",
        "    self.hidden_size = hidden_units\n",
        "    self.dense = nn.Linear(hidden_units, 2)\n",
        "  def forward(self,batch,labels):\n",
        "    (N,T,d)=batch.shape\n",
        "    batch=batch.view(N,1,T,d)\n",
        "    #apply convolutional filters to the input sentences\n",
        "    cnn_output=self.cnn(batch)\n",
        "    #cnn_output will be of shape (N,cnn_num_filters,H_out from Pytorch documentation,1)\n",
        "    shape=cnn_output.shape\n",
        "    cnn_output= F.relu(cnn_output.view(N,shape[1],shape[2]))\n",
        "    #average across the different filter outputs\n",
        "    cnn_output=torch.mean(cnn_output,1)\n",
        "    h = batch.new_zeros(1, N, self.hidden_size).float()\n",
        "    c = batch.new_zeros(1, N, self.hidden_size).float()\n",
        "    batch=batch.view(N,T,d)\n",
        "  \n",
        "    lstm_out, (h,c) = self.rnn(batch, (h, c))\n",
        "\n",
        "    s = torch.mean(lstm_out * cnn_output.unsqueeze(2), 1)\n",
        "\n",
        "    pred = F.log_softmax(self.dense(s))\n",
        "    \n",
        "    if self.training:\n",
        "      loss = F.nll_loss(pred, labels)\n",
        "\n",
        "      return loss, pred.argmax(dim=-1)\n",
        "    else:\n",
        "      return pred"
      ],
      "execution_count": 0,
      "outputs": []
    },
    {
      "cell_type": "code",
      "metadata": {
        "id": "8S_iNwXjFjs6",
        "colab_type": "code",
        "colab": {}
      },
      "source": [
        "# training CRAN with word2vec embedding\n",
        "reviews=torch.zeros((len(reviews_array),reviews_array[0].shape[0],reviews_array[0].shape[1])).float()\n",
        "labels=torch.zeros((len(reviews_array)),dtype=torch.long)\n",
        "for i in range(len(reviews_array)):\n",
        "    reviews[i]=torch.tensor(reviews_array[i])\n",
        "    labels[i]=torch.tensor(data[:,1][i])\n",
        "\n",
        "batch_size = 16\n",
        "vocab_size=reviews_vocab.num_word\n",
        "embedding_dim = 300\n",
        "hidden_size = 100\n",
        "cnn_window_length=3\n",
        "lr = 1e-3\n",
        "epoch = 10\n",
        "p_dropout=0.5\n",
        "\n",
        "CRAN_m = CRANword2vec(embedding_dim, cnn_window_length,hidden_size,p_dropout)\n",
        "device = torch.device('cuda:0') # cuda:0 if you have gpu\n",
        "CRAN_m = CRAN_m.to(device)\n",
        "\n",
        "optimizer = torch.optim.Adam(CRAN_m.parameters(), lr=lr)\n",
        "loss_list = []\n",
        "for e in range(epoch):\n",
        "    CRAN_m.train()\n",
        "    permutation=torch.randperm(reviews.size()[0])\n",
        "    for i in range(0,reviews.size()[0],batch_size):\n",
        "        indices = permutation[i:i+batch_size]\n",
        "        reviews_batch, labels_batch = reviews[indices], labels[indices]\n",
        "        reviews_batch=reviews_batch.to(device)\n",
        "        labels_batch=labels_batch.to(device)\n",
        "        loss, pred = CRAN_m(reviews_batch,labels_batch)\n",
        "        loss_list.append(loss.mean().detach())\n",
        "        optimizer.zero_grad()\n",
        "        loss.mean().backward()\n",
        "        optimizer.step()\n",
        "        if i%5000==0:\n",
        "          print('Loss: '+str(loss.mean()))"
      ],
      "execution_count": 0,
      "outputs": []
    }
  ]
}