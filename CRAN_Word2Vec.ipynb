{
 "cells": [
  {
   "cell_type": "code",
   "execution_count": 62,
   "metadata": {
    "colab": {},
    "colab_type": "code",
    "id": "ei_8D2wEj5re"
   },
   "outputs": [],
   "source": [
    "import torch\n",
    "from torch.utils.data import Dataset, DataLoader\n",
    "import os\n",
    "import pickle\n",
    "import numpy as np\n",
    "from sklearn.model_selection import train_test_split\n",
    "from sklearn.metrics import accuracy_score\n",
    "import torch.nn as nn\n",
    "import torch.nn.functional as F\n",
    "import math\n",
    "import gensim\n",
    "from gensim.models import Word2Vec, KeyedVectors\n",
    "from gensim.test.utils import common_texts, get_tmpfile\n",
    "import collections"
   ]
  },
  {
   "cell_type": "markdown",
   "metadata": {
    "colab_type": "text",
    "id": "Nqbbp8CFwL_h"
   },
   "source": [
    "# Movie Review Data Cleaning"
   ]
  },
  {
   "cell_type": "code",
   "execution_count": 2,
   "metadata": {
    "colab": {},
    "colab_type": "code",
    "id": "Ky8sR9Fygoxb"
   },
   "outputs": [],
   "source": [
    "def read_raw(file_name, label):\n",
    "  with open(file_name, 'r') as file:\n",
    "    data = []\n",
    "    for line in file:\n",
    "        processed_line = preprocess_raw(line)\n",
    "        data.append([processed_line.split(), label])\n",
    "  return data\n",
    "\n",
    "def preprocess_raw(text):\n",
    "  text = text.replace('\\u202f', ' ').replace('\\xa0', ' ')\n",
    "  out = ''\n",
    "  for i, char in enumerate(text.lower()):\n",
    "    if char.isalpha()==True or char==' ':\n",
    "      out += char\n",
    "  out=\" \".join(out.split())\n",
    "  return out\n",
    "\n",
    "def build_data(direc):\n",
    "  data=[]\n",
    "  counter=0\n",
    "  for label in ['pos', 'neg']:\n",
    "    label_direc = os.path.join(direc, label)\n",
    "    for filename in os.listdir(label_direc):\n",
    "      if (label == 'pos'):\n",
    "        data += read_raw(os.path.join(label_direc,str(filename)), 1)\n",
    "      else:\n",
    "        data += read_raw(os.path.join(label_direc,str(filename)), 0)\n",
    "      counter += 1\n",
    "  print('Done')\n",
    "  return data"
   ]
  },
  {
   "cell_type": "code",
   "execution_count": 3,
   "metadata": {
    "colab": {},
    "colab_type": "code",
    "id": "cATbAuX8grnR"
   },
   "outputs": [
    {
     "name": "stdout",
     "output_type": "stream",
     "text": [
      "Done\n"
     ]
    }
   ],
   "source": [
    "data = build_data('./txt_sentoken/')"
   ]
  },
  {
   "cell_type": "markdown",
   "metadata": {
    "colab_type": "text",
    "id": "xnYbLt0S5-vO"
   },
   "source": [
    "# Data to File"
   ]
  },
  {
   "cell_type": "code",
   "execution_count": 0,
   "metadata": {
    "colab": {},
    "colab_type": "code",
    "id": "xrAs4EG1DTcd"
   },
   "outputs": [],
   "source": [
    "data = np.array(data)\n",
    "file = open('data', 'wb')\n",
    "pickle.dump(data, file)\n",
    "file.close()"
   ]
  },
  {
   "cell_type": "markdown",
   "metadata": {
    "colab_type": "text",
    "id": "coytsUvQ5-vU"
   },
   "source": [
    "# Movie Review Dataset"
   ]
  },
  {
   "cell_type": "code",
   "execution_count": 5,
   "metadata": {
    "colab": {},
    "colab_type": "code",
    "id": "Q718-47w5-vV"
   },
   "outputs": [],
   "source": [
    "class MovieReviewDataset(Dataset):\n",
    "    def __init__(self, dataset, transform=None):\n",
    "        self.data = dataset\n",
    "        self.transform = transform\n",
    "    \n",
    "    def __getitem__(self, idx):\n",
    "        temp = self.data[idx]\n",
    "        if (self.transform):\n",
    "            temp = self.transform(sample)\n",
    "        \n",
    "        sample = {'sentence': temp[0] ,'label': temp[1]}\n",
    "        return sample\n",
    "    \n",
    "    def __len__(self):\n",
    "        return len(self.data)            "
   ]
  },
  {
   "cell_type": "markdown",
   "metadata": {
    "colab_type": "text",
    "id": "8eV-J5by5-vY"
   },
   "source": [
    "# Load data file"
   ]
  },
  {
   "cell_type": "code",
   "execution_count": 84,
   "metadata": {
    "colab": {
     "base_uri": "https://localhost:8080/",
     "height": 34
    },
    "colab_type": "code",
    "id": "A7zJpLof5-vZ",
    "outputId": "aa58d6d9-bdd1-4080-8405-244d69f18aec"
   },
   "outputs": [],
   "source": [
    "file = open('data', 'rb')\n",
    "data = pickle.load(file)\n",
    "file.close()"
   ]
  },
  {
   "cell_type": "markdown",
   "metadata": {},
   "source": [
    "# Train Embedding Model"
   ]
  },
  {
   "cell_type": "code",
   "execution_count": 0,
   "metadata": {
    "colab": {},
    "colab_type": "code",
    "id": "hucr8u6uievD"
   },
   "outputs": [],
   "source": [
    "embed_model = Word2Vec(size=300, min_count=1)\n",
    "embed_model.build_vocab(data[:,0])\n",
    "total_examples = embed_model.corpus_count\n",
    "pretrained = KeyedVectors.load_word2vec_format(\"GoogleNews-vectors-negative300.bin\", binary=True)\n",
    "embed_model.build_vocab([list(pretrained.vocab.keys())], update=True)\n",
    "embed_model.intersect_word2vec_format(\"GoogleNews-vectors-negative300.bin\", binary=True, lockf=1.0)\n",
    "embed_model.train(data[:,0], total_examples=total_examples, epochs=embed_model.iter)"
   ]
  },
  {
   "cell_type": "markdown",
   "metadata": {},
   "source": [
    "# Save embedding model"
   ]
  },
  {
   "cell_type": "code",
   "execution_count": 0,
   "metadata": {
    "colab": {},
    "colab_type": "code",
    "id": "v_haw40hievH"
   },
   "outputs": [],
   "source": [
    "embed_model.wv.save('embedding_model')"
   ]
  },
  {
   "cell_type": "markdown",
   "metadata": {},
   "source": [
    "# Figures to determine max_freq and sentence length cutoff"
   ]
  },
  {
   "cell_type": "code",
   "execution_count": 8,
   "metadata": {
    "colab": {
     "base_uri": "https://localhost:8080/",
     "height": 281
    },
    "colab_type": "code",
    "id": "oqRcR9SJLjHT",
    "outputId": "9783ff42-a2b3-46b2-cc44-35782f7eef5a"
   },
   "outputs": [
    {
     "data": {
      "image/png": "[encoded data removed]",
      "text/plain": [
       "<Figure size 432x288 with 1 Axes>"
      ]
     },
     "metadata": {
      "needs_background": "light"
     },
     "output_type": "display_data"
    }
   ],
   "source": [
    "text=data[:,0]\n",
    "import collections\n",
    "import numpy as np\n",
    "import matplotlib.pyplot as plt\n",
    "def len_dis(text):\n",
    "  lens = [len(line) for line in text]\n",
    "  len_counter = collections.Counter(lens)\n",
    "\n",
    "  lens = np.array(list(len_counter.keys()))\n",
    "  sort_idx = np.argsort(lens)\n",
    "  lens_sort = lens[sort_idx]\n",
    "  len_counts = np.array(list(len_counter.values()))\n",
    "  len_counts_sort = len_counts[sort_idx]\n",
    "  p = np.cumsum(len_counts_sort) / len_counts_sort.sum()\n",
    "  return p, lens_sort\n",
    "  \n",
    "src_p, src_lens_sort = len_dis(text)\n",
    "plt.plot(src_lens_sort, src_p, 'r-', label='eng')\n",
    "plt.title('Cumulative Distribution of Sentence Length')\n",
    "plt.legend()\n",
    "plt.show()"
   ]
  },
  {
   "cell_type": "code",
   "execution_count": 9,
   "metadata": {
    "colab": {
     "base_uri": "https://localhost:8080/",
     "height": 281
    },
    "colab_type": "code",
    "id": "F7yfDZjVLox2",
    "outputId": "4d71c437-eb25-46b7-ddf6-51d004d168d7"
   },
   "outputs": [
    {
     "data": {
      "image/png": "[encoded data removed]",
      "text/plain": [
       "<Figure size 432x288 with 1 Axes>"
      ]
     },
     "metadata": {
      "needs_background": "light"
     },
     "output_type": "display_data"
    }
   ],
   "source": [
    "def len_dis(text):\n",
    "  words = [token for line in text for token in line]\n",
    "  word_counter = collections.Counter(words)\n",
    "  freq_counter=  collections.Counter(word_counter.values())\n",
    "  freqs = np.array(list(freq_counter.keys()))\n",
    "  freq_length = np.array(list(freq_counter.values()))\n",
    "  sort_idx= np.argsort(freqs)\n",
    "  freq_sort = freqs[sort_idx]\n",
    "  freq_length = np.array(list(freq_counter.values()))\n",
    "  freq_length_sort = freq_length[sort_idx]\n",
    "  p = np.cumsum(freq_length_sort) / freq_length_sort.sum()\n",
    "  return p, freq_sort\n",
    "  \n",
    "src_p, src_lens_sort = len_dis(text)\n",
    "plt.plot(src_lens_sort, src_p, 'r-', label='eng')\n",
    "plt.title('Cumulative Distribution of Word Occurence')\n",
    "plt.legend()\n",
    "axes = plt.gca()\n",
    "axes.set_xlim([1,100])\n",
    "plt.show()"
   ]
  },
  {
   "cell_type": "code",
   "execution_count": 10,
   "metadata": {
    "colab": {},
    "colab_type": "code",
    "id": "zrKjnRgQkTMk"
   },
   "outputs": [],
   "source": [
    "MIN_FREQ=30\n",
    "MAX_LEN=50"
   ]
  },
  {
   "cell_type": "markdown",
   "metadata": {},
   "source": [
    "# Container class for dataset"
   ]
  },
  {
   "cell_type": "code",
   "execution_count": 15,
   "metadata": {
    "colab": {},
    "colab_type": "code",
    "id": "Njv_eA9ZievS"
   },
   "outputs": [],
   "source": [
    "class Vocab():\n",
    "  def __init__(self, name, tokens, min_freq):\n",
    "    self.name = name\n",
    "    self.index2word = {\n",
    "      0: 'pad',\n",
    "      1: 'unk'\n",
    "    }\n",
    "    self.word2index = {v: k for k, v in self.index2word.items()}\n",
    "    self.num_word = 2\n",
    "    token_freq = collections.Counter(tokens)\n",
    "    tokens = [token for token in tokens if token_freq[token] >= MIN_FREQ]\n",
    "    self._build_vocab(tokens)\n",
    "    \n",
    "  def _build_vocab(self, tokens):\n",
    "    for token in tokens:\n",
    "      if token not in self.word2index:\n",
    "        self.word2index[token] = self.num_word\n",
    "        self.index2word[self.num_word] = token\n",
    "        self.num_word += 1\n",
    "        \n",
    "  def __getitem__(self, tokens):\n",
    "    if not isinstance(tokens, (list, tuple)):\n",
    "      return self.word2index.get(tokens, self.word2index['unk'])\n",
    "    else:\n",
    "      return [self.__getitem__(token) for token in tokens]"
   ]
  },
  {
   "cell_type": "code",
   "execution_count": 16,
   "metadata": {
    "colab": {},
    "colab_type": "code",
    "id": "hkgiV8PYnwUx"
   },
   "outputs": [],
   "source": [
    "def build_vocab(name, tokens, min_freq):\n",
    "  sentences=tokens[:,0]\n",
    "  tokens = [token for sentence in sentences for token in sentence]\n",
    "  return Vocab(name, tokens, min_freq)\n",
    "\n",
    "def build_vocabs(lang_src, src_text):\n",
    "  vocab_src = build_vocab(lang_src, src_text, MIN_FREQ)\n",
    "  return vocab_src\n",
    "\n",
    "def pad(line, padding_token):\n",
    "  return line + [padding_token] * (MAX_LEN-len(line))\n",
    "\n",
    "def build_tensor(text, reviews_vocab):\n",
    "  labels=text[:,1]\n",
    "  lines = [reviews_vocab[line] for line in text[:,0]]\n",
    "  lst=[]\n",
    "  for i in range(len(lines)):\n",
    "    padded_sentence=torch.tensor(pad(lines[i],reviews_vocab['pad']))\n",
    "    label=torch.tensor(labels[i])\n",
    "    lst.append([padded_sentence,label])\n",
    "  return lst\n",
    "\n",
    "def load_reviews_data():\n",
    "  reviews_vocab = build_vocabs('reviews', data)\n",
    "  for i in range(len(data[:,0])):\n",
    "    data[:,0][i]=data[:,0][i][:MAX_LEN]\n",
    "  reviews_array = build_tensor(data, reviews_vocab)\n",
    "  return reviews_vocab,reviews_array\n",
    "\n",
    "\n",
    "#source, target = prepare_data(raw_text, max_len=MAX_LEN)\n",
    "#vocab_eng, vocab_fra, train_iter = load_data_nmt(batch_size=2)\n",
    "#print('Vocabulary size of source language: {}'.format(vocab_eng.num_word))\n",
    "#print('Vocabulary size of target language: {}'.format(vocab_fra.num_word))\n",
    "#print('Total number of sentence pairs: {}'.format(len(source)))"
   ]
  },
  {
   "cell_type": "code",
   "execution_count": 17,
   "metadata": {
    "colab": {},
    "colab_type": "code",
    "id": "Wknd8TGe3OS2"
   },
   "outputs": [],
   "source": [
    "reviews_vocab,reviews_array=load_reviews_data()"
   ]
  },
  {
   "cell_type": "markdown",
   "metadata": {},
   "source": [
    "# CRAN used with Pytorch embedding"
   ]
  },
  {
   "cell_type": "code",
   "execution_count": 20,
   "metadata": {
    "colab": {},
    "colab_type": "code",
    "id": "BN4NHZ9eNzfr"
   },
   "outputs": [],
   "source": [
    "class CRAN(nn.Module):\n",
    "  def __init__(self,vocab_size,embedding_size,cnn_window_length,hidden_units,p_dropout):\n",
    "    super(CRAN, self).__init__()\n",
    "\n",
    "    \"\"\"\n",
    "    inputs:\n",
    "      cnn_num_filters: the number of convolutional kernels, represents the number of output channels parameter in Conv2d\n",
    "      cnn_window_length: in a kernel size of d*l, d represents the embedding size and l represents the window length\n",
    "      LSTM_hidden_units: number of hidden units in LSTM layer\n",
    "      dropout: dropout probability for CNN\n",
    "      embedding_size: length of embedded word vectors \n",
    "    \"\"\"\n",
    "    self.embedding=nn.Embedding(vocab_size,embedding_size)\n",
    "    self.cnn=torch.nn.Conv2d(1,hidden_units,(cnn_window_length,embedding_size), padding=(1,0))\n",
    "    self.dropout=torch.nn.Dropout(p_dropout)\n",
    "    self.rnn=torch.nn.LSTM(embedding_size,hidden_units,1, batch_first=True)\n",
    "    self.hidden_size = hidden_units\n",
    "    self.dense = nn.Linear(hidden_units, 2)\n",
    "  def forward(self,batch,labels):\n",
    "    word_embedded=self.embedding(batch)\n",
    "    (N,T,d)=word_embedded.shape\n",
    "    word_embedded=word_embedded.view(N,1,T,d)\n",
    "    #apply convolutional filters to the input sentences\n",
    "    cnn_output=self.cnn(word_embedded)\n",
    "    #cnn_output will be of shape (N,cnn_num_filters,H_out from Pytorch documentation,1)\n",
    "    shape=cnn_output.shape\n",
    "    cnn_output= F.relu(cnn_output.view(N,shape[1],shape[2]))\n",
    "    #average across the different filter outputs\n",
    "    cnn_output=torch.mean(cnn_output,1)\n",
    "    h = batch.new_zeros(1, N, self.hidden_size).float()\n",
    "    c = batch.new_zeros(1, N, self.hidden_size).float()\n",
    "    word_embedded=word_embedded.view(N,T,d)\n",
    "  \n",
    "    lstm_out, (h,c) = self.rnn(word_embedded, (h, c))\n",
    "\n",
    "    s = torch.mean(lstm_out * cnn_output.unsqueeze(2), 1)\n",
    "\n",
    "    pred = F.log_softmax(self.dense(s))\n",
    "    \n",
    "    if self.training:\n",
    "      loss = F.nll_loss(pred, labels)\n",
    "\n",
    "      return loss, pred.argmax(dim=-1)\n",
    "    else:\n",
    "      return pred"
   ]
  },
  {
   "cell_type": "markdown",
   "metadata": {},
   "source": [
    "# training CRAN with Pytorch embedding"
   ]
  },
  {
   "cell_type": "code",
   "execution_count": 21,
   "metadata": {
    "colab": {},
    "colab_type": "code",
    "id": "nq7hfnE_PjLf",
    "outputId": "0c7822fa-2633-45ae-c3b1-c47ba436b6f4"
   },
   "outputs": [
    {
     "name": "stdout",
     "output_type": "stream",
     "text": [
      "tensor(0.6880, device='cuda:0', grad_fn=<MeanBackward0>)\n",
      "tensor(0.6909, device='cuda:0', grad_fn=<MeanBackward0>)\n",
      "tensor(0.7177, device='cuda:0', grad_fn=<MeanBackward0>)\n",
      "tensor(0.6778, device='cuda:0', grad_fn=<MeanBackward0>)\n",
      "tensor(0.6197, device='cuda:0', grad_fn=<MeanBackward0>)\n",
      "tensor(0.7317, device='cuda:0', grad_fn=<MeanBackward0>)\n",
      "tensor(0.6719, device='cuda:0', grad_fn=<MeanBackward0>)\n",
      "tensor(0.5475, device='cuda:0', grad_fn=<MeanBackward0>)\n",
      "tensor(0.5228, device='cuda:0', grad_fn=<MeanBackward0>)\n",
      "tensor(0.5581, device='cuda:0', grad_fn=<MeanBackward0>)\n",
      "tensor(0.5063, device='cuda:0', grad_fn=<MeanBackward0>)\n",
      "tensor(0.8008, device='cuda:0', grad_fn=<MeanBackward0>)\n",
      "tensor(0.5562, device='cuda:0', grad_fn=<MeanBackward0>)\n",
      "tensor(0.5477, device='cuda:0', grad_fn=<MeanBackward0>)\n",
      "tensor(0.6435, device='cuda:0', grad_fn=<MeanBackward0>)\n",
      "tensor(0.5599, device='cuda:0', grad_fn=<MeanBackward0>)\n"
     ]
    },
    {
     "ename": "KeyboardInterrupt",
     "evalue": "",
     "output_type": "error",
     "traceback": [
      "\u001b[1;31m---------------------------------------------------------------------------\u001b[0m",
      "\u001b[1;31mKeyboardInterrupt\u001b[0m                         Traceback (most recent call last)",
      "\u001b[1;32m<ipython-input-21-cef542745214>\u001b[0m in \u001b[0;36m<module>\u001b[1;34m\u001b[0m\n\u001b[0;32m     32\u001b[0m     \u001b[0mloss_list\u001b[0m\u001b[1;33m.\u001b[0m\u001b[0mappend\u001b[0m\u001b[1;33m(\u001b[0m\u001b[0mloss\u001b[0m\u001b[1;33m.\u001b[0m\u001b[0mmean\u001b[0m\u001b[1;33m(\u001b[0m\u001b[1;33m)\u001b[0m\u001b[1;33m.\u001b[0m\u001b[0mdetach\u001b[0m\u001b[1;33m(\u001b[0m\u001b[1;33m)\u001b[0m\u001b[1;33m)\u001b[0m\u001b[1;33m\u001b[0m\u001b[1;33m\u001b[0m\u001b[0m\n\u001b[0;32m     33\u001b[0m     \u001b[0moptimizer\u001b[0m\u001b[1;33m.\u001b[0m\u001b[0mzero_grad\u001b[0m\u001b[1;33m(\u001b[0m\u001b[1;33m)\u001b[0m\u001b[1;33m\u001b[0m\u001b[1;33m\u001b[0m\u001b[0m\n\u001b[1;32m---> 34\u001b[1;33m     \u001b[0mloss\u001b[0m\u001b[1;33m.\u001b[0m\u001b[0mmean\u001b[0m\u001b[1;33m(\u001b[0m\u001b[1;33m)\u001b[0m\u001b[1;33m.\u001b[0m\u001b[0mbackward\u001b[0m\u001b[1;33m(\u001b[0m\u001b[1;33m)\u001b[0m\u001b[1;33m\u001b[0m\u001b[1;33m\u001b[0m\u001b[0m\n\u001b[0m\u001b[0;32m     35\u001b[0m     \u001b[0moptimizer\u001b[0m\u001b[1;33m.\u001b[0m\u001b[0mstep\u001b[0m\u001b[1;33m(\u001b[0m\u001b[1;33m)\u001b[0m\u001b[1;33m\u001b[0m\u001b[1;33m\u001b[0m\u001b[0m\n\u001b[0;32m     36\u001b[0m     \u001b[1;32mif\u001b[0m \u001b[0mi\u001b[0m\u001b[1;33m%\u001b[0m\u001b[1;36m5000\u001b[0m\u001b[1;33m==\u001b[0m\u001b[1;36m0\u001b[0m\u001b[1;33m:\u001b[0m\u001b[1;33m\u001b[0m\u001b[1;33m\u001b[0m\u001b[0m\n",
      "\u001b[1;32m~\\AppData\\Local\\Programs\\Python\\Python37\\lib\\site-packages\\torch\\tensor.py\u001b[0m in \u001b[0;36mbackward\u001b[1;34m(self, gradient, retain_graph, create_graph)\u001b[0m\n\u001b[0;32m    193\u001b[0m                 \u001b[0mproducts\u001b[0m\u001b[1;33m.\u001b[0m \u001b[0mDefaults\u001b[0m \u001b[0mto\u001b[0m\u001b[0;31m \u001b[0m\u001b[0;31m`\u001b[0m\u001b[0;31m`\u001b[0m\u001b[1;32mFalse\u001b[0m\u001b[0;31m`\u001b[0m\u001b[0;31m`\u001b[0m\u001b[1;33m.\u001b[0m\u001b[1;33m\u001b[0m\u001b[1;33m\u001b[0m\u001b[0m\n\u001b[0;32m    194\u001b[0m         \"\"\"\n\u001b[1;32m--> 195\u001b[1;33m         \u001b[0mtorch\u001b[0m\u001b[1;33m.\u001b[0m\u001b[0mautograd\u001b[0m\u001b[1;33m.\u001b[0m\u001b[0mbackward\u001b[0m\u001b[1;33m(\u001b[0m\u001b[0mself\u001b[0m\u001b[1;33m,\u001b[0m \u001b[0mgradient\u001b[0m\u001b[1;33m,\u001b[0m \u001b[0mretain_graph\u001b[0m\u001b[1;33m,\u001b[0m \u001b[0mcreate_graph\u001b[0m\u001b[1;33m)\u001b[0m\u001b[1;33m\u001b[0m\u001b[1;33m\u001b[0m\u001b[0m\n\u001b[0m\u001b[0;32m    196\u001b[0m \u001b[1;33m\u001b[0m\u001b[0m\n\u001b[0;32m    197\u001b[0m     \u001b[1;32mdef\u001b[0m \u001b[0mregister_hook\u001b[0m\u001b[1;33m(\u001b[0m\u001b[0mself\u001b[0m\u001b[1;33m,\u001b[0m \u001b[0mhook\u001b[0m\u001b[1;33m)\u001b[0m\u001b[1;33m:\u001b[0m\u001b[1;33m\u001b[0m\u001b[1;33m\u001b[0m\u001b[0m\n",
      "\u001b[1;32m~\\AppData\\Local\\Programs\\Python\\Python37\\lib\\site-packages\\torch\\autograd\\__init__.py\u001b[0m in \u001b[0;36mbackward\u001b[1;34m(tensors, grad_tensors, retain_graph, create_graph, grad_variables)\u001b[0m\n\u001b[0;32m     97\u001b[0m     Variable._execution_engine.run_backward(\n\u001b[0;32m     98\u001b[0m         \u001b[0mtensors\u001b[0m\u001b[1;33m,\u001b[0m \u001b[0mgrad_tensors\u001b[0m\u001b[1;33m,\u001b[0m \u001b[0mretain_graph\u001b[0m\u001b[1;33m,\u001b[0m \u001b[0mcreate_graph\u001b[0m\u001b[1;33m,\u001b[0m\u001b[1;33m\u001b[0m\u001b[1;33m\u001b[0m\u001b[0m\n\u001b[1;32m---> 99\u001b[1;33m         allow_unreachable=True)  # allow_unreachable flag\n\u001b[0m\u001b[0;32m    100\u001b[0m \u001b[1;33m\u001b[0m\u001b[0m\n\u001b[0;32m    101\u001b[0m \u001b[1;33m\u001b[0m\u001b[0m\n",
      "\u001b[1;31mKeyboardInterrupt\u001b[0m: "
     ]
    }
   ],
   "source": [
    "reviews=torch.zeros((len(reviews_array),len(reviews_array[0][0])),dtype=torch.long)\n",
    "labels=torch.zeros((len(reviews_array)),dtype=torch.long)\n",
    "for i in range(len(reviews_array)):\n",
    "  reviews[i]=torch.tensor(reviews_array[i][0])\n",
    "  labels[i]=torch.tensor(reviews_array[i][1])\n",
    "\n",
    "batch_size = 16\n",
    "vocab_size=reviews_vocab.num_word\n",
    "embedding_dim = 100\n",
    "hidden_size = 100\n",
    "cnn_window_length=3\n",
    "lr = 1e-3\n",
    "epoch = 10\n",
    "p_dropout=0.5\n",
    "\n",
    "CRAN_m = CRAN(vocab_size, embedding_dim, cnn_window_length,hidden_size,p_dropout)\n",
    "device = torch.device('cuda:0') # cuda:0 if you have gpu\n",
    "CRAN_m = CRAN_m.to(device)\n",
    "\n",
    "optimizer = torch.optim.Adam(CRAN_m.parameters(), lr=lr)\n",
    "loss_list = []\n",
    "for e in range(epoch):\n",
    "  CRAN_m.train()\n",
    "  permutation=torch.randperm(reviews.size()[0])\n",
    "  for i in range(0,reviews.size()[0],batch_size):\n",
    "    indices = permutation[i:i+batch_size]\n",
    "    reviews_batch, labels_batch = reviews[indices], labels[indices]\n",
    "    reviews_batch=reviews_batch.to(device)\n",
    "    labels_batch=labels_batch.to(device)\n",
    "    loss, pred = CRAN_m(reviews_batch,labels_batch)\n",
    "    loss_list.append(loss.mean().detach())\n",
    "    optimizer.zero_grad()\n",
    "    loss.mean().backward()\n",
    "    optimizer.step()\n",
    "    if i%5000==0:\n",
    "      print(loss.mean())"
   ]
  },
  {
   "cell_type": "markdown",
   "metadata": {},
   "source": [
    "# Google Embedding"
   ]
  },
  {
   "cell_type": "code",
   "execution_count": 81,
   "metadata": {
    "colab": {},
    "colab_type": "code",
    "id": "kDOtN_X9nhcK"
   },
   "outputs": [],
   "source": [
    "class GoogleEmbedding(nn.Module):\n",
    "  def __init__(self, model_path):\n",
    "    super(GoogleEmbedding, self).__init__()\n",
    "\n",
    "    # Load Google's pre-trained Word2Vec model.\n",
    "    self.model = KeyedVectors.load(model_path, mmap='r')\n",
    "\n",
    "  def forward(self, batch):\n",
    "    out = []\n",
    "    for sent in batch:\n",
    "      sent_embed = []\n",
    "      for word in sent:\n",
    "        sent_embed.append(self.model[word])\n",
    "      \n",
    "      sent_embed = np.array(sent_embed)\n",
    "      out.append(sent_embed)\n",
    "    return np.array(out)"
   ]
  },
  {
   "cell_type": "code",
   "execution_count": 82,
   "metadata": {
    "colab": {
     "base_uri": "https://localhost:8080/",
     "height": 71
    },
    "colab_type": "code",
    "id": "qvaMIEUtnv5M",
    "outputId": "01bd00f1-27b1-4614-a8d7-0765fef70759"
   },
   "outputs": [],
   "source": [
    "embedding = GoogleEmbedding('embedding_model')"
   ]
  },
  {
   "cell_type": "code",
   "execution_count": 85,
   "metadata": {
    "colab": {},
    "colab_type": "code",
    "id": "CA6fHmgwFjsp"
   },
   "outputs": [],
   "source": [
    "# removing empty sentences\n",
    "del_lst=[]\n",
    "for i in range(len(data)):\n",
    "    if len(data[:,0][i])==0:\n",
    "        del_lst.append(i)\n",
    "data=np.delete(data,del_lst,axis=0)"
   ]
  },
  {
   "cell_type": "code",
   "execution_count": 86,
   "metadata": {
    "colab": {},
    "colab_type": "code",
    "id": "fIb_X-h_Fjss"
   },
   "outputs": [],
   "source": [
    "# limit sentence length\n",
    "for i in range(len(data)):\n",
    "    data[:,0][i]=data[:,0][i][:MAX_LEN]"
   ]
  },
  {
   "cell_type": "markdown",
   "metadata": {},
   "source": [
    "# Embedded Movie Review dataset "
   ]
  },
  {
   "cell_type": "code",
   "execution_count": 87,
   "metadata": {
    "colab": {},
    "colab_type": "code",
    "id": "I45ic94onxgu"
   },
   "outputs": [],
   "source": [
    "reviews_array=embedding(data[:,0])"
   ]
  },
  {
   "cell_type": "code",
   "execution_count": 88,
   "metadata": {
    "colab": {},
    "colab_type": "code",
    "id": "QsHt-og4Fjsx"
   },
   "outputs": [
    {
     "name": "stdout",
     "output_type": "stream",
     "text": [
      "0\n",
      "1000\n",
      "2000\n",
      "3000\n",
      "4000\n",
      "5000\n",
      "6000\n",
      "7000\n",
      "8000\n",
      "9000\n",
      "10000\n",
      "11000\n",
      "12000\n",
      "13000\n",
      "14000\n",
      "15000\n",
      "16000\n",
      "17000\n",
      "18000\n",
      "19000\n",
      "20000\n",
      "21000\n",
      "22000\n",
      "23000\n",
      "24000\n",
      "25000\n",
      "26000\n",
      "27000\n",
      "28000\n",
      "29000\n",
      "30000\n",
      "31000\n",
      "32000\n",
      "33000\n",
      "34000\n",
      "35000\n",
      "36000\n",
      "37000\n",
      "38000\n",
      "39000\n",
      "40000\n",
      "41000\n",
      "42000\n",
      "43000\n",
      "44000\n",
      "45000\n",
      "46000\n",
      "47000\n",
      "48000\n",
      "49000\n",
      "50000\n",
      "51000\n",
      "52000\n",
      "53000\n",
      "54000\n",
      "55000\n",
      "56000\n",
      "57000\n",
      "58000\n",
      "59000\n",
      "60000\n",
      "61000\n",
      "62000\n",
      "63000\n",
      "64000\n"
     ]
    }
   ],
   "source": [
    "for i in range(len(reviews_array)):\n",
    "    if (i % 1000 == 0):\n",
    "        print(i)\n",
    "    avg_vector=np.reshape(np.repeat(np.reshape(np.average(reviews_array[i],axis=0),(1,300)),MAX_LEN-len(reviews_array[i]),axis=0),(MAX_LEN-len(reviews_array[i]),300))\n",
    "    reviews_array[i]=np.concatenate((reviews_array[i],avg_vector),axis=0)"
   ]
  },
  {
   "cell_type": "markdown",
   "metadata": {},
   "source": [
    "# CRAN with Google embedding attention random init"
   ]
  },
  {
   "cell_type": "code",
   "execution_count": 30,
   "metadata": {
    "colab": {},
    "colab_type": "code",
    "id": "AiPaZiieFjs4"
   },
   "outputs": [],
   "source": [
    "#CRAN used with word2vec embedding\n",
    "class CRANword2vec(nn.Module):\n",
    "  def __init__(self,embedding_size,cnn_window_length,hidden_units,p_dropout):\n",
    "    super(CRANword2vec, self).__init__()\n",
    "\n",
    "    \"\"\"\n",
    "    inputs:\n",
    "      cnn_num_filters: the number of convolutional kernels, represents the number of output channels parameter in Conv2d\n",
    "      cnn_window_length: in a kernel size of d*l, d represents the embedding size and l represents the window length\n",
    "      LSTM_hidden_units: number of hidden units in LSTM layer\n",
    "      dropout: dropout probability for CNN\n",
    "      embedding_size: length of embedded word vectors \n",
    "    \"\"\"\n",
    "    self.cnn=torch.nn.Conv2d(1,hidden_units,(cnn_window_length,embedding_size), padding=(1,0))\n",
    "    self.dropout=torch.nn.Dropout(p_dropout)\n",
    "    self.rnn=torch.nn.LSTM(embedding_size,hidden_units,1, batch_first=True)\n",
    "    self.hidden_size = hidden_units\n",
    "    self.dense = nn.Linear(hidden_units, 2)\n",
    "  def forward(self,batch,labels):\n",
    "    (N,T,d)=batch.shape\n",
    "    batch=batch.view(N,1,T,d)\n",
    "    #apply convolutional filters to the input sentences\n",
    "    cnn_output=self.cnn(batch)\n",
    "    #cnn_output will be of shape (N,cnn_num_filters,H_out from Pytorch documentation,1)\n",
    "    shape=cnn_output.shape\n",
    "    cnn_output= F.relu(cnn_output.view(N,shape[1],shape[2]))\n",
    "    #average across the different filter outputs\n",
    "    cnn_output=torch.mean(cnn_output,1)\n",
    "    h = batch.new_zeros(1, N, self.hidden_size).float()\n",
    "    c = batch.new_zeros(1, N, self.hidden_size).float()\n",
    "    batch=batch.view(N,T,d)\n",
    "  \n",
    "    lstm_out, (h,c) = self.rnn(batch, (h, c))\n",
    "\n",
    "    s = torch.mean(lstm_out * cnn_output.unsqueeze(2), 1)\n",
    "\n",
    "    pred = F.log_softmax(self.dense(s))\n",
    "    \n",
    "    if self.training:\n",
    "      loss = F.nll_loss(pred, labels)\n",
    "\n",
    "      return loss, pred.argmax(dim=-1)\n",
    "    else:\n",
    "      return pred"
   ]
  },
  {
   "cell_type": "markdown",
   "metadata": {},
   "source": [
    "# Convert data to tensor"
   ]
  },
  {
   "cell_type": "code",
   "execution_count": 89,
   "metadata": {},
   "outputs": [],
   "source": [
    "# training CRAN with word2vec embedding\n",
    "reviews=torch.zeros((len(reviews_array),reviews_array[0].shape[0],reviews_array[0].shape[1])).float()\n",
    "labels=torch.zeros((len(reviews_array)),dtype=torch.long)\n",
    "for i in range(len(reviews_array)):\n",
    "    reviews[i]=torch.tensor(reviews_array[i])\n",
    "    labels[i]=torch.tensor(data[:,1][i])"
   ]
  },
  {
   "cell_type": "markdown",
   "metadata": {},
   "source": [
    "# Train CRAN"
   ]
  },
  {
   "cell_type": "code",
   "execution_count": 80,
   "metadata": {
    "colab": {},
    "colab_type": "code",
    "id": "8S_iNwXjFjs6"
   },
   "outputs": [
    {
     "name": "stdout",
     "output_type": "stream",
     "text": [
      "torch.Size([100, 1, 3, 300])\n"
     ]
    },
    {
     "data": {
      "text/plain": [
       "\"\\noptimizer = torch.optim.Adadelta(CRAN_m.parameters(), lr=lr)\\nloss_list = []\\nfor e in range(epoch):\\n    CRAN_m.train()\\n    permutation=torch.randperm(reviews.size()[0])\\n    for i in range(0,reviews.size()[0],batch_size):\\n        indices = permutation[i:i+batch_size]\\n        reviews_batch, labels_batch = reviews[indices], labels[indices]\\n        reviews_batch=reviews_batch.to(device)\\n        labels_batch=labels_batch.to(device)\\n        loss, pred = CRAN_m(reviews_batch,labels_batch)\\n        loss_list.append(loss.mean().detach())\\n        optimizer.zero_grad()\\n        loss.mean().backward()\\n        optimizer.step()\\n        if i%5000==0:\\n          print('Loss: '+str(loss.mean()))\\n\""
      ]
     },
     "execution_count": 80,
     "metadata": {},
     "output_type": "execute_result"
    }
   ],
   "source": [
    "batch_size = 16\n",
    "vocab_size=reviews_vocab.num_word\n",
    "embedding_dim = 300\n",
    "hidden_size = 100\n",
    "cnn_window_length=3\n",
    "lr = 1e-3\n",
    "epoch = 10\n",
    "p_dropout=0.5\n",
    "\n",
    "CRAN_m = CRANword2vec(embedding_dim, cnn_window_length,hidden_size,p_dropout)\n",
    "device = torch.device('cuda:0') # cuda:0 if you have gpu\n",
    "CRAN_m = CRAN_m.to(device)\n",
    "\n",
    "optimizer = torch.optim.Adadelta(CRAN_m.parameters(), lr=lr)\n",
    "loss_list = []\n",
    "for e in range(epoch):\n",
    "    CRAN_m.train()\n",
    "    permutation=torch.randperm(reviews.size()[0])\n",
    "    for i in range(0,reviews.size()[0],batch_size):\n",
    "        indices = permutation[i:i+batch_size]\n",
    "        reviews_batch, labels_batch = reviews[indices], labels[indices]\n",
    "        reviews_batch=reviews_batch.to(device)\n",
    "        labels_batch=labels_batch.to(device)\n",
    "        loss, pred = CRAN_m(reviews_batch,labels_batch)\n",
    "        loss_list.append(loss.mean().detach())\n",
    "        optimizer.zero_grad()\n",
    "        loss.mean().backward()\n",
    "        optimizer.step()\n",
    "        if i%5000==0:\n",
    "          print('Loss: '+str(loss.mean()))"
   ]
  },
  {
   "cell_type": "markdown",
   "metadata": {},
   "source": [
    "# CAN (CRAN without LSTM)"
   ]
  },
  {
   "cell_type": "code",
   "execution_count": 109,
   "metadata": {},
   "outputs": [],
   "source": [
    "#CRAN used with word2vec embedding\n",
    "class CAN(nn.Module):\n",
    "  def __init__(self,embedding_size,cnn_window_length,hidden_units,p_dropout):\n",
    "    super(CAN, self).__init__()\n",
    "\n",
    "    \"\"\"\n",
    "    inputs:\n",
    "      cnn_num_filters: the number of convolutional kernels, represents the number of output channels parameter in Conv2d\n",
    "      cnn_window_length: in a kernel size of d*l, d represents the embedding size and l represents the window length\n",
    "      LSTM_hidden_units: number of hidden units in LSTM layer\n",
    "      dropout: dropout probability for CNN\n",
    "      embedding_size: length of embedded word vectors \n",
    "    \"\"\"\n",
    "    self.cnn=torch.nn.Conv2d(1,hidden_units,(cnn_window_length,embedding_size), padding=(1,0))\n",
    "    self.dropout=torch.nn.Dropout(p_dropout)\n",
    "    self.hidden_size = hidden_units\n",
    "    self.dense = nn.Linear(hidden_units*MAX_LEN, 2)\n",
    "  def forward(self,batch,labels):\n",
    "    (N,T,d)=batch.shape\n",
    "    #apply convolutional filters to the input sentences\n",
    "    cnn_output=self.cnn(batch.view(N,1,T,d))\n",
    "    #cnn_output will be of shape (N,cnn_num_filters,H_out from Pytorch documentation,1)\n",
    "    shape=cnn_output.shape\n",
    "    cnn_output= F.relu(cnn_output.squeeze(3))\n",
    "\n",
    "    s = cnn_output.view(N, -1)\n",
    "\n",
    "    pred = F.log_softmax(self.dense(s))\n",
    "    \n",
    "    if self.training:\n",
    "      loss = F.nll_loss(pred, labels)\n",
    "\n",
    "      return loss, pred.argmax(dim=-1)\n",
    "    else:\n",
    "      return pred"
   ]
  },
  {
   "cell_type": "markdown",
   "metadata": {},
   "source": [
    "# Train CAN"
   ]
  },
  {
   "cell_type": "code",
   "execution_count": 104,
   "metadata": {},
   "outputs": [
    {
     "name": "stderr",
     "output_type": "stream",
     "text": [
      "C:\\Users\\sidmu\\AppData\\Local\\Programs\\Python\\Python37\\lib\\site-packages\\ipykernel_launcher.py:28: UserWarning: Implicit dimension choice for log_softmax has been deprecated. Change the call to include dim=X as an argument.\n"
     ]
    },
    {
     "name": "stdout",
     "output_type": "stream",
     "text": [
      "Loss: tensor(0.9689, device='cuda:0', grad_fn=<MeanBackward0>)\n",
      "Loss: tensor(0.6919, device='cuda:0', grad_fn=<MeanBackward0>)\n",
      "Loss: tensor(0.6972, device='cuda:0', grad_fn=<MeanBackward0>)\n",
      "Loss: tensor(0.6849, device='cuda:0', grad_fn=<MeanBackward0>)\n",
      "Loss: tensor(0.6776, device='cuda:0', grad_fn=<MeanBackward0>)\n",
      "Loss: tensor(0.7006, device='cuda:0', grad_fn=<MeanBackward0>)\n",
      "Loss: tensor(0.6941, device='cuda:0', grad_fn=<MeanBackward0>)\n",
      "Loss: tensor(0.6926, device='cuda:0', grad_fn=<MeanBackward0>)\n",
      "Loss: tensor(0.6962, device='cuda:0', grad_fn=<MeanBackward0>)\n",
      "Loss: tensor(0.6637, device='cuda:0', grad_fn=<MeanBackward0>)\n",
      "Loss: tensor(0.6974, device='cuda:0', grad_fn=<MeanBackward0>)\n",
      "Loss: tensor(0.6923, device='cuda:0', grad_fn=<MeanBackward0>)\n",
      "Loss: tensor(0.7036, device='cuda:0', grad_fn=<MeanBackward0>)\n",
      "Loss: tensor(0.6972, device='cuda:0', grad_fn=<MeanBackward0>)\n",
      "Loss: tensor(0.6748, device='cuda:0', grad_fn=<MeanBackward0>)\n",
      "Loss: tensor(0.6169, device='cuda:0', grad_fn=<MeanBackward0>)\n",
      "Loss: tensor(0.7086, device='cuda:0', grad_fn=<MeanBackward0>)\n",
      "Loss: tensor(0.7366, device='cuda:0', grad_fn=<MeanBackward0>)\n",
      "Loss: tensor(0.6453, device='cuda:0', grad_fn=<MeanBackward0>)\n",
      "Loss: tensor(0.6717, device='cuda:0', grad_fn=<MeanBackward0>)\n",
      "Loss: tensor(0.6949, device='cuda:0', grad_fn=<MeanBackward0>)\n",
      "Loss: tensor(0.6596, device='cuda:0', grad_fn=<MeanBackward0>)\n",
      "Loss: tensor(0.8061, device='cuda:0', grad_fn=<MeanBackward0>)\n",
      "Loss: tensor(0.6577, device='cuda:0', grad_fn=<MeanBackward0>)\n",
      "Loss: tensor(0.6938, device='cuda:0', grad_fn=<MeanBackward0>)\n",
      "Loss: tensor(0.6422, device='cuda:0', grad_fn=<MeanBackward0>)\n",
      "Loss: tensor(0.6552, device='cuda:0', grad_fn=<MeanBackward0>)\n",
      "Loss: tensor(0.5830, device='cuda:0', grad_fn=<MeanBackward0>)\n",
      "Loss: tensor(0.6433, device='cuda:0', grad_fn=<MeanBackward0>)\n",
      "Loss: tensor(0.5874, device='cuda:0', grad_fn=<MeanBackward0>)\n",
      "Loss: tensor(0.6642, device='cuda:0', grad_fn=<MeanBackward0>)\n",
      "Loss: tensor(0.6284, device='cuda:0', grad_fn=<MeanBackward0>)\n",
      "Loss: tensor(0.5421, device='cuda:0', grad_fn=<MeanBackward0>)\n",
      "Loss: tensor(0.7033, device='cuda:0', grad_fn=<MeanBackward0>)\n",
      "Loss: tensor(0.6199, device='cuda:0', grad_fn=<MeanBackward0>)\n",
      "Loss: tensor(0.5851, device='cuda:0', grad_fn=<MeanBackward0>)\n",
      "Loss: tensor(0.5848, device='cuda:0', grad_fn=<MeanBackward0>)\n",
      "Loss: tensor(0.6504, device='cuda:0', grad_fn=<MeanBackward0>)\n",
      "Loss: tensor(0.6298, device='cuda:0', grad_fn=<MeanBackward0>)\n",
      "Loss: tensor(0.6753, device='cuda:0', grad_fn=<MeanBackward0>)\n",
      "Loss: tensor(0.6884, device='cuda:0', grad_fn=<MeanBackward0>)\n",
      "Loss: tensor(0.4049, device='cuda:0', grad_fn=<MeanBackward0>)\n",
      "Loss: tensor(0.5738, device='cuda:0', grad_fn=<MeanBackward0>)\n",
      "Loss: tensor(0.6009, device='cuda:0', grad_fn=<MeanBackward0>)\n",
      "Loss: tensor(0.5236, device='cuda:0', grad_fn=<MeanBackward0>)\n",
      "Loss: tensor(0.6158, device='cuda:0', grad_fn=<MeanBackward0>)\n",
      "Loss: tensor(0.4899, device='cuda:0', grad_fn=<MeanBackward0>)\n",
      "Loss: tensor(0.5480, device='cuda:0', grad_fn=<MeanBackward0>)\n",
      "Loss: tensor(0.5523, device='cuda:0', grad_fn=<MeanBackward0>)\n",
      "Loss: tensor(0.6575, device='cuda:0', grad_fn=<MeanBackward0>)\n",
      "Loss: tensor(0.5606, device='cuda:0', grad_fn=<MeanBackward0>)\n",
      "Loss: tensor(0.6723, device='cuda:0', grad_fn=<MeanBackward0>)\n",
      "Loss: tensor(0.6904, device='cuda:0', grad_fn=<MeanBackward0>)\n",
      "Loss: tensor(0.5308, device='cuda:0', grad_fn=<MeanBackward0>)\n",
      "Loss: tensor(0.6116, device='cuda:0', grad_fn=<MeanBackward0>)\n",
      "Loss: tensor(0.6921, device='cuda:0', grad_fn=<MeanBackward0>)\n",
      "Loss: tensor(0.5175, device='cuda:0', grad_fn=<MeanBackward0>)\n",
      "Loss: tensor(0.5261, device='cuda:0', grad_fn=<MeanBackward0>)\n",
      "Loss: tensor(0.5347, device='cuda:0', grad_fn=<MeanBackward0>)\n",
      "Loss: tensor(0.5269, device='cuda:0', grad_fn=<MeanBackward0>)\n",
      "Loss: tensor(0.5923, device='cuda:0', grad_fn=<MeanBackward0>)\n",
      "Loss: tensor(0.5148, device='cuda:0', grad_fn=<MeanBackward0>)\n",
      "Loss: tensor(0.5269, device='cuda:0', grad_fn=<MeanBackward0>)\n",
      "Loss: tensor(0.6438, device='cuda:0', grad_fn=<MeanBackward0>)\n",
      "Loss: tensor(0.4287, device='cuda:0', grad_fn=<MeanBackward0>)\n",
      "Loss: tensor(0.4560, device='cuda:0', grad_fn=<MeanBackward0>)\n",
      "Loss: tensor(0.5594, device='cuda:0', grad_fn=<MeanBackward0>)\n",
      "Loss: tensor(0.4325, device='cuda:0', grad_fn=<MeanBackward0>)\n",
      "Loss: tensor(0.4405, device='cuda:0', grad_fn=<MeanBackward0>)\n",
      "Loss: tensor(0.4530, device='cuda:0', grad_fn=<MeanBackward0>)\n"
     ]
    }
   ],
   "source": [
    "batch_size = 16\n",
    "vocab_size=reviews_vocab.num_word\n",
    "embedding_dim = 300\n",
    "hidden_size = 100\n",
    "cnn_window_length=3\n",
    "lr = 1e-3\n",
    "epoch = 10\n",
    "p_dropout=0.5\n",
    "\n",
    "CAN_m = CAN(embedding_dim, cnn_window_length,hidden_size,p_dropout)\n",
    "device = torch.device('cuda:0') # cuda:0 if you have gpu\n",
    "CAN_m = CAN_m.to(device)\n",
    "\n",
    "optimizer = torch.optim.Adam(CAN_m.parameters(), lr=lr)\n",
    "loss_list = []\n",
    "for e in range(epoch):\n",
    "    CRAN_m.train()\n",
    "    permutation=torch.randperm(reviews.size()[0])\n",
    "    for i in range(0,reviews.size()[0],batch_size):\n",
    "        indices = permutation[i:i+batch_size]\n",
    "        reviews_batch, labels_batch = reviews[indices], labels[indices]\n",
    "        reviews_batch=reviews_batch.to(device)\n",
    "        labels_batch=labels_batch.to(device)\n",
    "        loss, pred = CAN_m(reviews_batch,labels_batch)\n",
    "        loss_list.append(loss.mean().detach())\n",
    "        optimizer.zero_grad()\n",
    "        loss.mean().backward()\n",
    "        optimizer.step()\n",
    "        if i%5000==0:\n",
    "          print('Loss: '+str(loss.mean()))"
   ]
  },
  {
   "cell_type": "markdown",
   "metadata": {},
   "source": [
    "# Pretrained CAN Params"
   ]
  },
  {
   "cell_type": "code",
   "execution_count": 106,
   "metadata": {},
   "outputs": [
    {
     "name": "stdout",
     "output_type": "stream",
     "text": [
      "0.6875\n"
     ]
    },
    {
     "name": "stderr",
     "output_type": "stream",
     "text": [
      "C:\\Users\\sidmu\\AppData\\Local\\Programs\\Python\\Python37\\lib\\site-packages\\ipykernel_launcher.py:28: UserWarning: Implicit dimension choice for log_softmax has been deprecated. Change the call to include dim=X as an argument.\n"
     ]
    }
   ],
   "source": [
    "CAN_m.eval()\n",
    "permutation=torch.randperm(reviews.size()[0])\n",
    "indices = permutation[i:i+batch_size]\n",
    "reviews_batch, labels_batch = reviews[indices], labels[indices]\n",
    "reviews_batch=reviews_batch.to(device)\n",
    "labels_batch=labels_batch.to(device)\n",
    "pred = CAN_m(reviews_batch,labels_batch)\n",
    "print(accuracy_score(labels_batch.cpu(),pred.argmax(dim=-1).cpu()))\n",
    "\n",
    "# Get pretrained params\n",
    "CAN_named_params = CAN_m.state_dict()\n",
    "pretrained_CAN_weights = CAN_named_params['cnn.weight'].cpu()\n",
    "pretrained_CAN_bias = CAN_named_params['cnn.bias'].cpu()"
   ]
  },
  {
   "cell_type": "markdown",
   "metadata": {},
   "source": [
    "# CRAN with Google embedding attention pretrained"
   ]
  },
  {
   "cell_type": "code",
   "execution_count": 110,
   "metadata": {},
   "outputs": [],
   "source": [
    "#CRAN used with word2vec embedding\n",
    "class PtCRANword2vec(nn.Module):\n",
    "  def __init__(self,embedding_size,cnn_window_length,hidden_units,p_dropout):\n",
    "    super(PtCRANword2vec, self).__init__()\n",
    "\n",
    "    \"\"\"\n",
    "    inputs:\n",
    "      cnn_num_filters: the number of convolutional kernels, represents the number of output channels parameter in Conv2d\n",
    "      cnn_window_length: in a kernel size of d*l, d represents the embedding size and l represents the window length\n",
    "      LSTM_hidden_units: number of hidden units in LSTM layer\n",
    "      dropout: dropout probability for CNN\n",
    "      embedding_size: length of embedded word vectors \n",
    "    \"\"\"\n",
    "    self.cnn=torch.nn.Conv2d(1,hidden_units,(cnn_window_length,embedding_size), padding=(1,0))\n",
    "    \n",
    "    # init cnn params to pretrained\n",
    "    self.cnn.weight.data = pretrained_CAN_weights\n",
    "    self.cnn.bias.data = pretrained_CAN_bias\n",
    "    \n",
    "    \n",
    "    self.dropout=torch.nn.Dropout(p_dropout)\n",
    "    self.rnn=torch.nn.LSTM(embedding_size,hidden_units,1, batch_first=True)\n",
    "    self.hidden_size = hidden_units\n",
    "    self.dense = nn.Linear(hidden_units, 2)\n",
    "  def forward(self,batch,labels):\n",
    "    (N,T,d)=batch.shape\n",
    "    #apply convolutional filters to the input sentences\n",
    "    cnn_output=self.cnn(batch.view(N,1,T,d))\n",
    "    #cnn_output will be of shape (N,cnn_num_filters,H_out from Pytorch documentation,1)\n",
    "    shape=cnn_output.shape\n",
    "    cnn_output= F.relu(cnn_output.squeeze(3))\n",
    "    #average across the different filter outputs\n",
    "    cnn_output=torch.mean(cnn_output,1)\n",
    "    h = batch.new_zeros(1, N, self.hidden_size).float()\n",
    "    c = batch.new_zeros(1, N, self.hidden_size).float()\n",
    "  \n",
    "    lstm_out, (h,c) = self.rnn(batch, (h, c))\n",
    "\n",
    "    s = torch.mean(lstm_out * cnn_output.unsqueeze(2), 1)\n",
    "\n",
    "    pred = F.log_softmax(self.dense(s))\n",
    "    \n",
    "    if self.training:\n",
    "      loss = F.nll_loss(pred, labels)\n",
    "\n",
    "      return loss, pred.argmax(dim=-1)\n",
    "    else:\n",
    "      return pred"
   ]
  },
  {
   "cell_type": "code",
   "execution_count": 111,
   "metadata": {},
   "outputs": [
    {
     "name": "stderr",
     "output_type": "stream",
     "text": [
      "C:\\Users\\sidmu\\AppData\\Local\\Programs\\Python\\Python37\\lib\\site-packages\\ipykernel_launcher.py:41: UserWarning: Implicit dimension choice for log_softmax has been deprecated. Change the call to include dim=X as an argument.\n"
     ]
    },
    {
     "name": "stdout",
     "output_type": "stream",
     "text": [
      "Loss: tensor(0.6864, device='cuda:0', grad_fn=<MeanBackward0>)\n",
      "Loss: tensor(0.6887, device='cuda:0', grad_fn=<MeanBackward0>)\n",
      "Loss: tensor(0.6956, device='cuda:0', grad_fn=<MeanBackward0>)\n",
      "Loss: tensor(0.6933, device='cuda:0', grad_fn=<MeanBackward0>)\n",
      "Loss: tensor(0.6933, device='cuda:0', grad_fn=<MeanBackward0>)\n",
      "Loss: tensor(0.6910, device='cuda:0', grad_fn=<MeanBackward0>)\n",
      "Loss: tensor(0.6956, device='cuda:0', grad_fn=<MeanBackward0>)\n",
      "Loss: tensor(0.6933, device='cuda:0', grad_fn=<MeanBackward0>)\n",
      "Loss: tensor(0.6956, device='cuda:0', grad_fn=<MeanBackward0>)\n",
      "Loss: tensor(0.6933, device='cuda:0', grad_fn=<MeanBackward0>)\n",
      "Loss: tensor(0.6933, device='cuda:0', grad_fn=<MeanBackward0>)\n",
      "Loss: tensor(0.6956, device='cuda:0', grad_fn=<MeanBackward0>)\n",
      "Loss: tensor(0.6888, device='cuda:0', grad_fn=<MeanBackward0>)\n",
      "Loss: tensor(0.6979, device='cuda:0', grad_fn=<MeanBackward0>)\n",
      "Loss: tensor(0.6979, device='cuda:0', grad_fn=<MeanBackward0>)\n",
      "Loss: tensor(0.6933, device='cuda:0', grad_fn=<MeanBackward0>)\n"
     ]
    },
    {
     "ename": "KeyboardInterrupt",
     "evalue": "",
     "output_type": "error",
     "traceback": [
      "\u001b[1;31m---------------------------------------------------------------------------\u001b[0m",
      "\u001b[1;31mKeyboardInterrupt\u001b[0m                         Traceback (most recent call last)",
      "\u001b[1;32m<ipython-input-111-9b69e211db65>\u001b[0m in \u001b[0;36m<module>\u001b[1;34m\u001b[0m\n\u001b[0;32m     20\u001b[0m         \u001b[0mindices\u001b[0m \u001b[1;33m=\u001b[0m \u001b[0mpermutation\u001b[0m\u001b[1;33m[\u001b[0m\u001b[0mi\u001b[0m\u001b[1;33m:\u001b[0m\u001b[0mi\u001b[0m\u001b[1;33m+\u001b[0m\u001b[0mbatch_size\u001b[0m\u001b[1;33m]\u001b[0m\u001b[1;33m\u001b[0m\u001b[1;33m\u001b[0m\u001b[0m\n\u001b[0;32m     21\u001b[0m         \u001b[0mreviews_batch\u001b[0m\u001b[1;33m,\u001b[0m \u001b[0mlabels_batch\u001b[0m \u001b[1;33m=\u001b[0m \u001b[0mreviews\u001b[0m\u001b[1;33m[\u001b[0m\u001b[0mindices\u001b[0m\u001b[1;33m]\u001b[0m\u001b[1;33m,\u001b[0m \u001b[0mlabels\u001b[0m\u001b[1;33m[\u001b[0m\u001b[0mindices\u001b[0m\u001b[1;33m]\u001b[0m\u001b[1;33m\u001b[0m\u001b[1;33m\u001b[0m\u001b[0m\n\u001b[1;32m---> 22\u001b[1;33m         \u001b[0mreviews_batch\u001b[0m\u001b[1;33m=\u001b[0m\u001b[0mreviews_batch\u001b[0m\u001b[1;33m.\u001b[0m\u001b[0mto\u001b[0m\u001b[1;33m(\u001b[0m\u001b[0mdevice\u001b[0m\u001b[1;33m)\u001b[0m\u001b[1;33m\u001b[0m\u001b[1;33m\u001b[0m\u001b[0m\n\u001b[0m\u001b[0;32m     23\u001b[0m         \u001b[0mlabels_batch\u001b[0m\u001b[1;33m=\u001b[0m\u001b[0mlabels_batch\u001b[0m\u001b[1;33m.\u001b[0m\u001b[0mto\u001b[0m\u001b[1;33m(\u001b[0m\u001b[0mdevice\u001b[0m\u001b[1;33m)\u001b[0m\u001b[1;33m\u001b[0m\u001b[1;33m\u001b[0m\u001b[0m\n\u001b[0;32m     24\u001b[0m         \u001b[0mloss\u001b[0m\u001b[1;33m,\u001b[0m \u001b[0mpred\u001b[0m \u001b[1;33m=\u001b[0m \u001b[0mCRAN_m\u001b[0m\u001b[1;33m(\u001b[0m\u001b[0mreviews_batch\u001b[0m\u001b[1;33m,\u001b[0m\u001b[0mlabels_batch\u001b[0m\u001b[1;33m)\u001b[0m\u001b[1;33m\u001b[0m\u001b[1;33m\u001b[0m\u001b[0m\n",
      "\u001b[1;31mKeyboardInterrupt\u001b[0m: "
     ]
    }
   ],
   "source": [
    "batch_size = 16\n",
    "vocab_size=reviews_vocab.num_word\n",
    "embedding_dim = 300\n",
    "hidden_size = 100\n",
    "cnn_window_length=3\n",
    "lr = 1e-3\n",
    "epoch = 10\n",
    "p_dropout=0.5\n",
    "\n",
    "CRAN_m = PtCRANword2vec(embedding_dim, cnn_window_length,hidden_size,p_dropout)\n",
    "device = 'cuda' if torch.cuda.is_available() else 'cpu' # cuda:0 if you have gpu\n",
    "CRAN_m = CRAN_m.to(device)\n",
    "\n",
    "optimizer = torch.optim.Adadelta(CRAN_m.parameters(), lr=lr)\n",
    "loss_list = []\n",
    "for e in range(epoch):\n",
    "    CRAN_m.train()\n",
    "    permutation=torch.randperm(reviews.size()[0])\n",
    "    for i in range(0,reviews.size()[0],batch_size):\n",
    "        indices = permutation[i:i+batch_size]\n",
    "        reviews_batch, labels_batch = reviews[indices], labels[indices]\n",
    "        reviews_batch=reviews_batch.to(device)\n",
    "        labels_batch=labels_batch.to(device)\n",
    "        loss, pred = CRAN_m(reviews_batch,labels_batch)\n",
    "        loss_list.append(loss.mean().detach())\n",
    "        optimizer.zero_grad()\n",
    "        loss.mean().backward()\n",
    "        optimizer.step()\n",
    "        if i%5000==0:\n",
    "          print('Loss: '+str(loss.mean()))"
   ]
  },
  {
   "cell_type": "code",
   "execution_count": null,
   "metadata": {},
   "outputs": [],
   "source": []
  }
 ],
 "metadata": {
  "accelerator": "GPU",
  "colab": {
   "collapsed_sections": [],
   "machine_shape": "hm",
   "name": "CRAN_New.ipynb",
   "provenance": [],
   "toc_visible": true
  },
  "kernelspec": {
   "display_name": "Python 3.7.4 64-bit",
   "language": "python",
   "name": "python37464bit5f1e063edef4426a9023218e27969b44"
  },
  "language_info": {
   "codemirror_mode": {
    "name": "ipython",
    "version": 3
   },
   "file_extension": ".py",
   "mimetype": "text/x-python",
   "name": "python",
   "nbconvert_exporter": "python",
   "pygments_lexer": "ipython3",
   "version": "3.7.4"
  }
 },
 "nbformat": 4,
 "nbformat_minor": 1
}
