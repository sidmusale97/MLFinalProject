{
  "nbformat": 4,
  "nbformat_minor": 0,
  "metadata": {
    "accelerator": "GPU",
    "colab": {
      "name": "CRAN_Word2Vec.ipynb",
      "provenance": [],
      "collapsed_sections": [],
      "toc_visible": true,
      "machine_shape": "hm"
    },
    "kernelspec": {
      "display_name": "Python 3.7.4 64-bit",
      "language": "python",
      "name": "python37464bit5f1e063edef4426a9023218e27969b44"
    },
    "language_info": {
      "codemirror_mode": {
        "name": "ipython",
        "version": 3
      },
      "file_extension": ".py",
      "mimetype": "text/x-python",
      "name": "python",
      "nbconvert_exporter": "python",
      "pygments_lexer": "ipython3",
      "version": "3.7.4-final"
    }
  },
  "cells": [
    {
      "cell_type": "code",
      "metadata": {
        "colab_type": "code",
        "id": "ei_8D2wEj5re",
        "colab": {}
      },
      "source": [
        "import torch\n",
        "from torch.utils.data import Dataset, DataLoader\n",
        "import os\n",
        "import pickle\n",
        "import numpy as np\n",
        "from sklearn.model_selection import train_test_split, KFold\n",
        "from sklearn.metrics import accuracy_score\n",
        "import torch.nn as nn\n",
        "import torch.nn.functional as F\n",
        "import math\n",
        "import gensim\n",
        "from gensim.models import Word2Vec, KeyedVectors\n",
        "from gensim.test.utils import common_texts, get_tmpfile\n",
        "import collections"
      ],
      "execution_count": 0,
      "outputs": []
    },
    {
      "cell_type": "markdown",
      "metadata": {
        "colab_type": "text",
        "id": "Nqbbp8CFwL_h"
      },
      "source": [
        "# Movie Review Data Cleaning"
      ]
    },
    {
      "cell_type": "code",
      "metadata": {
        "colab_type": "code",
        "id": "Ky8sR9Fygoxb",
        "colab": {}
      },
      "source": [
        "def read_raw(file_name, label):\n",
        "  with open(file_name, 'r') as file:\n",
        "    data = []\n",
        "    for line in file:\n",
        "        processed_line = preprocess_raw(line)\n",
        "        data.append([processed_line.split(), label])\n",
        "  return data\n",
        "\n",
        "def preprocess_raw(text):\n",
        "  text = text.replace('\\u202f', ' ').replace('\\xa0', ' ')\n",
        "  out = ''\n",
        "  for i, char in enumerate(text.lower()):\n",
        "    if char.isalpha()==True or char==' ':\n",
        "      out += char\n",
        "  out=\" \".join(out.split())\n",
        "  return out\n",
        "\n",
        "def build_data(direc):\n",
        "  data=[]\n",
        "  counter=0\n",
        "  for label in ['pos', 'neg']:\n",
        "    label_direc = os.path.join(direc, label)\n",
        "    for filename in os.listdir(label_direc):\n",
        "      if (label == 'pos'):\n",
        "        data += read_raw(os.path.join(label_direc,str(filename)), 1)\n",
        "      else:\n",
        "        data += read_raw(os.path.join(label_direc,str(filename)), 0)\n",
        "      counter += 1\n",
        "  print('Done')\n",
        "  return data"
      ],
      "execution_count": 0,
      "outputs": []
    },
    {
      "cell_type": "code",
      "metadata": {
        "colab_type": "code",
        "id": "cATbAuX8grnR",
        "colab": {},
        "outputId": "245c384f-064d-446c-ee2e-2a02e5056d47"
      },
      "source": [
        "data = build_data('./txt_sentoken/')"
      ],
      "execution_count": 0,
      "outputs": [
        {
          "output_type": "stream",
          "text": [
            "Done\n"
          ],
          "name": "stdout"
        }
      ]
    },
    {
      "cell_type": "markdown",
      "metadata": {
        "colab_type": "text",
        "id": "xnYbLt0S5-vO"
      },
      "source": [
        "# Data to File"
      ]
    },
    {
      "cell_type": "code",
      "metadata": {
        "colab_type": "code",
        "id": "xrAs4EG1DTcd",
        "colab": {}
      },
      "source": [
        "data = np.array(data)\n",
        "file = open('data', 'wb')\n",
        "pickle.dump(data, file)\n",
        "file.close()"
      ],
      "execution_count": 0,
      "outputs": []
    },
    {
      "cell_type": "markdown",
      "metadata": {
        "colab_type": "text",
        "id": "coytsUvQ5-vU"
      },
      "source": [
        "# Movie Review Dataset"
      ]
    },
    {
      "cell_type": "code",
      "metadata": {
        "colab_type": "code",
        "id": "Q718-47w5-vV",
        "colab": {}
      },
      "source": [
        "class MovieReviewDataset(Dataset):\n",
        "    def __init__(self, dataset, transform=None):\n",
        "        self.data = dataset\n",
        "        self.transform = transform\n",
        "    \n",
        "    def __getitem__(self, idx):\n",
        "        temp = self.data[idx]\n",
        "        if (self.transform):\n",
        "            temp = self.transform(sample)\n",
        "        \n",
        "        sample = {'sentence': temp[0] ,'label': temp[1]}\n",
        "        return sample\n",
        "    \n",
        "    def __len__(self):\n",
        "        return len(self.data)            "
      ],
      "execution_count": 0,
      "outputs": []
    },
    {
      "cell_type": "markdown",
      "metadata": {
        "colab_type": "text",
        "id": "8eV-J5by5-vY"
      },
      "source": [
        "# Load data file"
      ]
    },
    {
      "cell_type": "code",
      "metadata": {
        "colab_type": "code",
        "id": "A7zJpLof5-vZ",
        "colab": {}
      },
      "source": [
        "file = open('/content/drive/My Drive/ML Final/data', 'rb')\n",
        "data = pickle.load(file)\n",
        "file.close()"
      ],
      "execution_count": 0,
      "outputs": []
    },
    {
      "cell_type": "markdown",
      "metadata": {
        "id": "6r_wIx2l2wHn",
        "colab_type": "text"
      },
      "source": [
        "# Train Embedding Model"
      ]
    },
    {
      "cell_type": "code",
      "metadata": {
        "colab_type": "code",
        "id": "hucr8u6uievD",
        "colab": {}
      },
      "source": [
        "embed_model = Word2Vec(size=300, min_count=1)\n",
        "embed_model.build_vocab(data[:,0])\n",
        "total_examples = embed_model.corpus_count\n",
        "pretrained = KeyedVectors.load_word2vec_format(\"GoogleNews-vectors-negative300.bin\", binary=True)\n",
        "embed_model.build_vocab([list(pretrained.vocab.keys())], update=True)\n",
        "embed_model.intersect_word2vec_format(\"GoogleNews-vectors-negative300.bin\", binary=True, lockf=1.0)\n",
        "embed_model.train(data[:,0], total_examples=total_examples, epochs=embed_model.iter)"
      ],
      "execution_count": 0,
      "outputs": []
    },
    {
      "cell_type": "markdown",
      "metadata": {
        "id": "1ZppcHGV2wHq",
        "colab_type": "text"
      },
      "source": [
        "# Save embedding model"
      ]
    },
    {
      "cell_type": "code",
      "metadata": {
        "colab_type": "code",
        "id": "v_haw40hievH",
        "colab": {}
      },
      "source": [
        "embed_model.wv.save('embedding_model')"
      ],
      "execution_count": 0,
      "outputs": []
    },
    {
      "cell_type": "markdown",
      "metadata": {
        "id": "-Lu2VXPe2wHs",
        "colab_type": "text"
      },
      "source": [
        "# Figures to determine max_freq and sentence length cutoff"
      ]
    },
    {
      "cell_type": "code",
      "metadata": {
        "colab_type": "code",
        "id": "oqRcR9SJLjHT",
        "outputId": "9783ff42-a2b3-46b2-cc44-35782f7eef5a",
        "colab": {
          "base_uri": "https://localhost:8080/",
          "height": 281
        }
      },
      "source": [
        "text=data[:,0]\n",
        "import collections\n",
        "import numpy as np\n",
        "import matplotlib.pyplot as plt\n",
        "def len_dis(text):\n",
        "  lens = [len(line) for line in text]\n",
        "  len_counter = collections.Counter(lens)\n",
        "\n",
        "  lens = np.array(list(len_counter.keys()))\n",
        "  sort_idx = np.argsort(lens)\n",
        "  lens_sort = lens[sort_idx]\n",
        "  len_counts = np.array(list(len_counter.values()))\n",
        "  len_counts_sort = len_counts[sort_idx]\n",
        "  p = np.cumsum(len_counts_sort) / len_counts_sort.sum()\n",
        "  return p, lens_sort\n",
        "  \n",
        "src_p, src_lens_sort = len_dis(text)\n",
        "plt.plot(src_lens_sort, src_p, 'r-', label='eng')\n",
        "plt.title('Cumulative Distribution of Sentence Length')\n",
        "plt.legend()\n",
        "plt.show()"
      ],
      "execution_count": 0,
      "outputs": [
        {
          "output_type": "display_data",
          "data": {
            "text/plain": [
              "<Figure size 432x288 with 1 Axes>"
            ],
            "image/svg+xml": "<?xml version=\"1.0\" encoding=\"utf-8\" standalone=\"no\"?>\r\n<!DOCTYPE svg PUBLIC \"-//W3C//DTD SVG 1.1//EN\"\r\n  \"http://www.w3.org/Graphics/SVG/1.1/DTD/svg11.dtd\">\r\n<!-- Created with matplotlib (https://matplotlib.org/) -->\r\n<svg height=\"263.63625pt\" version=\"1.1\" viewBox=\"0 0 380.44544 263.63625\" width=\"380.44544pt\" xmlns=\"http://www.w3.org/2000/svg\" xmlns:xlink=\"http://www.w3.org/1999/xlink\">\r\n <defs>\r\n  <style type=\"text/css\">\r\n*{stroke-linecap:butt;stroke-linejoin:round;}\r\n  </style>\r\n </defs>\r\n <g id=\"figure_1\">\r\n  <g id=\"patch_1\">\r\n   <path d=\"M 0 263.63625 \r\nL 380.44544 263.63625 \r\nL 380.44544 0 \r\nL 0 0 \r\nz\r\n\" style=\"fill:none;\"/>\r\n  </g>\r\n  <g id=\"axes_1\">\r\n   <g id=\"patch_2\">\r\n    <path d=\"M 30.103125 239.758125 \r\nL 364.903125 239.758125 \r\nL 364.903125 22.318125 \r\nL 30.103125 22.318125 \r\nz\r\n\" style=\"fill:#ffffff;\"/>\r\n   </g>\r\n   <g id=\"matplotlib.axis_1\">\r\n    <g id=\"xtick_1\">\r\n     <g id=\"line2d_1\">\r\n      <defs>\r\n       <path d=\"M 0 0 \r\nL 0 3.5 \r\n\" id=\"m5c2f6ed4dc\" style=\"stroke:#000000;stroke-width:0.8;\"/>\r\n      </defs>\r\n      <g>\r\n       <use style=\"stroke:#000000;stroke-width:0.8;\" x=\"43.318914\" xlink:href=\"#m5c2f6ed4dc\" y=\"239.758125\"/>\r\n      </g>\r\n     </g>\r\n     <g id=\"text_1\">\r\n      <!-- 0 -->\r\n      <defs>\r\n       <path d=\"M 31.78125 66.40625 \r\nQ 24.171875 66.40625 20.328125 58.90625 \r\nQ 16.5 51.421875 16.5 36.375 \r\nQ 16.5 21.390625 20.328125 13.890625 \r\nQ 24.171875 6.390625 31.78125 6.390625 \r\nQ 39.453125 6.390625 43.28125 13.890625 \r\nQ 47.125 21.390625 47.125 36.375 \r\nQ 47.125 51.421875 43.28125 58.90625 \r\nQ 39.453125 66.40625 31.78125 66.40625 \r\nz\r\nM 31.78125 74.21875 \r\nQ 44.046875 74.21875 50.515625 64.515625 \r\nQ 56.984375 54.828125 56.984375 36.375 \r\nQ 56.984375 17.96875 50.515625 8.265625 \r\nQ 44.046875 -1.421875 31.78125 -1.421875 \r\nQ 19.53125 -1.421875 13.0625 8.265625 \r\nQ 6.59375 17.96875 6.59375 36.375 \r\nQ 6.59375 54.828125 13.0625 64.515625 \r\nQ 19.53125 74.21875 31.78125 74.21875 \r\nz\r\n\" id=\"DejaVuSans-48\"/>\r\n      </defs>\r\n      <g transform=\"translate(40.137664 254.356563)scale(0.1 -0.1)\">\r\n       <use xlink:href=\"#DejaVuSans-48\"/>\r\n      </g>\r\n     </g>\r\n    </g>\r\n    <g id=\"xtick_2\">\r\n     <g id=\"line2d_2\">\r\n      <g>\r\n       <use style=\"stroke:#000000;stroke-width:0.8;\" x=\"83.366761\" xlink:href=\"#m5c2f6ed4dc\" y=\"239.758125\"/>\r\n      </g>\r\n     </g>\r\n     <g id=\"text_2\">\r\n      <!-- 20 -->\r\n      <defs>\r\n       <path d=\"M 19.1875 8.296875 \r\nL 53.609375 8.296875 \r\nL 53.609375 0 \r\nL 7.328125 0 \r\nL 7.328125 8.296875 \r\nQ 12.9375 14.109375 22.625 23.890625 \r\nQ 32.328125 33.6875 34.8125 36.53125 \r\nQ 39.546875 41.84375 41.421875 45.53125 \r\nQ 43.3125 49.21875 43.3125 52.78125 \r\nQ 43.3125 58.59375 39.234375 62.25 \r\nQ 35.15625 65.921875 28.609375 65.921875 \r\nQ 23.96875 65.921875 18.8125 64.3125 \r\nQ 13.671875 62.703125 7.8125 59.421875 \r\nL 7.8125 69.390625 \r\nQ 13.765625 71.78125 18.9375 73 \r\nQ 24.125 74.21875 28.421875 74.21875 \r\nQ 39.75 74.21875 46.484375 68.546875 \r\nQ 53.21875 62.890625 53.21875 53.421875 \r\nQ 53.21875 48.921875 51.53125 44.890625 \r\nQ 49.859375 40.875 45.40625 35.40625 \r\nQ 44.1875 33.984375 37.640625 27.21875 \r\nQ 31.109375 20.453125 19.1875 8.296875 \r\nz\r\n\" id=\"DejaVuSans-50\"/>\r\n      </defs>\r\n      <g transform=\"translate(77.004261 254.356563)scale(0.1 -0.1)\">\r\n       <use xlink:href=\"#DejaVuSans-50\"/>\r\n       <use x=\"63.623047\" xlink:href=\"#DejaVuSans-48\"/>\r\n      </g>\r\n     </g>\r\n    </g>\r\n    <g id=\"xtick_3\">\r\n     <g id=\"line2d_3\">\r\n      <g>\r\n       <use style=\"stroke:#000000;stroke-width:0.8;\" x=\"123.414608\" xlink:href=\"#m5c2f6ed4dc\" y=\"239.758125\"/>\r\n      </g>\r\n     </g>\r\n     <g id=\"text_3\">\r\n      <!-- 40 -->\r\n      <defs>\r\n       <path d=\"M 37.796875 64.3125 \r\nL 12.890625 25.390625 \r\nL 37.796875 25.390625 \r\nz\r\nM 35.203125 72.90625 \r\nL 47.609375 72.90625 \r\nL 47.609375 25.390625 \r\nL 58.015625 25.390625 \r\nL 58.015625 17.1875 \r\nL 47.609375 17.1875 \r\nL 47.609375 0 \r\nL 37.796875 0 \r\nL 37.796875 17.1875 \r\nL 4.890625 17.1875 \r\nL 4.890625 26.703125 \r\nz\r\n\" id=\"DejaVuSans-52\"/>\r\n      </defs>\r\n      <g transform=\"translate(117.052108 254.356563)scale(0.1 -0.1)\">\r\n       <use xlink:href=\"#DejaVuSans-52\"/>\r\n       <use x=\"63.623047\" xlink:href=\"#DejaVuSans-48\"/>\r\n      </g>\r\n     </g>\r\n    </g>\r\n    <g id=\"xtick_4\">\r\n     <g id=\"line2d_4\">\r\n      <g>\r\n       <use style=\"stroke:#000000;stroke-width:0.8;\" x=\"163.462455\" xlink:href=\"#m5c2f6ed4dc\" y=\"239.758125\"/>\r\n      </g>\r\n     </g>\r\n     <g id=\"text_4\">\r\n      <!-- 60 -->\r\n      <defs>\r\n       <path d=\"M 33.015625 40.375 \r\nQ 26.375 40.375 22.484375 35.828125 \r\nQ 18.609375 31.296875 18.609375 23.390625 \r\nQ 18.609375 15.53125 22.484375 10.953125 \r\nQ 26.375 6.390625 33.015625 6.390625 \r\nQ 39.65625 6.390625 43.53125 10.953125 \r\nQ 47.40625 15.53125 47.40625 23.390625 \r\nQ 47.40625 31.296875 43.53125 35.828125 \r\nQ 39.65625 40.375 33.015625 40.375 \r\nz\r\nM 52.59375 71.296875 \r\nL 52.59375 62.3125 \r\nQ 48.875 64.0625 45.09375 64.984375 \r\nQ 41.3125 65.921875 37.59375 65.921875 \r\nQ 27.828125 65.921875 22.671875 59.328125 \r\nQ 17.53125 52.734375 16.796875 39.40625 \r\nQ 19.671875 43.65625 24.015625 45.921875 \r\nQ 28.375 48.1875 33.59375 48.1875 \r\nQ 44.578125 48.1875 50.953125 41.515625 \r\nQ 57.328125 34.859375 57.328125 23.390625 \r\nQ 57.328125 12.15625 50.6875 5.359375 \r\nQ 44.046875 -1.421875 33.015625 -1.421875 \r\nQ 20.359375 -1.421875 13.671875 8.265625 \r\nQ 6.984375 17.96875 6.984375 36.375 \r\nQ 6.984375 53.65625 15.1875 63.9375 \r\nQ 23.390625 74.21875 37.203125 74.21875 \r\nQ 40.921875 74.21875 44.703125 73.484375 \r\nQ 48.484375 72.75 52.59375 71.296875 \r\nz\r\n\" id=\"DejaVuSans-54\"/>\r\n      </defs>\r\n      <g transform=\"translate(157.099955 254.356563)scale(0.1 -0.1)\">\r\n       <use xlink:href=\"#DejaVuSans-54\"/>\r\n       <use x=\"63.623047\" xlink:href=\"#DejaVuSans-48\"/>\r\n      </g>\r\n     </g>\r\n    </g>\r\n    <g id=\"xtick_5\">\r\n     <g id=\"line2d_5\">\r\n      <g>\r\n       <use style=\"stroke:#000000;stroke-width:0.8;\" x=\"203.510302\" xlink:href=\"#m5c2f6ed4dc\" y=\"239.758125\"/>\r\n      </g>\r\n     </g>\r\n     <g id=\"text_5\">\r\n      <!-- 80 -->\r\n      <defs>\r\n       <path d=\"M 31.78125 34.625 \r\nQ 24.75 34.625 20.71875 30.859375 \r\nQ 16.703125 27.09375 16.703125 20.515625 \r\nQ 16.703125 13.921875 20.71875 10.15625 \r\nQ 24.75 6.390625 31.78125 6.390625 \r\nQ 38.8125 6.390625 42.859375 10.171875 \r\nQ 46.921875 13.96875 46.921875 20.515625 \r\nQ 46.921875 27.09375 42.890625 30.859375 \r\nQ 38.875 34.625 31.78125 34.625 \r\nz\r\nM 21.921875 38.8125 \r\nQ 15.578125 40.375 12.03125 44.71875 \r\nQ 8.5 49.078125 8.5 55.328125 \r\nQ 8.5 64.0625 14.71875 69.140625 \r\nQ 20.953125 74.21875 31.78125 74.21875 \r\nQ 42.671875 74.21875 48.875 69.140625 \r\nQ 55.078125 64.0625 55.078125 55.328125 \r\nQ 55.078125 49.078125 51.53125 44.71875 \r\nQ 48 40.375 41.703125 38.8125 \r\nQ 48.828125 37.15625 52.796875 32.3125 \r\nQ 56.78125 27.484375 56.78125 20.515625 \r\nQ 56.78125 9.90625 50.3125 4.234375 \r\nQ 43.84375 -1.421875 31.78125 -1.421875 \r\nQ 19.734375 -1.421875 13.25 4.234375 \r\nQ 6.78125 9.90625 6.78125 20.515625 \r\nQ 6.78125 27.484375 10.78125 32.3125 \r\nQ 14.796875 37.15625 21.921875 38.8125 \r\nz\r\nM 18.3125 54.390625 \r\nQ 18.3125 48.734375 21.84375 45.5625 \r\nQ 25.390625 42.390625 31.78125 42.390625 \r\nQ 38.140625 42.390625 41.71875 45.5625 \r\nQ 45.3125 48.734375 45.3125 54.390625 \r\nQ 45.3125 60.0625 41.71875 63.234375 \r\nQ 38.140625 66.40625 31.78125 66.40625 \r\nQ 25.390625 66.40625 21.84375 63.234375 \r\nQ 18.3125 60.0625 18.3125 54.390625 \r\nz\r\n\" id=\"DejaVuSans-56\"/>\r\n      </defs>\r\n      <g transform=\"translate(197.147802 254.356563)scale(0.1 -0.1)\">\r\n       <use xlink:href=\"#DejaVuSans-56\"/>\r\n       <use x=\"63.623047\" xlink:href=\"#DejaVuSans-48\"/>\r\n      </g>\r\n     </g>\r\n    </g>\r\n    <g id=\"xtick_6\">\r\n     <g id=\"line2d_6\">\r\n      <g>\r\n       <use style=\"stroke:#000000;stroke-width:0.8;\" x=\"243.558149\" xlink:href=\"#m5c2f6ed4dc\" y=\"239.758125\"/>\r\n      </g>\r\n     </g>\r\n     <g id=\"text_6\">\r\n      <!-- 100 -->\r\n      <defs>\r\n       <path d=\"M 12.40625 8.296875 \r\nL 28.515625 8.296875 \r\nL 28.515625 63.921875 \r\nL 10.984375 60.40625 \r\nL 10.984375 69.390625 \r\nL 28.421875 72.90625 \r\nL 38.28125 72.90625 \r\nL 38.28125 8.296875 \r\nL 54.390625 8.296875 \r\nL 54.390625 0 \r\nL 12.40625 0 \r\nz\r\n\" id=\"DejaVuSans-49\"/>\r\n      </defs>\r\n      <g transform=\"translate(234.014399 254.356563)scale(0.1 -0.1)\">\r\n       <use xlink:href=\"#DejaVuSans-49\"/>\r\n       <use x=\"63.623047\" xlink:href=\"#DejaVuSans-48\"/>\r\n       <use x=\"127.246094\" xlink:href=\"#DejaVuSans-48\"/>\r\n      </g>\r\n     </g>\r\n    </g>\r\n    <g id=\"xtick_7\">\r\n     <g id=\"line2d_7\">\r\n      <g>\r\n       <use style=\"stroke:#000000;stroke-width:0.8;\" x=\"283.605996\" xlink:href=\"#m5c2f6ed4dc\" y=\"239.758125\"/>\r\n      </g>\r\n     </g>\r\n     <g id=\"text_7\">\r\n      <!-- 120 -->\r\n      <g transform=\"translate(274.062246 254.356563)scale(0.1 -0.1)\">\r\n       <use xlink:href=\"#DejaVuSans-49\"/>\r\n       <use x=\"63.623047\" xlink:href=\"#DejaVuSans-50\"/>\r\n       <use x=\"127.246094\" xlink:href=\"#DejaVuSans-48\"/>\r\n      </g>\r\n     </g>\r\n    </g>\r\n    <g id=\"xtick_8\">\r\n     <g id=\"line2d_8\">\r\n      <g>\r\n       <use style=\"stroke:#000000;stroke-width:0.8;\" x=\"323.653843\" xlink:href=\"#m5c2f6ed4dc\" y=\"239.758125\"/>\r\n      </g>\r\n     </g>\r\n     <g id=\"text_8\">\r\n      <!-- 140 -->\r\n      <g transform=\"translate(314.110093 254.356563)scale(0.1 -0.1)\">\r\n       <use xlink:href=\"#DejaVuSans-49\"/>\r\n       <use x=\"63.623047\" xlink:href=\"#DejaVuSans-52\"/>\r\n       <use x=\"127.246094\" xlink:href=\"#DejaVuSans-48\"/>\r\n      </g>\r\n     </g>\r\n    </g>\r\n    <g id=\"xtick_9\">\r\n     <g id=\"line2d_9\">\r\n      <g>\r\n       <use style=\"stroke:#000000;stroke-width:0.8;\" x=\"363.70169\" xlink:href=\"#m5c2f6ed4dc\" y=\"239.758125\"/>\r\n      </g>\r\n     </g>\r\n     <g id=\"text_9\">\r\n      <!-- 160 -->\r\n      <g transform=\"translate(354.15794 254.356563)scale(0.1 -0.1)\">\r\n       <use xlink:href=\"#DejaVuSans-49\"/>\r\n       <use x=\"63.623047\" xlink:href=\"#DejaVuSans-54\"/>\r\n       <use x=\"127.246094\" xlink:href=\"#DejaVuSans-48\"/>\r\n      </g>\r\n     </g>\r\n    </g>\r\n   </g>\r\n   <g id=\"matplotlib.axis_2\">\r\n    <g id=\"ytick_1\">\r\n     <g id=\"line2d_10\">\r\n      <defs>\r\n       <path d=\"M 0 0 \r\nL -3.5 0 \r\n\" id=\"m9831c810e1\" style=\"stroke:#000000;stroke-width:0.8;\"/>\r\n      </defs>\r\n      <g>\r\n       <use style=\"stroke:#000000;stroke-width:0.8;\" x=\"30.103125\" xlink:href=\"#m9831c810e1\" y=\"230.407365\"/>\r\n      </g>\r\n     </g>\r\n     <g id=\"text_10\">\r\n      <!-- 0.0 -->\r\n      <defs>\r\n       <path d=\"M 10.6875 12.40625 \r\nL 21 12.40625 \r\nL 21 0 \r\nL 10.6875 0 \r\nz\r\n\" id=\"DejaVuSans-46\"/>\r\n      </defs>\r\n      <g transform=\"translate(7.2 234.206584)scale(0.1 -0.1)\">\r\n       <use xlink:href=\"#DejaVuSans-48\"/>\r\n       <use x=\"63.623047\" xlink:href=\"#DejaVuSans-46\"/>\r\n       <use x=\"95.410156\" xlink:href=\"#DejaVuSans-48\"/>\r\n      </g>\r\n     </g>\r\n    </g>\r\n    <g id=\"ytick_2\">\r\n     <g id=\"line2d_11\">\r\n      <g>\r\n       <use style=\"stroke:#000000;stroke-width:0.8;\" x=\"30.103125\" xlink:href=\"#m9831c810e1\" y=\"190.766244\"/>\r\n      </g>\r\n     </g>\r\n     <g id=\"text_11\">\r\n      <!-- 0.2 -->\r\n      <g transform=\"translate(7.2 194.565463)scale(0.1 -0.1)\">\r\n       <use xlink:href=\"#DejaVuSans-48\"/>\r\n       <use x=\"63.623047\" xlink:href=\"#DejaVuSans-46\"/>\r\n       <use x=\"95.410156\" xlink:href=\"#DejaVuSans-50\"/>\r\n      </g>\r\n     </g>\r\n    </g>\r\n    <g id=\"ytick_3\">\r\n     <g id=\"line2d_12\">\r\n      <g>\r\n       <use style=\"stroke:#000000;stroke-width:0.8;\" x=\"30.103125\" xlink:href=\"#m9831c810e1\" y=\"151.125124\"/>\r\n      </g>\r\n     </g>\r\n     <g id=\"text_12\">\r\n      <!-- 0.4 -->\r\n      <g transform=\"translate(7.2 154.924342)scale(0.1 -0.1)\">\r\n       <use xlink:href=\"#DejaVuSans-48\"/>\r\n       <use x=\"63.623047\" xlink:href=\"#DejaVuSans-46\"/>\r\n       <use x=\"95.410156\" xlink:href=\"#DejaVuSans-52\"/>\r\n      </g>\r\n     </g>\r\n    </g>\r\n    <g id=\"ytick_4\">\r\n     <g id=\"line2d_13\">\r\n      <g>\r\n       <use style=\"stroke:#000000;stroke-width:0.8;\" x=\"30.103125\" xlink:href=\"#m9831c810e1\" y=\"111.484003\"/>\r\n      </g>\r\n     </g>\r\n     <g id=\"text_13\">\r\n      <!-- 0.6 -->\r\n      <g transform=\"translate(7.2 115.283222)scale(0.1 -0.1)\">\r\n       <use xlink:href=\"#DejaVuSans-48\"/>\r\n       <use x=\"63.623047\" xlink:href=\"#DejaVuSans-46\"/>\r\n       <use x=\"95.410156\" xlink:href=\"#DejaVuSans-54\"/>\r\n      </g>\r\n     </g>\r\n    </g>\r\n    <g id=\"ytick_5\">\r\n     <g id=\"line2d_14\">\r\n      <g>\r\n       <use style=\"stroke:#000000;stroke-width:0.8;\" x=\"30.103125\" xlink:href=\"#m9831c810e1\" y=\"71.842882\"/>\r\n      </g>\r\n     </g>\r\n     <g id=\"text_14\">\r\n      <!-- 0.8 -->\r\n      <g transform=\"translate(7.2 75.642101)scale(0.1 -0.1)\">\r\n       <use xlink:href=\"#DejaVuSans-48\"/>\r\n       <use x=\"63.623047\" xlink:href=\"#DejaVuSans-46\"/>\r\n       <use x=\"95.410156\" xlink:href=\"#DejaVuSans-56\"/>\r\n      </g>\r\n     </g>\r\n    </g>\r\n    <g id=\"ytick_6\">\r\n     <g id=\"line2d_15\">\r\n      <g>\r\n       <use style=\"stroke:#000000;stroke-width:0.8;\" x=\"30.103125\" xlink:href=\"#m9831c810e1\" y=\"32.201761\"/>\r\n      </g>\r\n     </g>\r\n     <g id=\"text_15\">\r\n      <!-- 1.0 -->\r\n      <g transform=\"translate(7.2 36.00098)scale(0.1 -0.1)\">\r\n       <use xlink:href=\"#DejaVuSans-49\"/>\r\n       <use x=\"63.623047\" xlink:href=\"#DejaVuSans-46\"/>\r\n       <use x=\"95.410156\" xlink:href=\"#DejaVuSans-48\"/>\r\n      </g>\r\n     </g>\r\n    </g>\r\n   </g>\r\n   <g id=\"line2d_16\">\r\n    <path clip-path=\"url(#pe598ece897)\" d=\"M 45.321307 229.874489 \r\nL 47.323699 227.99717 \r\nL 49.326092 225.498163 \r\nL 51.328484 222.545904 \r\nL 53.330876 219.033206 \r\nL 55.333269 215.162194 \r\nL 57.335661 210.522492 \r\nL 59.338053 205.423414 \r\nL 61.340446 199.81596 \r\nL 63.342838 194.156442 \r\nL 65.34523 188.034486 \r\nL 67.347623 181.474591 \r\nL 69.350015 174.49207 \r\nL 71.352407 167.019547 \r\nL 73.3548 159.623587 \r\nL 75.357192 152.264377 \r\nL 77.359584 144.840855 \r\nL 79.361977 137.264206 \r\nL 81.364369 129.635496 \r\nL 83.366761 122.178286 \r\nL 85.369154 114.975264 \r\nL 87.371546 108.409244 \r\nL 89.373938 102.069849 \r\nL 91.376331 95.960143 \r\nL 93.378723 90.092375 \r\nL 95.381115 84.852422 \r\nL 97.383508 79.848282 \r\nL 99.3859 75.119767 \r\nL 101.388292 71.006817 \r\nL 103.390685 67.325681 \r\nL 105.393077 63.993671 \r\nL 107.395469 60.765786 \r\nL 109.397862 57.834964 \r\nL 111.400254 55.133831 \r\nL 113.402647 52.855324 \r\nL 115.405039 50.635005 \r\nL 117.407431 48.733187 \r\nL 119.409824 47.030432 \r\nL 121.412216 45.557365 \r\nL 123.414608 44.240486 \r\nL 125.417001 42.941982 \r\nL 127.419393 41.931354 \r\nL 129.421785 40.880913 \r\nL 131.424178 40.029535 \r\nL 133.42657 39.159783 \r\nL 135.428962 38.455405 \r\nL 137.431355 37.867404 \r\nL 139.433747 37.181402 \r\nL 141.436139 36.673025 \r\nL 143.438532 36.219774 \r\nL 145.440924 35.809397 \r\nL 147.443316 35.503146 \r\nL 149.445709 35.233646 \r\nL 151.448101 34.92127 \r\nL 153.450493 34.627269 \r\nL 155.452886 34.400643 \r\nL 157.455278 34.23833 \r\nL 159.45767 34.082142 \r\nL 161.460063 33.916767 \r\nL 163.462455 33.751391 \r\nL 165.464847 33.589078 \r\nL 167.46724 33.472703 \r\nL 169.469632 33.353265 \r\nL 171.472025 33.239952 \r\nL 173.474417 33.172577 \r\nL 175.476809 33.089889 \r\nL 177.479202 33.028639 \r\nL 179.481594 32.961264 \r\nL 181.483986 32.903076 \r\nL 183.486379 32.844888 \r\nL 185.488771 32.792826 \r\nL 187.491163 32.710138 \r\nL 189.493556 32.67645 \r\nL 191.495948 32.633575 \r\nL 193.49834 32.609075 \r\nL 195.500733 32.557012 \r\nL 197.503125 32.535575 \r\nL 199.505517 32.508012 \r\nL 201.50791 32.489637 \r\nL 203.510302 32.474325 \r\nL 205.512694 32.459012 \r\nL 207.515087 32.434512 \r\nL 209.517479 32.422262 \r\nL 211.519871 32.413075 \r\nL 213.522264 32.382449 \r\nL 215.524656 32.376324 \r\nL 217.527048 32.373262 \r\nL 219.529441 32.357949 \r\nL 221.531833 32.348762 \r\nL 223.534225 32.345699 \r\nL 225.536618 32.336512 \r\nL 227.53901 32.324262 \r\nL 231.543795 32.318137 \r\nL 233.546187 32.312012 \r\nL 235.54858 32.308949 \r\nL 237.550972 32.305887 \r\nL 239.553364 32.296699 \r\nL 241.555757 32.293637 \r\nL 243.558149 32.284449 \r\nL 245.560541 32.278324 \r\nL 247.562934 32.275262 \r\nL 249.565326 32.266074 \r\nL 253.570111 32.263012 \r\nL 255.572503 32.259949 \r\nL 257.574895 32.250762 \r\nL 259.577288 32.241574 \r\nL 263.582072 32.238511 \r\nL 267.586857 32.232386 \r\nL 273.594034 32.229324 \r\nL 277.598819 32.226261 \r\nL 281.603603 32.223199 \r\nL 283.605996 32.220136 \r\nL 287.610781 32.217074 \r\nL 295.62035 32.214011 \r\nL 297.622742 32.210949 \r\nL 301.627527 32.207886 \r\nL 307.634704 32.204824 \r\nL 349.684943 32.201761 \r\n\" style=\"fill:none;stroke:#ff0000;stroke-linecap:square;stroke-width:1.5;\"/>\r\n   </g>\r\n   <g id=\"patch_3\">\r\n    <path d=\"M 30.103125 239.758125 \r\nL 30.103125 22.318125 \r\n\" style=\"fill:none;stroke:#000000;stroke-linecap:square;stroke-linejoin:miter;stroke-width:0.8;\"/>\r\n   </g>\r\n   <g id=\"patch_4\">\r\n    <path d=\"M 364.903125 239.758125 \r\nL 364.903125 22.318125 \r\n\" style=\"fill:none;stroke:#000000;stroke-linecap:square;stroke-linejoin:miter;stroke-width:0.8;\"/>\r\n   </g>\r\n   <g id=\"patch_5\">\r\n    <path d=\"M 30.103125 239.758125 \r\nL 364.903125 239.758125 \r\n\" style=\"fill:none;stroke:#000000;stroke-linecap:square;stroke-linejoin:miter;stroke-width:0.8;\"/>\r\n   </g>\r\n   <g id=\"patch_6\">\r\n    <path d=\"M 30.103125 22.318125 \r\nL 364.903125 22.318125 \r\n\" style=\"fill:none;stroke:#000000;stroke-linecap:square;stroke-linejoin:miter;stroke-width:0.8;\"/>\r\n   </g>\r\n   <g id=\"text_16\">\r\n    <!-- Cumulative Distribution of Sentence Length -->\r\n    <defs>\r\n     <path d=\"M 64.40625 67.28125 \r\nL 64.40625 56.890625 \r\nQ 59.421875 61.53125 53.78125 63.8125 \r\nQ 48.140625 66.109375 41.796875 66.109375 \r\nQ 29.296875 66.109375 22.65625 58.46875 \r\nQ 16.015625 50.828125 16.015625 36.375 \r\nQ 16.015625 21.96875 22.65625 14.328125 \r\nQ 29.296875 6.6875 41.796875 6.6875 \r\nQ 48.140625 6.6875 53.78125 8.984375 \r\nQ 59.421875 11.28125 64.40625 15.921875 \r\nL 64.40625 5.609375 \r\nQ 59.234375 2.09375 53.4375 0.328125 \r\nQ 47.65625 -1.421875 41.21875 -1.421875 \r\nQ 24.65625 -1.421875 15.125 8.703125 \r\nQ 5.609375 18.84375 5.609375 36.375 \r\nQ 5.609375 53.953125 15.125 64.078125 \r\nQ 24.65625 74.21875 41.21875 74.21875 \r\nQ 47.75 74.21875 53.53125 72.484375 \r\nQ 59.328125 70.75 64.40625 67.28125 \r\nz\r\n\" id=\"DejaVuSans-67\"/>\r\n     <path d=\"M 8.5 21.578125 \r\nL 8.5 54.6875 \r\nL 17.484375 54.6875 \r\nL 17.484375 21.921875 \r\nQ 17.484375 14.15625 20.5 10.265625 \r\nQ 23.53125 6.390625 29.59375 6.390625 \r\nQ 36.859375 6.390625 41.078125 11.03125 \r\nQ 45.3125 15.671875 45.3125 23.6875 \r\nL 45.3125 54.6875 \r\nL 54.296875 54.6875 \r\nL 54.296875 0 \r\nL 45.3125 0 \r\nL 45.3125 8.40625 \r\nQ 42.046875 3.421875 37.71875 1 \r\nQ 33.40625 -1.421875 27.6875 -1.421875 \r\nQ 18.265625 -1.421875 13.375 4.4375 \r\nQ 8.5 10.296875 8.5 21.578125 \r\nz\r\nM 31.109375 56 \r\nz\r\n\" id=\"DejaVuSans-117\"/>\r\n     <path d=\"M 52 44.1875 \r\nQ 55.375 50.25 60.0625 53.125 \r\nQ 64.75 56 71.09375 56 \r\nQ 79.640625 56 84.28125 50.015625 \r\nQ 88.921875 44.046875 88.921875 33.015625 \r\nL 88.921875 0 \r\nL 79.890625 0 \r\nL 79.890625 32.71875 \r\nQ 79.890625 40.578125 77.09375 44.375 \r\nQ 74.3125 48.1875 68.609375 48.1875 \r\nQ 61.625 48.1875 57.5625 43.546875 \r\nQ 53.515625 38.921875 53.515625 30.90625 \r\nL 53.515625 0 \r\nL 44.484375 0 \r\nL 44.484375 32.71875 \r\nQ 44.484375 40.625 41.703125 44.40625 \r\nQ 38.921875 48.1875 33.109375 48.1875 \r\nQ 26.21875 48.1875 22.15625 43.53125 \r\nQ 18.109375 38.875 18.109375 30.90625 \r\nL 18.109375 0 \r\nL 9.078125 0 \r\nL 9.078125 54.6875 \r\nL 18.109375 54.6875 \r\nL 18.109375 46.1875 \r\nQ 21.1875 51.21875 25.484375 53.609375 \r\nQ 29.78125 56 35.6875 56 \r\nQ 41.65625 56 45.828125 52.96875 \r\nQ 50 49.953125 52 44.1875 \r\nz\r\n\" id=\"DejaVuSans-109\"/>\r\n     <path d=\"M 9.421875 75.984375 \r\nL 18.40625 75.984375 \r\nL 18.40625 0 \r\nL 9.421875 0 \r\nz\r\n\" id=\"DejaVuSans-108\"/>\r\n     <path d=\"M 34.28125 27.484375 \r\nQ 23.390625 27.484375 19.1875 25 \r\nQ 14.984375 22.515625 14.984375 16.5 \r\nQ 14.984375 11.71875 18.140625 8.90625 \r\nQ 21.296875 6.109375 26.703125 6.109375 \r\nQ 34.1875 6.109375 38.703125 11.40625 \r\nQ 43.21875 16.703125 43.21875 25.484375 \r\nL 43.21875 27.484375 \r\nz\r\nM 52.203125 31.203125 \r\nL 52.203125 0 \r\nL 43.21875 0 \r\nL 43.21875 8.296875 \r\nQ 40.140625 3.328125 35.546875 0.953125 \r\nQ 30.953125 -1.421875 24.3125 -1.421875 \r\nQ 15.921875 -1.421875 10.953125 3.296875 \r\nQ 6 8.015625 6 15.921875 \r\nQ 6 25.140625 12.171875 29.828125 \r\nQ 18.359375 34.515625 30.609375 34.515625 \r\nL 43.21875 34.515625 \r\nL 43.21875 35.40625 \r\nQ 43.21875 41.609375 39.140625 45 \r\nQ 35.0625 48.390625 27.6875 48.390625 \r\nQ 23 48.390625 18.546875 47.265625 \r\nQ 14.109375 46.140625 10.015625 43.890625 \r\nL 10.015625 52.203125 \r\nQ 14.9375 54.109375 19.578125 55.046875 \r\nQ 24.21875 56 28.609375 56 \r\nQ 40.484375 56 46.34375 49.84375 \r\nQ 52.203125 43.703125 52.203125 31.203125 \r\nz\r\n\" id=\"DejaVuSans-97\"/>\r\n     <path d=\"M 18.3125 70.21875 \r\nL 18.3125 54.6875 \r\nL 36.8125 54.6875 \r\nL 36.8125 47.703125 \r\nL 18.3125 47.703125 \r\nL 18.3125 18.015625 \r\nQ 18.3125 11.328125 20.140625 9.421875 \r\nQ 21.96875 7.515625 27.59375 7.515625 \r\nL 36.8125 7.515625 \r\nL 36.8125 0 \r\nL 27.59375 0 \r\nQ 17.1875 0 13.234375 3.875 \r\nQ 9.28125 7.765625 9.28125 18.015625 \r\nL 9.28125 47.703125 \r\nL 2.6875 47.703125 \r\nL 2.6875 54.6875 \r\nL 9.28125 54.6875 \r\nL 9.28125 70.21875 \r\nz\r\n\" id=\"DejaVuSans-116\"/>\r\n     <path d=\"M 9.421875 54.6875 \r\nL 18.40625 54.6875 \r\nL 18.40625 0 \r\nL 9.421875 0 \r\nz\r\nM 9.421875 75.984375 \r\nL 18.40625 75.984375 \r\nL 18.40625 64.59375 \r\nL 9.421875 64.59375 \r\nz\r\n\" id=\"DejaVuSans-105\"/>\r\n     <path d=\"M 2.984375 54.6875 \r\nL 12.5 54.6875 \r\nL 29.59375 8.796875 \r\nL 46.6875 54.6875 \r\nL 56.203125 54.6875 \r\nL 35.6875 0 \r\nL 23.484375 0 \r\nz\r\n\" id=\"DejaVuSans-118\"/>\r\n     <path d=\"M 56.203125 29.59375 \r\nL 56.203125 25.203125 \r\nL 14.890625 25.203125 \r\nQ 15.484375 15.921875 20.484375 11.0625 \r\nQ 25.484375 6.203125 34.421875 6.203125 \r\nQ 39.59375 6.203125 44.453125 7.46875 \r\nQ 49.3125 8.734375 54.109375 11.28125 \r\nL 54.109375 2.78125 \r\nQ 49.265625 0.734375 44.1875 -0.34375 \r\nQ 39.109375 -1.421875 33.890625 -1.421875 \r\nQ 20.796875 -1.421875 13.15625 6.1875 \r\nQ 5.515625 13.8125 5.515625 26.8125 \r\nQ 5.515625 40.234375 12.765625 48.109375 \r\nQ 20.015625 56 32.328125 56 \r\nQ 43.359375 56 49.78125 48.890625 \r\nQ 56.203125 41.796875 56.203125 29.59375 \r\nz\r\nM 47.21875 32.234375 \r\nQ 47.125 39.59375 43.09375 43.984375 \r\nQ 39.0625 48.390625 32.421875 48.390625 \r\nQ 24.90625 48.390625 20.390625 44.140625 \r\nQ 15.875 39.890625 15.1875 32.171875 \r\nz\r\n\" id=\"DejaVuSans-101\"/>\r\n     <path id=\"DejaVuSans-32\"/>\r\n     <path d=\"M 19.671875 64.796875 \r\nL 19.671875 8.109375 \r\nL 31.59375 8.109375 \r\nQ 46.6875 8.109375 53.6875 14.9375 \r\nQ 60.6875 21.78125 60.6875 36.53125 \r\nQ 60.6875 51.171875 53.6875 57.984375 \r\nQ 46.6875 64.796875 31.59375 64.796875 \r\nz\r\nM 9.8125 72.90625 \r\nL 30.078125 72.90625 \r\nQ 51.265625 72.90625 61.171875 64.09375 \r\nQ 71.09375 55.28125 71.09375 36.53125 \r\nQ 71.09375 17.671875 61.125 8.828125 \r\nQ 51.171875 0 30.078125 0 \r\nL 9.8125 0 \r\nz\r\n\" id=\"DejaVuSans-68\"/>\r\n     <path d=\"M 44.28125 53.078125 \r\nL 44.28125 44.578125 \r\nQ 40.484375 46.53125 36.375 47.5 \r\nQ 32.28125 48.484375 27.875 48.484375 \r\nQ 21.1875 48.484375 17.84375 46.4375 \r\nQ 14.5 44.390625 14.5 40.28125 \r\nQ 14.5 37.15625 16.890625 35.375 \r\nQ 19.28125 33.59375 26.515625 31.984375 \r\nL 29.59375 31.296875 \r\nQ 39.15625 29.25 43.1875 25.515625 \r\nQ 47.21875 21.78125 47.21875 15.09375 \r\nQ 47.21875 7.46875 41.1875 3.015625 \r\nQ 35.15625 -1.421875 24.609375 -1.421875 \r\nQ 20.21875 -1.421875 15.453125 -0.5625 \r\nQ 10.6875 0.296875 5.421875 2 \r\nL 5.421875 11.28125 \r\nQ 10.40625 8.6875 15.234375 7.390625 \r\nQ 20.0625 6.109375 24.8125 6.109375 \r\nQ 31.15625 6.109375 34.5625 8.28125 \r\nQ 37.984375 10.453125 37.984375 14.40625 \r\nQ 37.984375 18.0625 35.515625 20.015625 \r\nQ 33.0625 21.96875 24.703125 23.78125 \r\nL 21.578125 24.515625 \r\nQ 13.234375 26.265625 9.515625 29.90625 \r\nQ 5.8125 33.546875 5.8125 39.890625 \r\nQ 5.8125 47.609375 11.28125 51.796875 \r\nQ 16.75 56 26.8125 56 \r\nQ 31.78125 56 36.171875 55.265625 \r\nQ 40.578125 54.546875 44.28125 53.078125 \r\nz\r\n\" id=\"DejaVuSans-115\"/>\r\n     <path d=\"M 41.109375 46.296875 \r\nQ 39.59375 47.171875 37.8125 47.578125 \r\nQ 36.03125 48 33.890625 48 \r\nQ 26.265625 48 22.1875 43.046875 \r\nQ 18.109375 38.09375 18.109375 28.8125 \r\nL 18.109375 0 \r\nL 9.078125 0 \r\nL 9.078125 54.6875 \r\nL 18.109375 54.6875 \r\nL 18.109375 46.1875 \r\nQ 20.953125 51.171875 25.484375 53.578125 \r\nQ 30.03125 56 36.53125 56 \r\nQ 37.453125 56 38.578125 55.875 \r\nQ 39.703125 55.765625 41.0625 55.515625 \r\nz\r\n\" id=\"DejaVuSans-114\"/>\r\n     <path d=\"M 48.6875 27.296875 \r\nQ 48.6875 37.203125 44.609375 42.84375 \r\nQ 40.53125 48.484375 33.40625 48.484375 \r\nQ 26.265625 48.484375 22.1875 42.84375 \r\nQ 18.109375 37.203125 18.109375 27.296875 \r\nQ 18.109375 17.390625 22.1875 11.75 \r\nQ 26.265625 6.109375 33.40625 6.109375 \r\nQ 40.53125 6.109375 44.609375 11.75 \r\nQ 48.6875 17.390625 48.6875 27.296875 \r\nz\r\nM 18.109375 46.390625 \r\nQ 20.953125 51.265625 25.265625 53.625 \r\nQ 29.59375 56 35.59375 56 \r\nQ 45.5625 56 51.78125 48.09375 \r\nQ 58.015625 40.1875 58.015625 27.296875 \r\nQ 58.015625 14.40625 51.78125 6.484375 \r\nQ 45.5625 -1.421875 35.59375 -1.421875 \r\nQ 29.59375 -1.421875 25.265625 0.953125 \r\nQ 20.953125 3.328125 18.109375 8.203125 \r\nL 18.109375 0 \r\nL 9.078125 0 \r\nL 9.078125 75.984375 \r\nL 18.109375 75.984375 \r\nz\r\n\" id=\"DejaVuSans-98\"/>\r\n     <path d=\"M 30.609375 48.390625 \r\nQ 23.390625 48.390625 19.1875 42.75 \r\nQ 14.984375 37.109375 14.984375 27.296875 \r\nQ 14.984375 17.484375 19.15625 11.84375 \r\nQ 23.34375 6.203125 30.609375 6.203125 \r\nQ 37.796875 6.203125 41.984375 11.859375 \r\nQ 46.1875 17.53125 46.1875 27.296875 \r\nQ 46.1875 37.015625 41.984375 42.703125 \r\nQ 37.796875 48.390625 30.609375 48.390625 \r\nz\r\nM 30.609375 56 \r\nQ 42.328125 56 49.015625 48.375 \r\nQ 55.71875 40.765625 55.71875 27.296875 \r\nQ 55.71875 13.875 49.015625 6.21875 \r\nQ 42.328125 -1.421875 30.609375 -1.421875 \r\nQ 18.84375 -1.421875 12.171875 6.21875 \r\nQ 5.515625 13.875 5.515625 27.296875 \r\nQ 5.515625 40.765625 12.171875 48.375 \r\nQ 18.84375 56 30.609375 56 \r\nz\r\n\" id=\"DejaVuSans-111\"/>\r\n     <path d=\"M 54.890625 33.015625 \r\nL 54.890625 0 \r\nL 45.90625 0 \r\nL 45.90625 32.71875 \r\nQ 45.90625 40.484375 42.875 44.328125 \r\nQ 39.84375 48.1875 33.796875 48.1875 \r\nQ 26.515625 48.1875 22.3125 43.546875 \r\nQ 18.109375 38.921875 18.109375 30.90625 \r\nL 18.109375 0 \r\nL 9.078125 0 \r\nL 9.078125 54.6875 \r\nL 18.109375 54.6875 \r\nL 18.109375 46.1875 \r\nQ 21.34375 51.125 25.703125 53.5625 \r\nQ 30.078125 56 35.796875 56 \r\nQ 45.21875 56 50.046875 50.171875 \r\nQ 54.890625 44.34375 54.890625 33.015625 \r\nz\r\n\" id=\"DejaVuSans-110\"/>\r\n     <path d=\"M 37.109375 75.984375 \r\nL 37.109375 68.5 \r\nL 28.515625 68.5 \r\nQ 23.6875 68.5 21.796875 66.546875 \r\nQ 19.921875 64.59375 19.921875 59.515625 \r\nL 19.921875 54.6875 \r\nL 34.71875 54.6875 \r\nL 34.71875 47.703125 \r\nL 19.921875 47.703125 \r\nL 19.921875 0 \r\nL 10.890625 0 \r\nL 10.890625 47.703125 \r\nL 2.296875 47.703125 \r\nL 2.296875 54.6875 \r\nL 10.890625 54.6875 \r\nL 10.890625 58.5 \r\nQ 10.890625 67.625 15.140625 71.796875 \r\nQ 19.390625 75.984375 28.609375 75.984375 \r\nz\r\n\" id=\"DejaVuSans-102\"/>\r\n     <path d=\"M 53.515625 70.515625 \r\nL 53.515625 60.890625 \r\nQ 47.90625 63.578125 42.921875 64.890625 \r\nQ 37.9375 66.21875 33.296875 66.21875 \r\nQ 25.25 66.21875 20.875 63.09375 \r\nQ 16.5 59.96875 16.5 54.203125 \r\nQ 16.5 49.359375 19.40625 46.890625 \r\nQ 22.3125 44.4375 30.421875 42.921875 \r\nL 36.375 41.703125 \r\nQ 47.40625 39.59375 52.65625 34.296875 \r\nQ 57.90625 29 57.90625 20.125 \r\nQ 57.90625 9.515625 50.796875 4.046875 \r\nQ 43.703125 -1.421875 29.984375 -1.421875 \r\nQ 24.8125 -1.421875 18.96875 -0.25 \r\nQ 13.140625 0.921875 6.890625 3.21875 \r\nL 6.890625 13.375 \r\nQ 12.890625 10.015625 18.65625 8.296875 \r\nQ 24.421875 6.59375 29.984375 6.59375 \r\nQ 38.421875 6.59375 43.015625 9.90625 \r\nQ 47.609375 13.234375 47.609375 19.390625 \r\nQ 47.609375 24.75 44.3125 27.78125 \r\nQ 41.015625 30.8125 33.5 32.328125 \r\nL 27.484375 33.5 \r\nQ 16.453125 35.6875 11.515625 40.375 \r\nQ 6.59375 45.0625 6.59375 53.421875 \r\nQ 6.59375 63.09375 13.40625 68.65625 \r\nQ 20.21875 74.21875 32.171875 74.21875 \r\nQ 37.3125 74.21875 42.625 73.28125 \r\nQ 47.953125 72.359375 53.515625 70.515625 \r\nz\r\n\" id=\"DejaVuSans-83\"/>\r\n     <path d=\"M 48.78125 52.59375 \r\nL 48.78125 44.1875 \r\nQ 44.96875 46.296875 41.140625 47.34375 \r\nQ 37.3125 48.390625 33.40625 48.390625 \r\nQ 24.65625 48.390625 19.8125 42.84375 \r\nQ 14.984375 37.3125 14.984375 27.296875 \r\nQ 14.984375 17.28125 19.8125 11.734375 \r\nQ 24.65625 6.203125 33.40625 6.203125 \r\nQ 37.3125 6.203125 41.140625 7.25 \r\nQ 44.96875 8.296875 48.78125 10.40625 \r\nL 48.78125 2.09375 \r\nQ 45.015625 0.34375 40.984375 -0.53125 \r\nQ 36.96875 -1.421875 32.421875 -1.421875 \r\nQ 20.0625 -1.421875 12.78125 6.34375 \r\nQ 5.515625 14.109375 5.515625 27.296875 \r\nQ 5.515625 40.671875 12.859375 48.328125 \r\nQ 20.21875 56 33.015625 56 \r\nQ 37.15625 56 41.109375 55.140625 \r\nQ 45.0625 54.296875 48.78125 52.59375 \r\nz\r\n\" id=\"DejaVuSans-99\"/>\r\n     <path d=\"M 9.8125 72.90625 \r\nL 19.671875 72.90625 \r\nL 19.671875 8.296875 \r\nL 55.171875 8.296875 \r\nL 55.171875 0 \r\nL 9.8125 0 \r\nz\r\n\" id=\"DejaVuSans-76\"/>\r\n     <path d=\"M 45.40625 27.984375 \r\nQ 45.40625 37.75 41.375 43.109375 \r\nQ 37.359375 48.484375 30.078125 48.484375 \r\nQ 22.859375 48.484375 18.828125 43.109375 \r\nQ 14.796875 37.75 14.796875 27.984375 \r\nQ 14.796875 18.265625 18.828125 12.890625 \r\nQ 22.859375 7.515625 30.078125 7.515625 \r\nQ 37.359375 7.515625 41.375 12.890625 \r\nQ 45.40625 18.265625 45.40625 27.984375 \r\nz\r\nM 54.390625 6.78125 \r\nQ 54.390625 -7.171875 48.1875 -13.984375 \r\nQ 42 -20.796875 29.203125 -20.796875 \r\nQ 24.46875 -20.796875 20.265625 -20.09375 \r\nQ 16.0625 -19.390625 12.109375 -17.921875 \r\nL 12.109375 -9.1875 \r\nQ 16.0625 -11.328125 19.921875 -12.34375 \r\nQ 23.78125 -13.375 27.78125 -13.375 \r\nQ 36.625 -13.375 41.015625 -8.765625 \r\nQ 45.40625 -4.15625 45.40625 5.171875 \r\nL 45.40625 9.625 \r\nQ 42.625 4.78125 38.28125 2.390625 \r\nQ 33.9375 0 27.875 0 \r\nQ 17.828125 0 11.671875 7.65625 \r\nQ 5.515625 15.328125 5.515625 27.984375 \r\nQ 5.515625 40.671875 11.671875 48.328125 \r\nQ 17.828125 56 27.875 56 \r\nQ 33.9375 56 38.28125 53.609375 \r\nQ 42.625 51.21875 45.40625 46.390625 \r\nL 45.40625 54.6875 \r\nL 54.390625 54.6875 \r\nz\r\n\" id=\"DejaVuSans-103\"/>\r\n     <path d=\"M 54.890625 33.015625 \r\nL 54.890625 0 \r\nL 45.90625 0 \r\nL 45.90625 32.71875 \r\nQ 45.90625 40.484375 42.875 44.328125 \r\nQ 39.84375 48.1875 33.796875 48.1875 \r\nQ 26.515625 48.1875 22.3125 43.546875 \r\nQ 18.109375 38.921875 18.109375 30.90625 \r\nL 18.109375 0 \r\nL 9.078125 0 \r\nL 9.078125 75.984375 \r\nL 18.109375 75.984375 \r\nL 18.109375 46.1875 \r\nQ 21.34375 51.125 25.703125 53.5625 \r\nQ 30.078125 56 35.796875 56 \r\nQ 45.21875 56 50.046875 50.171875 \r\nQ 54.890625 44.34375 54.890625 33.015625 \r\nz\r\n\" id=\"DejaVuSans-104\"/>\r\n    </defs>\r\n    <g transform=\"translate(65.903438 16.318125)scale(0.12 -0.12)\">\r\n     <use xlink:href=\"#DejaVuSans-67\"/>\r\n     <use x=\"69.824219\" xlink:href=\"#DejaVuSans-117\"/>\r\n     <use x=\"133.203125\" xlink:href=\"#DejaVuSans-109\"/>\r\n     <use x=\"230.615234\" xlink:href=\"#DejaVuSans-117\"/>\r\n     <use x=\"293.994141\" xlink:href=\"#DejaVuSans-108\"/>\r\n     <use x=\"321.777344\" xlink:href=\"#DejaVuSans-97\"/>\r\n     <use x=\"383.056641\" xlink:href=\"#DejaVuSans-116\"/>\r\n     <use x=\"422.265625\" xlink:href=\"#DejaVuSans-105\"/>\r\n     <use x=\"450.048828\" xlink:href=\"#DejaVuSans-118\"/>\r\n     <use x=\"509.228516\" xlink:href=\"#DejaVuSans-101\"/>\r\n     <use x=\"570.751953\" xlink:href=\"#DejaVuSans-32\"/>\r\n     <use x=\"602.539062\" xlink:href=\"#DejaVuSans-68\"/>\r\n     <use x=\"679.541016\" xlink:href=\"#DejaVuSans-105\"/>\r\n     <use x=\"707.324219\" xlink:href=\"#DejaVuSans-115\"/>\r\n     <use x=\"759.423828\" xlink:href=\"#DejaVuSans-116\"/>\r\n     <use x=\"798.632812\" xlink:href=\"#DejaVuSans-114\"/>\r\n     <use x=\"839.746094\" xlink:href=\"#DejaVuSans-105\"/>\r\n     <use x=\"867.529297\" xlink:href=\"#DejaVuSans-98\"/>\r\n     <use x=\"931.005859\" xlink:href=\"#DejaVuSans-117\"/>\r\n     <use x=\"994.384766\" xlink:href=\"#DejaVuSans-116\"/>\r\n     <use x=\"1033.59375\" xlink:href=\"#DejaVuSans-105\"/>\r\n     <use x=\"1061.376953\" xlink:href=\"#DejaVuSans-111\"/>\r\n     <use x=\"1122.558594\" xlink:href=\"#DejaVuSans-110\"/>\r\n     <use x=\"1185.9375\" xlink:href=\"#DejaVuSans-32\"/>\r\n     <use x=\"1217.724609\" xlink:href=\"#DejaVuSans-111\"/>\r\n     <use x=\"1278.90625\" xlink:href=\"#DejaVuSans-102\"/>\r\n     <use x=\"1314.111328\" xlink:href=\"#DejaVuSans-32\"/>\r\n     <use x=\"1345.898438\" xlink:href=\"#DejaVuSans-83\"/>\r\n     <use x=\"1409.375\" xlink:href=\"#DejaVuSans-101\"/>\r\n     <use x=\"1470.898438\" xlink:href=\"#DejaVuSans-110\"/>\r\n     <use x=\"1534.277344\" xlink:href=\"#DejaVuSans-116\"/>\r\n     <use x=\"1573.486328\" xlink:href=\"#DejaVuSans-101\"/>\r\n     <use x=\"1635.009766\" xlink:href=\"#DejaVuSans-110\"/>\r\n     <use x=\"1698.388672\" xlink:href=\"#DejaVuSans-99\"/>\r\n     <use x=\"1753.369141\" xlink:href=\"#DejaVuSans-101\"/>\r\n     <use x=\"1814.892578\" xlink:href=\"#DejaVuSans-32\"/>\r\n     <use x=\"1846.679688\" xlink:href=\"#DejaVuSans-76\"/>\r\n     <use x=\"1902.376953\" xlink:href=\"#DejaVuSans-101\"/>\r\n     <use x=\"1963.900391\" xlink:href=\"#DejaVuSans-110\"/>\r\n     <use x=\"2027.279297\" xlink:href=\"#DejaVuSans-103\"/>\r\n     <use x=\"2090.755859\" xlink:href=\"#DejaVuSans-116\"/>\r\n     <use x=\"2129.964844\" xlink:href=\"#DejaVuSans-104\"/>\r\n    </g>\r\n   </g>\r\n   <g id=\"legend_1\">\r\n    <g id=\"patch_7\">\r\n     <path d=\"M 37.103125 44.99625 \r\nL 87.942188 44.99625 \r\nQ 89.942188 44.99625 89.942188 42.99625 \r\nL 89.942188 29.318125 \r\nQ 89.942188 27.318125 87.942188 27.318125 \r\nL 37.103125 27.318125 \r\nQ 35.103125 27.318125 35.103125 29.318125 \r\nL 35.103125 42.99625 \r\nQ 35.103125 44.99625 37.103125 44.99625 \r\nz\r\n\" style=\"fill:#ffffff;opacity:0.8;stroke:#cccccc;stroke-linejoin:miter;\"/>\r\n    </g>\r\n    <g id=\"line2d_17\">\r\n     <path d=\"M 39.103125 35.416562 \r\nL 59.103125 35.416562 \r\n\" style=\"fill:none;stroke:#ff0000;stroke-linecap:square;stroke-width:1.5;\"/>\r\n    </g>\r\n    <g id=\"line2d_18\"/>\r\n    <g id=\"text_17\">\r\n     <!-- eng -->\r\n     <g transform=\"translate(67.103125 38.916562)scale(0.1 -0.1)\">\r\n      <use xlink:href=\"#DejaVuSans-101\"/>\r\n      <use x=\"61.523438\" xlink:href=\"#DejaVuSans-110\"/>\r\n      <use x=\"124.902344\" xlink:href=\"#DejaVuSans-103\"/>\r\n     </g>\r\n    </g>\r\n   </g>\r\n  </g>\r\n </g>\r\n <defs>\r\n  <clipPath id=\"pe598ece897\">\r\n   <rect height=\"217.44\" width=\"334.8\" x=\"30.103125\" y=\"22.318125\"/>\r\n  </clipPath>\r\n </defs>\r\n</svg>\r\n",
            "image/png": "[encoded data removed]"
          },
          "metadata": {
            "tags": [],
            "needs_background": "light"
          }
        }
      ]
    },
    {
      "cell_type": "code",
      "metadata": {
        "colab_type": "code",
        "id": "F7yfDZjVLox2",
        "outputId": "4d71c437-eb25-46b7-ddf6-51d004d168d7",
        "colab": {
          "base_uri": "https://localhost:8080/",
          "height": 281
        }
      },
      "source": [
        "def len_dis(text):\n",
        "  words = [token for line in text for token in line]\n",
        "  word_counter = collections.Counter(words)\n",
        "  freq_counter=  collections.Counter(word_counter.values())\n",
        "  freqs = np.array(list(freq_counter.keys()))\n",
        "  freq_length = np.array(list(freq_counter.values()))\n",
        "  sort_idx= np.argsort(freqs)\n",
        "  freq_sort = freqs[sort_idx]\n",
        "  freq_length = np.array(list(freq_counter.values()))\n",
        "  freq_length_sort = freq_length[sort_idx]\n",
        "  p = np.cumsum(freq_length_sort) / freq_length_sort.sum()\n",
        "  return p, freq_sort\n",
        "  \n",
        "src_p, src_lens_sort = len_dis(text)\n",
        "plt.plot(src_lens_sort, src_p, 'r-', label='eng')\n",
        "plt.title('Cumulative Distribution of Word Occurence')\n",
        "plt.legend()\n",
        "axes = plt.gca()\n",
        "axes.set_xlim([1,100])\n",
        "plt.show()"
      ],
      "execution_count": 0,
      "outputs": [
        {
          "output_type": "display_data",
          "data": {
            "text/plain": [
              "<Figure size 432x288 with 1 Axes>"
            ],
            "image/svg+xml": "<?xml version=\"1.0\" encoding=\"utf-8\" standalone=\"no\"?>\r\n<!DOCTYPE svg PUBLIC \"-//W3C//DTD SVG 1.1//EN\"\r\n  \"http://www.w3.org/Graphics/SVG/1.1/DTD/svg11.dtd\">\r\n<!-- Created with matplotlib (https://matplotlib.org/) -->\r\n<svg height=\"263.63625pt\" version=\"1.1\" viewBox=\"0 0 381.646875 263.63625\" width=\"381.646875pt\" xmlns=\"http://www.w3.org/2000/svg\" xmlns:xlink=\"http://www.w3.org/1999/xlink\">\r\n <defs>\r\n  <style type=\"text/css\">\r\n*{stroke-linecap:butt;stroke-linejoin:round;}\r\n  </style>\r\n </defs>\r\n <g id=\"figure_1\">\r\n  <g id=\"patch_1\">\r\n   <path d=\"M 0 263.63625 \r\nL 381.646875 263.63625 \r\nL 381.646875 0 \r\nL 0 0 \r\nz\r\n\" style=\"fill:none;\"/>\r\n  </g>\r\n  <g id=\"axes_1\">\r\n   <g id=\"patch_2\">\r\n    <path d=\"M 30.103125 239.758125 \r\nL 364.903125 239.758125 \r\nL 364.903125 22.318125 \r\nL 30.103125 22.318125 \r\nz\r\n\" style=\"fill:#ffffff;\"/>\r\n   </g>\r\n   <g id=\"matplotlib.axis_1\">\r\n    <g id=\"xtick_1\">\r\n     <g id=\"line2d_1\">\r\n      <defs>\r\n       <path d=\"M 0 0 \r\nL 0 3.5 \r\n\" id=\"m54bb597701\" style=\"stroke:#000000;stroke-width:0.8;\"/>\r\n      </defs>\r\n      <g>\r\n       <use style=\"stroke:#000000;stroke-width:0.8;\" x=\"94.35767\" xlink:href=\"#m54bb597701\" y=\"239.758125\"/>\r\n      </g>\r\n     </g>\r\n     <g id=\"text_1\">\r\n      <!-- 20 -->\r\n      <defs>\r\n       <path d=\"M 19.1875 8.296875 \r\nL 53.609375 8.296875 \r\nL 53.609375 0 \r\nL 7.328125 0 \r\nL 7.328125 8.296875 \r\nQ 12.9375 14.109375 22.625 23.890625 \r\nQ 32.328125 33.6875 34.8125 36.53125 \r\nQ 39.546875 41.84375 41.421875 45.53125 \r\nQ 43.3125 49.21875 43.3125 52.78125 \r\nQ 43.3125 58.59375 39.234375 62.25 \r\nQ 35.15625 65.921875 28.609375 65.921875 \r\nQ 23.96875 65.921875 18.8125 64.3125 \r\nQ 13.671875 62.703125 7.8125 59.421875 \r\nL 7.8125 69.390625 \r\nQ 13.765625 71.78125 18.9375 73 \r\nQ 24.125 74.21875 28.421875 74.21875 \r\nQ 39.75 74.21875 46.484375 68.546875 \r\nQ 53.21875 62.890625 53.21875 53.421875 \r\nQ 53.21875 48.921875 51.53125 44.890625 \r\nQ 49.859375 40.875 45.40625 35.40625 \r\nQ 44.1875 33.984375 37.640625 27.21875 \r\nQ 31.109375 20.453125 19.1875 8.296875 \r\nz\r\n\" id=\"DejaVuSans-50\"/>\r\n       <path d=\"M 31.78125 66.40625 \r\nQ 24.171875 66.40625 20.328125 58.90625 \r\nQ 16.5 51.421875 16.5 36.375 \r\nQ 16.5 21.390625 20.328125 13.890625 \r\nQ 24.171875 6.390625 31.78125 6.390625 \r\nQ 39.453125 6.390625 43.28125 13.890625 \r\nQ 47.125 21.390625 47.125 36.375 \r\nQ 47.125 51.421875 43.28125 58.90625 \r\nQ 39.453125 66.40625 31.78125 66.40625 \r\nz\r\nM 31.78125 74.21875 \r\nQ 44.046875 74.21875 50.515625 64.515625 \r\nQ 56.984375 54.828125 56.984375 36.375 \r\nQ 56.984375 17.96875 50.515625 8.265625 \r\nQ 44.046875 -1.421875 31.78125 -1.421875 \r\nQ 19.53125 -1.421875 13.0625 8.265625 \r\nQ 6.59375 17.96875 6.59375 36.375 \r\nQ 6.59375 54.828125 13.0625 64.515625 \r\nQ 19.53125 74.21875 31.78125 74.21875 \r\nz\r\n\" id=\"DejaVuSans-48\"/>\r\n      </defs>\r\n      <g transform=\"translate(87.99517 254.356563)scale(0.1 -0.1)\">\r\n       <use xlink:href=\"#DejaVuSans-50\"/>\r\n       <use x=\"63.623047\" xlink:href=\"#DejaVuSans-48\"/>\r\n      </g>\r\n     </g>\r\n    </g>\r\n    <g id=\"xtick_2\">\r\n     <g id=\"line2d_2\">\r\n      <g>\r\n       <use style=\"stroke:#000000;stroke-width:0.8;\" x=\"161.994034\" xlink:href=\"#m54bb597701\" y=\"239.758125\"/>\r\n      </g>\r\n     </g>\r\n     <g id=\"text_2\">\r\n      <!-- 40 -->\r\n      <defs>\r\n       <path d=\"M 37.796875 64.3125 \r\nL 12.890625 25.390625 \r\nL 37.796875 25.390625 \r\nz\r\nM 35.203125 72.90625 \r\nL 47.609375 72.90625 \r\nL 47.609375 25.390625 \r\nL 58.015625 25.390625 \r\nL 58.015625 17.1875 \r\nL 47.609375 17.1875 \r\nL 47.609375 0 \r\nL 37.796875 0 \r\nL 37.796875 17.1875 \r\nL 4.890625 17.1875 \r\nL 4.890625 26.703125 \r\nz\r\n\" id=\"DejaVuSans-52\"/>\r\n      </defs>\r\n      <g transform=\"translate(155.631534 254.356563)scale(0.1 -0.1)\">\r\n       <use xlink:href=\"#DejaVuSans-52\"/>\r\n       <use x=\"63.623047\" xlink:href=\"#DejaVuSans-48\"/>\r\n      </g>\r\n     </g>\r\n    </g>\r\n    <g id=\"xtick_3\">\r\n     <g id=\"line2d_3\">\r\n      <g>\r\n       <use style=\"stroke:#000000;stroke-width:0.8;\" x=\"229.630398\" xlink:href=\"#m54bb597701\" y=\"239.758125\"/>\r\n      </g>\r\n     </g>\r\n     <g id=\"text_3\">\r\n      <!-- 60 -->\r\n      <defs>\r\n       <path d=\"M 33.015625 40.375 \r\nQ 26.375 40.375 22.484375 35.828125 \r\nQ 18.609375 31.296875 18.609375 23.390625 \r\nQ 18.609375 15.53125 22.484375 10.953125 \r\nQ 26.375 6.390625 33.015625 6.390625 \r\nQ 39.65625 6.390625 43.53125 10.953125 \r\nQ 47.40625 15.53125 47.40625 23.390625 \r\nQ 47.40625 31.296875 43.53125 35.828125 \r\nQ 39.65625 40.375 33.015625 40.375 \r\nz\r\nM 52.59375 71.296875 \r\nL 52.59375 62.3125 \r\nQ 48.875 64.0625 45.09375 64.984375 \r\nQ 41.3125 65.921875 37.59375 65.921875 \r\nQ 27.828125 65.921875 22.671875 59.328125 \r\nQ 17.53125 52.734375 16.796875 39.40625 \r\nQ 19.671875 43.65625 24.015625 45.921875 \r\nQ 28.375 48.1875 33.59375 48.1875 \r\nQ 44.578125 48.1875 50.953125 41.515625 \r\nQ 57.328125 34.859375 57.328125 23.390625 \r\nQ 57.328125 12.15625 50.6875 5.359375 \r\nQ 44.046875 -1.421875 33.015625 -1.421875 \r\nQ 20.359375 -1.421875 13.671875 8.265625 \r\nQ 6.984375 17.96875 6.984375 36.375 \r\nQ 6.984375 53.65625 15.1875 63.9375 \r\nQ 23.390625 74.21875 37.203125 74.21875 \r\nQ 40.921875 74.21875 44.703125 73.484375 \r\nQ 48.484375 72.75 52.59375 71.296875 \r\nz\r\n\" id=\"DejaVuSans-54\"/>\r\n      </defs>\r\n      <g transform=\"translate(223.267898 254.356563)scale(0.1 -0.1)\">\r\n       <use xlink:href=\"#DejaVuSans-54\"/>\r\n       <use x=\"63.623047\" xlink:href=\"#DejaVuSans-48\"/>\r\n      </g>\r\n     </g>\r\n    </g>\r\n    <g id=\"xtick_4\">\r\n     <g id=\"line2d_4\">\r\n      <g>\r\n       <use style=\"stroke:#000000;stroke-width:0.8;\" x=\"297.266761\" xlink:href=\"#m54bb597701\" y=\"239.758125\"/>\r\n      </g>\r\n     </g>\r\n     <g id=\"text_4\">\r\n      <!-- 80 -->\r\n      <defs>\r\n       <path d=\"M 31.78125 34.625 \r\nQ 24.75 34.625 20.71875 30.859375 \r\nQ 16.703125 27.09375 16.703125 20.515625 \r\nQ 16.703125 13.921875 20.71875 10.15625 \r\nQ 24.75 6.390625 31.78125 6.390625 \r\nQ 38.8125 6.390625 42.859375 10.171875 \r\nQ 46.921875 13.96875 46.921875 20.515625 \r\nQ 46.921875 27.09375 42.890625 30.859375 \r\nQ 38.875 34.625 31.78125 34.625 \r\nz\r\nM 21.921875 38.8125 \r\nQ 15.578125 40.375 12.03125 44.71875 \r\nQ 8.5 49.078125 8.5 55.328125 \r\nQ 8.5 64.0625 14.71875 69.140625 \r\nQ 20.953125 74.21875 31.78125 74.21875 \r\nQ 42.671875 74.21875 48.875 69.140625 \r\nQ 55.078125 64.0625 55.078125 55.328125 \r\nQ 55.078125 49.078125 51.53125 44.71875 \r\nQ 48 40.375 41.703125 38.8125 \r\nQ 48.828125 37.15625 52.796875 32.3125 \r\nQ 56.78125 27.484375 56.78125 20.515625 \r\nQ 56.78125 9.90625 50.3125 4.234375 \r\nQ 43.84375 -1.421875 31.78125 -1.421875 \r\nQ 19.734375 -1.421875 13.25 4.234375 \r\nQ 6.78125 9.90625 6.78125 20.515625 \r\nQ 6.78125 27.484375 10.78125 32.3125 \r\nQ 14.796875 37.15625 21.921875 38.8125 \r\nz\r\nM 18.3125 54.390625 \r\nQ 18.3125 48.734375 21.84375 45.5625 \r\nQ 25.390625 42.390625 31.78125 42.390625 \r\nQ 38.140625 42.390625 41.71875 45.5625 \r\nQ 45.3125 48.734375 45.3125 54.390625 \r\nQ 45.3125 60.0625 41.71875 63.234375 \r\nQ 38.140625 66.40625 31.78125 66.40625 \r\nQ 25.390625 66.40625 21.84375 63.234375 \r\nQ 18.3125 60.0625 18.3125 54.390625 \r\nz\r\n\" id=\"DejaVuSans-56\"/>\r\n      </defs>\r\n      <g transform=\"translate(290.904261 254.356563)scale(0.1 -0.1)\">\r\n       <use xlink:href=\"#DejaVuSans-56\"/>\r\n       <use x=\"63.623047\" xlink:href=\"#DejaVuSans-48\"/>\r\n      </g>\r\n     </g>\r\n    </g>\r\n    <g id=\"xtick_5\">\r\n     <g id=\"line2d_5\">\r\n      <g>\r\n       <use style=\"stroke:#000000;stroke-width:0.8;\" x=\"364.903125\" xlink:href=\"#m54bb597701\" y=\"239.758125\"/>\r\n      </g>\r\n     </g>\r\n     <g id=\"text_5\">\r\n      <!-- 100 -->\r\n      <defs>\r\n       <path d=\"M 12.40625 8.296875 \r\nL 28.515625 8.296875 \r\nL 28.515625 63.921875 \r\nL 10.984375 60.40625 \r\nL 10.984375 69.390625 \r\nL 28.421875 72.90625 \r\nL 38.28125 72.90625 \r\nL 38.28125 8.296875 \r\nL 54.390625 8.296875 \r\nL 54.390625 0 \r\nL 12.40625 0 \r\nz\r\n\" id=\"DejaVuSans-49\"/>\r\n      </defs>\r\n      <g transform=\"translate(355.359375 254.356563)scale(0.1 -0.1)\">\r\n       <use xlink:href=\"#DejaVuSans-49\"/>\r\n       <use x=\"63.623047\" xlink:href=\"#DejaVuSans-48\"/>\r\n       <use x=\"127.246094\" xlink:href=\"#DejaVuSans-48\"/>\r\n      </g>\r\n     </g>\r\n    </g>\r\n   </g>\r\n   <g id=\"matplotlib.axis_2\">\r\n    <g id=\"ytick_1\">\r\n     <g id=\"line2d_6\">\r\n      <defs>\r\n       <path d=\"M 0 0 \r\nL -3.5 0 \r\n\" id=\"m917ddd8bd6\" style=\"stroke:#000000;stroke-width:0.8;\"/>\r\n      </defs>\r\n      <g>\r\n       <use style=\"stroke:#000000;stroke-width:0.8;\" x=\"30.103125\" xlink:href=\"#m917ddd8bd6\" y=\"235.269311\"/>\r\n      </g>\r\n     </g>\r\n     <g id=\"text_6\">\r\n      <!-- 0.4 -->\r\n      <defs>\r\n       <path d=\"M 10.6875 12.40625 \r\nL 21 12.40625 \r\nL 21 0 \r\nL 10.6875 0 \r\nz\r\n\" id=\"DejaVuSans-46\"/>\r\n      </defs>\r\n      <g transform=\"translate(7.2 239.06853)scale(0.1 -0.1)\">\r\n       <use xlink:href=\"#DejaVuSans-48\"/>\r\n       <use x=\"63.623047\" xlink:href=\"#DejaVuSans-46\"/>\r\n       <use x=\"95.410156\" xlink:href=\"#DejaVuSans-52\"/>\r\n      </g>\r\n     </g>\r\n    </g>\r\n    <g id=\"ytick_2\">\r\n     <g id=\"line2d_7\">\r\n      <g>\r\n       <use style=\"stroke:#000000;stroke-width:0.8;\" x=\"30.103125\" xlink:href=\"#m917ddd8bd6\" y=\"201.42472\"/>\r\n      </g>\r\n     </g>\r\n     <g id=\"text_7\">\r\n      <!-- 0.5 -->\r\n      <defs>\r\n       <path d=\"M 10.796875 72.90625 \r\nL 49.515625 72.90625 \r\nL 49.515625 64.59375 \r\nL 19.828125 64.59375 \r\nL 19.828125 46.734375 \r\nQ 21.96875 47.46875 24.109375 47.828125 \r\nQ 26.265625 48.1875 28.421875 48.1875 \r\nQ 40.625 48.1875 47.75 41.5 \r\nQ 54.890625 34.8125 54.890625 23.390625 \r\nQ 54.890625 11.625 47.5625 5.09375 \r\nQ 40.234375 -1.421875 26.90625 -1.421875 \r\nQ 22.3125 -1.421875 17.546875 -0.640625 \r\nQ 12.796875 0.140625 7.71875 1.703125 \r\nL 7.71875 11.625 \r\nQ 12.109375 9.234375 16.796875 8.0625 \r\nQ 21.484375 6.890625 26.703125 6.890625 \r\nQ 35.15625 6.890625 40.078125 11.328125 \r\nQ 45.015625 15.765625 45.015625 23.390625 \r\nQ 45.015625 31 40.078125 35.4375 \r\nQ 35.15625 39.890625 26.703125 39.890625 \r\nQ 22.75 39.890625 18.8125 39.015625 \r\nQ 14.890625 38.140625 10.796875 36.28125 \r\nz\r\n\" id=\"DejaVuSans-53\"/>\r\n      </defs>\r\n      <g transform=\"translate(7.2 205.223938)scale(0.1 -0.1)\">\r\n       <use xlink:href=\"#DejaVuSans-48\"/>\r\n       <use x=\"63.623047\" xlink:href=\"#DejaVuSans-46\"/>\r\n       <use x=\"95.410156\" xlink:href=\"#DejaVuSans-53\"/>\r\n      </g>\r\n     </g>\r\n    </g>\r\n    <g id=\"ytick_3\">\r\n     <g id=\"line2d_8\">\r\n      <g>\r\n       <use style=\"stroke:#000000;stroke-width:0.8;\" x=\"30.103125\" xlink:href=\"#m917ddd8bd6\" y=\"167.580128\"/>\r\n      </g>\r\n     </g>\r\n     <g id=\"text_8\">\r\n      <!-- 0.6 -->\r\n      <g transform=\"translate(7.2 171.379347)scale(0.1 -0.1)\">\r\n       <use xlink:href=\"#DejaVuSans-48\"/>\r\n       <use x=\"63.623047\" xlink:href=\"#DejaVuSans-46\"/>\r\n       <use x=\"95.410156\" xlink:href=\"#DejaVuSans-54\"/>\r\n      </g>\r\n     </g>\r\n    </g>\r\n    <g id=\"ytick_4\">\r\n     <g id=\"line2d_9\">\r\n      <g>\r\n       <use style=\"stroke:#000000;stroke-width:0.8;\" x=\"30.103125\" xlink:href=\"#m917ddd8bd6\" y=\"133.735536\"/>\r\n      </g>\r\n     </g>\r\n     <g id=\"text_9\">\r\n      <!-- 0.7 -->\r\n      <defs>\r\n       <path d=\"M 8.203125 72.90625 \r\nL 55.078125 72.90625 \r\nL 55.078125 68.703125 \r\nL 28.609375 0 \r\nL 18.3125 0 \r\nL 43.21875 64.59375 \r\nL 8.203125 64.59375 \r\nz\r\n\" id=\"DejaVuSans-55\"/>\r\n      </defs>\r\n      <g transform=\"translate(7.2 137.534755)scale(0.1 -0.1)\">\r\n       <use xlink:href=\"#DejaVuSans-48\"/>\r\n       <use x=\"63.623047\" xlink:href=\"#DejaVuSans-46\"/>\r\n       <use x=\"95.410156\" xlink:href=\"#DejaVuSans-55\"/>\r\n      </g>\r\n     </g>\r\n    </g>\r\n    <g id=\"ytick_5\">\r\n     <g id=\"line2d_10\">\r\n      <g>\r\n       <use style=\"stroke:#000000;stroke-width:0.8;\" x=\"30.103125\" xlink:href=\"#m917ddd8bd6\" y=\"99.890945\"/>\r\n      </g>\r\n     </g>\r\n     <g id=\"text_10\">\r\n      <!-- 0.8 -->\r\n      <g transform=\"translate(7.2 103.690163)scale(0.1 -0.1)\">\r\n       <use xlink:href=\"#DejaVuSans-48\"/>\r\n       <use x=\"63.623047\" xlink:href=\"#DejaVuSans-46\"/>\r\n       <use x=\"95.410156\" xlink:href=\"#DejaVuSans-56\"/>\r\n      </g>\r\n     </g>\r\n    </g>\r\n    <g id=\"ytick_6\">\r\n     <g id=\"line2d_11\">\r\n      <g>\r\n       <use style=\"stroke:#000000;stroke-width:0.8;\" x=\"30.103125\" xlink:href=\"#m917ddd8bd6\" y=\"66.046353\"/>\r\n      </g>\r\n     </g>\r\n     <g id=\"text_11\">\r\n      <!-- 0.9 -->\r\n      <defs>\r\n       <path d=\"M 10.984375 1.515625 \r\nL 10.984375 10.5 \r\nQ 14.703125 8.734375 18.5 7.8125 \r\nQ 22.3125 6.890625 25.984375 6.890625 \r\nQ 35.75 6.890625 40.890625 13.453125 \r\nQ 46.046875 20.015625 46.78125 33.40625 \r\nQ 43.953125 29.203125 39.59375 26.953125 \r\nQ 35.25 24.703125 29.984375 24.703125 \r\nQ 19.046875 24.703125 12.671875 31.3125 \r\nQ 6.296875 37.9375 6.296875 49.421875 \r\nQ 6.296875 60.640625 12.9375 67.421875 \r\nQ 19.578125 74.21875 30.609375 74.21875 \r\nQ 43.265625 74.21875 49.921875 64.515625 \r\nQ 56.59375 54.828125 56.59375 36.375 \r\nQ 56.59375 19.140625 48.40625 8.859375 \r\nQ 40.234375 -1.421875 26.421875 -1.421875 \r\nQ 22.703125 -1.421875 18.890625 -0.6875 \r\nQ 15.09375 0.046875 10.984375 1.515625 \r\nz\r\nM 30.609375 32.421875 \r\nQ 37.25 32.421875 41.125 36.953125 \r\nQ 45.015625 41.5 45.015625 49.421875 \r\nQ 45.015625 57.28125 41.125 61.84375 \r\nQ 37.25 66.40625 30.609375 66.40625 \r\nQ 23.96875 66.40625 20.09375 61.84375 \r\nQ 16.21875 57.28125 16.21875 49.421875 \r\nQ 16.21875 41.5 20.09375 36.953125 \r\nQ 23.96875 32.421875 30.609375 32.421875 \r\nz\r\n\" id=\"DejaVuSans-57\"/>\r\n      </defs>\r\n      <g transform=\"translate(7.2 69.845572)scale(0.1 -0.1)\">\r\n       <use xlink:href=\"#DejaVuSans-48\"/>\r\n       <use x=\"63.623047\" xlink:href=\"#DejaVuSans-46\"/>\r\n       <use x=\"95.410156\" xlink:href=\"#DejaVuSans-57\"/>\r\n      </g>\r\n     </g>\r\n    </g>\r\n    <g id=\"ytick_7\">\r\n     <g id=\"line2d_12\">\r\n      <g>\r\n       <use style=\"stroke:#000000;stroke-width:0.8;\" x=\"30.103125\" xlink:href=\"#m917ddd8bd6\" y=\"32.201761\"/>\r\n      </g>\r\n     </g>\r\n     <g id=\"text_12\">\r\n      <!-- 1.0 -->\r\n      <g transform=\"translate(7.2 36.00098)scale(0.1 -0.1)\">\r\n       <use xlink:href=\"#DejaVuSans-49\"/>\r\n       <use x=\"63.623047\" xlink:href=\"#DejaVuSans-46\"/>\r\n       <use x=\"95.410156\" xlink:href=\"#DejaVuSans-48\"/>\r\n      </g>\r\n     </g>\r\n    </g>\r\n   </g>\r\n   <g id=\"line2d_13\">\r\n    <path clip-path=\"url(#p7998405241)\" d=\"M 30.103125 229.874489 \r\nL 33.484943 183.536014 \r\nL 36.866761 157.827782 \r\nL 40.24858 140.503297 \r\nL 43.630398 127.844488 \r\nL 47.012216 118.505904 \r\nL 50.394034 110.59234 \r\nL 53.775852 104.349739 \r\nL 57.15767 99.221113 \r\nL 60.539489 94.598839 \r\nL 63.921307 90.945869 \r\nL 67.303125 87.603943 \r\nL 70.684943 84.696034 \r\nL 74.066761 82.214907 \r\nL 80.830398 77.693904 \r\nL 84.212216 75.552757 \r\nL 90.975852 72.131262 \r\nL 94.35767 70.778577 \r\nL 97.739489 69.281221 \r\nL 104.503125 66.792861 \r\nL 107.884943 65.657185 \r\nL 121.412216 61.642534 \r\nL 128.175852 60.000506 \r\nL 134.939489 58.539318 \r\nL 148.466761 56.181162 \r\nL 161.994034 54.09065 \r\nL 189.04858 50.944032 \r\nL 209.339489 49.11393 \r\nL 219.484943 48.339934 \r\nL 229.630398 47.681676 \r\nL 243.15767 46.871513 \r\nL 256.684943 46.242189 \r\nL 276.975852 45.055878 \r\nL 307.412216 43.732128 \r\nL 320.939489 43.247476 \r\nL 358.139489 42.039464 \r\nL 361.521307 41.981595 \r\nL 368.284943 41.706718 \r\nL 382.646875 41.303699 \r\nL 382.646875 41.303699 \r\n\" style=\"fill:none;stroke:#ff0000;stroke-linecap:square;stroke-width:1.5;\"/>\r\n   </g>\r\n   <g id=\"patch_3\">\r\n    <path d=\"M 30.103125 239.758125 \r\nL 30.103125 22.318125 \r\n\" style=\"fill:none;stroke:#000000;stroke-linecap:square;stroke-linejoin:miter;stroke-width:0.8;\"/>\r\n   </g>\r\n   <g id=\"patch_4\">\r\n    <path d=\"M 364.903125 239.758125 \r\nL 364.903125 22.318125 \r\n\" style=\"fill:none;stroke:#000000;stroke-linecap:square;stroke-linejoin:miter;stroke-width:0.8;\"/>\r\n   </g>\r\n   <g id=\"patch_5\">\r\n    <path d=\"M 30.103125 239.758125 \r\nL 364.903125 239.758125 \r\n\" style=\"fill:none;stroke:#000000;stroke-linecap:square;stroke-linejoin:miter;stroke-width:0.8;\"/>\r\n   </g>\r\n   <g id=\"patch_6\">\r\n    <path d=\"M 30.103125 22.318125 \r\nL 364.903125 22.318125 \r\n\" style=\"fill:none;stroke:#000000;stroke-linecap:square;stroke-linejoin:miter;stroke-width:0.8;\"/>\r\n   </g>\r\n   <g id=\"text_13\">\r\n    <!-- Cumulative Distribution of Word Occurence -->\r\n    <defs>\r\n     <path d=\"M 64.40625 67.28125 \r\nL 64.40625 56.890625 \r\nQ 59.421875 61.53125 53.78125 63.8125 \r\nQ 48.140625 66.109375 41.796875 66.109375 \r\nQ 29.296875 66.109375 22.65625 58.46875 \r\nQ 16.015625 50.828125 16.015625 36.375 \r\nQ 16.015625 21.96875 22.65625 14.328125 \r\nQ 29.296875 6.6875 41.796875 6.6875 \r\nQ 48.140625 6.6875 53.78125 8.984375 \r\nQ 59.421875 11.28125 64.40625 15.921875 \r\nL 64.40625 5.609375 \r\nQ 59.234375 2.09375 53.4375 0.328125 \r\nQ 47.65625 -1.421875 41.21875 -1.421875 \r\nQ 24.65625 -1.421875 15.125 8.703125 \r\nQ 5.609375 18.84375 5.609375 36.375 \r\nQ 5.609375 53.953125 15.125 64.078125 \r\nQ 24.65625 74.21875 41.21875 74.21875 \r\nQ 47.75 74.21875 53.53125 72.484375 \r\nQ 59.328125 70.75 64.40625 67.28125 \r\nz\r\n\" id=\"DejaVuSans-67\"/>\r\n     <path d=\"M 8.5 21.578125 \r\nL 8.5 54.6875 \r\nL 17.484375 54.6875 \r\nL 17.484375 21.921875 \r\nQ 17.484375 14.15625 20.5 10.265625 \r\nQ 23.53125 6.390625 29.59375 6.390625 \r\nQ 36.859375 6.390625 41.078125 11.03125 \r\nQ 45.3125 15.671875 45.3125 23.6875 \r\nL 45.3125 54.6875 \r\nL 54.296875 54.6875 \r\nL 54.296875 0 \r\nL 45.3125 0 \r\nL 45.3125 8.40625 \r\nQ 42.046875 3.421875 37.71875 1 \r\nQ 33.40625 -1.421875 27.6875 -1.421875 \r\nQ 18.265625 -1.421875 13.375 4.4375 \r\nQ 8.5 10.296875 8.5 21.578125 \r\nz\r\nM 31.109375 56 \r\nz\r\n\" id=\"DejaVuSans-117\"/>\r\n     <path d=\"M 52 44.1875 \r\nQ 55.375 50.25 60.0625 53.125 \r\nQ 64.75 56 71.09375 56 \r\nQ 79.640625 56 84.28125 50.015625 \r\nQ 88.921875 44.046875 88.921875 33.015625 \r\nL 88.921875 0 \r\nL 79.890625 0 \r\nL 79.890625 32.71875 \r\nQ 79.890625 40.578125 77.09375 44.375 \r\nQ 74.3125 48.1875 68.609375 48.1875 \r\nQ 61.625 48.1875 57.5625 43.546875 \r\nQ 53.515625 38.921875 53.515625 30.90625 \r\nL 53.515625 0 \r\nL 44.484375 0 \r\nL 44.484375 32.71875 \r\nQ 44.484375 40.625 41.703125 44.40625 \r\nQ 38.921875 48.1875 33.109375 48.1875 \r\nQ 26.21875 48.1875 22.15625 43.53125 \r\nQ 18.109375 38.875 18.109375 30.90625 \r\nL 18.109375 0 \r\nL 9.078125 0 \r\nL 9.078125 54.6875 \r\nL 18.109375 54.6875 \r\nL 18.109375 46.1875 \r\nQ 21.1875 51.21875 25.484375 53.609375 \r\nQ 29.78125 56 35.6875 56 \r\nQ 41.65625 56 45.828125 52.96875 \r\nQ 50 49.953125 52 44.1875 \r\nz\r\n\" id=\"DejaVuSans-109\"/>\r\n     <path d=\"M 9.421875 75.984375 \r\nL 18.40625 75.984375 \r\nL 18.40625 0 \r\nL 9.421875 0 \r\nz\r\n\" id=\"DejaVuSans-108\"/>\r\n     <path d=\"M 34.28125 27.484375 \r\nQ 23.390625 27.484375 19.1875 25 \r\nQ 14.984375 22.515625 14.984375 16.5 \r\nQ 14.984375 11.71875 18.140625 8.90625 \r\nQ 21.296875 6.109375 26.703125 6.109375 \r\nQ 34.1875 6.109375 38.703125 11.40625 \r\nQ 43.21875 16.703125 43.21875 25.484375 \r\nL 43.21875 27.484375 \r\nz\r\nM 52.203125 31.203125 \r\nL 52.203125 0 \r\nL 43.21875 0 \r\nL 43.21875 8.296875 \r\nQ 40.140625 3.328125 35.546875 0.953125 \r\nQ 30.953125 -1.421875 24.3125 -1.421875 \r\nQ 15.921875 -1.421875 10.953125 3.296875 \r\nQ 6 8.015625 6 15.921875 \r\nQ 6 25.140625 12.171875 29.828125 \r\nQ 18.359375 34.515625 30.609375 34.515625 \r\nL 43.21875 34.515625 \r\nL 43.21875 35.40625 \r\nQ 43.21875 41.609375 39.140625 45 \r\nQ 35.0625 48.390625 27.6875 48.390625 \r\nQ 23 48.390625 18.546875 47.265625 \r\nQ 14.109375 46.140625 10.015625 43.890625 \r\nL 10.015625 52.203125 \r\nQ 14.9375 54.109375 19.578125 55.046875 \r\nQ 24.21875 56 28.609375 56 \r\nQ 40.484375 56 46.34375 49.84375 \r\nQ 52.203125 43.703125 52.203125 31.203125 \r\nz\r\n\" id=\"DejaVuSans-97\"/>\r\n     <path d=\"M 18.3125 70.21875 \r\nL 18.3125 54.6875 \r\nL 36.8125 54.6875 \r\nL 36.8125 47.703125 \r\nL 18.3125 47.703125 \r\nL 18.3125 18.015625 \r\nQ 18.3125 11.328125 20.140625 9.421875 \r\nQ 21.96875 7.515625 27.59375 7.515625 \r\nL 36.8125 7.515625 \r\nL 36.8125 0 \r\nL 27.59375 0 \r\nQ 17.1875 0 13.234375 3.875 \r\nQ 9.28125 7.765625 9.28125 18.015625 \r\nL 9.28125 47.703125 \r\nL 2.6875 47.703125 \r\nL 2.6875 54.6875 \r\nL 9.28125 54.6875 \r\nL 9.28125 70.21875 \r\nz\r\n\" id=\"DejaVuSans-116\"/>\r\n     <path d=\"M 9.421875 54.6875 \r\nL 18.40625 54.6875 \r\nL 18.40625 0 \r\nL 9.421875 0 \r\nz\r\nM 9.421875 75.984375 \r\nL 18.40625 75.984375 \r\nL 18.40625 64.59375 \r\nL 9.421875 64.59375 \r\nz\r\n\" id=\"DejaVuSans-105\"/>\r\n     <path d=\"M 2.984375 54.6875 \r\nL 12.5 54.6875 \r\nL 29.59375 8.796875 \r\nL 46.6875 54.6875 \r\nL 56.203125 54.6875 \r\nL 35.6875 0 \r\nL 23.484375 0 \r\nz\r\n\" id=\"DejaVuSans-118\"/>\r\n     <path d=\"M 56.203125 29.59375 \r\nL 56.203125 25.203125 \r\nL 14.890625 25.203125 \r\nQ 15.484375 15.921875 20.484375 11.0625 \r\nQ 25.484375 6.203125 34.421875 6.203125 \r\nQ 39.59375 6.203125 44.453125 7.46875 \r\nQ 49.3125 8.734375 54.109375 11.28125 \r\nL 54.109375 2.78125 \r\nQ 49.265625 0.734375 44.1875 -0.34375 \r\nQ 39.109375 -1.421875 33.890625 -1.421875 \r\nQ 20.796875 -1.421875 13.15625 6.1875 \r\nQ 5.515625 13.8125 5.515625 26.8125 \r\nQ 5.515625 40.234375 12.765625 48.109375 \r\nQ 20.015625 56 32.328125 56 \r\nQ 43.359375 56 49.78125 48.890625 \r\nQ 56.203125 41.796875 56.203125 29.59375 \r\nz\r\nM 47.21875 32.234375 \r\nQ 47.125 39.59375 43.09375 43.984375 \r\nQ 39.0625 48.390625 32.421875 48.390625 \r\nQ 24.90625 48.390625 20.390625 44.140625 \r\nQ 15.875 39.890625 15.1875 32.171875 \r\nz\r\n\" id=\"DejaVuSans-101\"/>\r\n     <path id=\"DejaVuSans-32\"/>\r\n     <path d=\"M 19.671875 64.796875 \r\nL 19.671875 8.109375 \r\nL 31.59375 8.109375 \r\nQ 46.6875 8.109375 53.6875 14.9375 \r\nQ 60.6875 21.78125 60.6875 36.53125 \r\nQ 60.6875 51.171875 53.6875 57.984375 \r\nQ 46.6875 64.796875 31.59375 64.796875 \r\nz\r\nM 9.8125 72.90625 \r\nL 30.078125 72.90625 \r\nQ 51.265625 72.90625 61.171875 64.09375 \r\nQ 71.09375 55.28125 71.09375 36.53125 \r\nQ 71.09375 17.671875 61.125 8.828125 \r\nQ 51.171875 0 30.078125 0 \r\nL 9.8125 0 \r\nz\r\n\" id=\"DejaVuSans-68\"/>\r\n     <path d=\"M 44.28125 53.078125 \r\nL 44.28125 44.578125 \r\nQ 40.484375 46.53125 36.375 47.5 \r\nQ 32.28125 48.484375 27.875 48.484375 \r\nQ 21.1875 48.484375 17.84375 46.4375 \r\nQ 14.5 44.390625 14.5 40.28125 \r\nQ 14.5 37.15625 16.890625 35.375 \r\nQ 19.28125 33.59375 26.515625 31.984375 \r\nL 29.59375 31.296875 \r\nQ 39.15625 29.25 43.1875 25.515625 \r\nQ 47.21875 21.78125 47.21875 15.09375 \r\nQ 47.21875 7.46875 41.1875 3.015625 \r\nQ 35.15625 -1.421875 24.609375 -1.421875 \r\nQ 20.21875 -1.421875 15.453125 -0.5625 \r\nQ 10.6875 0.296875 5.421875 2 \r\nL 5.421875 11.28125 \r\nQ 10.40625 8.6875 15.234375 7.390625 \r\nQ 20.0625 6.109375 24.8125 6.109375 \r\nQ 31.15625 6.109375 34.5625 8.28125 \r\nQ 37.984375 10.453125 37.984375 14.40625 \r\nQ 37.984375 18.0625 35.515625 20.015625 \r\nQ 33.0625 21.96875 24.703125 23.78125 \r\nL 21.578125 24.515625 \r\nQ 13.234375 26.265625 9.515625 29.90625 \r\nQ 5.8125 33.546875 5.8125 39.890625 \r\nQ 5.8125 47.609375 11.28125 51.796875 \r\nQ 16.75 56 26.8125 56 \r\nQ 31.78125 56 36.171875 55.265625 \r\nQ 40.578125 54.546875 44.28125 53.078125 \r\nz\r\n\" id=\"DejaVuSans-115\"/>\r\n     <path d=\"M 41.109375 46.296875 \r\nQ 39.59375 47.171875 37.8125 47.578125 \r\nQ 36.03125 48 33.890625 48 \r\nQ 26.265625 48 22.1875 43.046875 \r\nQ 18.109375 38.09375 18.109375 28.8125 \r\nL 18.109375 0 \r\nL 9.078125 0 \r\nL 9.078125 54.6875 \r\nL 18.109375 54.6875 \r\nL 18.109375 46.1875 \r\nQ 20.953125 51.171875 25.484375 53.578125 \r\nQ 30.03125 56 36.53125 56 \r\nQ 37.453125 56 38.578125 55.875 \r\nQ 39.703125 55.765625 41.0625 55.515625 \r\nz\r\n\" id=\"DejaVuSans-114\"/>\r\n     <path d=\"M 48.6875 27.296875 \r\nQ 48.6875 37.203125 44.609375 42.84375 \r\nQ 40.53125 48.484375 33.40625 48.484375 \r\nQ 26.265625 48.484375 22.1875 42.84375 \r\nQ 18.109375 37.203125 18.109375 27.296875 \r\nQ 18.109375 17.390625 22.1875 11.75 \r\nQ 26.265625 6.109375 33.40625 6.109375 \r\nQ 40.53125 6.109375 44.609375 11.75 \r\nQ 48.6875 17.390625 48.6875 27.296875 \r\nz\r\nM 18.109375 46.390625 \r\nQ 20.953125 51.265625 25.265625 53.625 \r\nQ 29.59375 56 35.59375 56 \r\nQ 45.5625 56 51.78125 48.09375 \r\nQ 58.015625 40.1875 58.015625 27.296875 \r\nQ 58.015625 14.40625 51.78125 6.484375 \r\nQ 45.5625 -1.421875 35.59375 -1.421875 \r\nQ 29.59375 -1.421875 25.265625 0.953125 \r\nQ 20.953125 3.328125 18.109375 8.203125 \r\nL 18.109375 0 \r\nL 9.078125 0 \r\nL 9.078125 75.984375 \r\nL 18.109375 75.984375 \r\nz\r\n\" id=\"DejaVuSans-98\"/>\r\n     <path d=\"M 30.609375 48.390625 \r\nQ 23.390625 48.390625 19.1875 42.75 \r\nQ 14.984375 37.109375 14.984375 27.296875 \r\nQ 14.984375 17.484375 19.15625 11.84375 \r\nQ 23.34375 6.203125 30.609375 6.203125 \r\nQ 37.796875 6.203125 41.984375 11.859375 \r\nQ 46.1875 17.53125 46.1875 27.296875 \r\nQ 46.1875 37.015625 41.984375 42.703125 \r\nQ 37.796875 48.390625 30.609375 48.390625 \r\nz\r\nM 30.609375 56 \r\nQ 42.328125 56 49.015625 48.375 \r\nQ 55.71875 40.765625 55.71875 27.296875 \r\nQ 55.71875 13.875 49.015625 6.21875 \r\nQ 42.328125 -1.421875 30.609375 -1.421875 \r\nQ 18.84375 -1.421875 12.171875 6.21875 \r\nQ 5.515625 13.875 5.515625 27.296875 \r\nQ 5.515625 40.765625 12.171875 48.375 \r\nQ 18.84375 56 30.609375 56 \r\nz\r\n\" id=\"DejaVuSans-111\"/>\r\n     <path d=\"M 54.890625 33.015625 \r\nL 54.890625 0 \r\nL 45.90625 0 \r\nL 45.90625 32.71875 \r\nQ 45.90625 40.484375 42.875 44.328125 \r\nQ 39.84375 48.1875 33.796875 48.1875 \r\nQ 26.515625 48.1875 22.3125 43.546875 \r\nQ 18.109375 38.921875 18.109375 30.90625 \r\nL 18.109375 0 \r\nL 9.078125 0 \r\nL 9.078125 54.6875 \r\nL 18.109375 54.6875 \r\nL 18.109375 46.1875 \r\nQ 21.34375 51.125 25.703125 53.5625 \r\nQ 30.078125 56 35.796875 56 \r\nQ 45.21875 56 50.046875 50.171875 \r\nQ 54.890625 44.34375 54.890625 33.015625 \r\nz\r\n\" id=\"DejaVuSans-110\"/>\r\n     <path d=\"M 37.109375 75.984375 \r\nL 37.109375 68.5 \r\nL 28.515625 68.5 \r\nQ 23.6875 68.5 21.796875 66.546875 \r\nQ 19.921875 64.59375 19.921875 59.515625 \r\nL 19.921875 54.6875 \r\nL 34.71875 54.6875 \r\nL 34.71875 47.703125 \r\nL 19.921875 47.703125 \r\nL 19.921875 0 \r\nL 10.890625 0 \r\nL 10.890625 47.703125 \r\nL 2.296875 47.703125 \r\nL 2.296875 54.6875 \r\nL 10.890625 54.6875 \r\nL 10.890625 58.5 \r\nQ 10.890625 67.625 15.140625 71.796875 \r\nQ 19.390625 75.984375 28.609375 75.984375 \r\nz\r\n\" id=\"DejaVuSans-102\"/>\r\n     <path d=\"M 3.328125 72.90625 \r\nL 13.28125 72.90625 \r\nL 28.609375 11.28125 \r\nL 43.890625 72.90625 \r\nL 54.984375 72.90625 \r\nL 70.3125 11.28125 \r\nL 85.59375 72.90625 \r\nL 95.609375 72.90625 \r\nL 77.296875 0 \r\nL 64.890625 0 \r\nL 49.515625 63.28125 \r\nL 33.984375 0 \r\nL 21.578125 0 \r\nz\r\n\" id=\"DejaVuSans-87\"/>\r\n     <path d=\"M 45.40625 46.390625 \r\nL 45.40625 75.984375 \r\nL 54.390625 75.984375 \r\nL 54.390625 0 \r\nL 45.40625 0 \r\nL 45.40625 8.203125 \r\nQ 42.578125 3.328125 38.25 0.953125 \r\nQ 33.9375 -1.421875 27.875 -1.421875 \r\nQ 17.96875 -1.421875 11.734375 6.484375 \r\nQ 5.515625 14.40625 5.515625 27.296875 \r\nQ 5.515625 40.1875 11.734375 48.09375 \r\nQ 17.96875 56 27.875 56 \r\nQ 33.9375 56 38.25 53.625 \r\nQ 42.578125 51.265625 45.40625 46.390625 \r\nz\r\nM 14.796875 27.296875 \r\nQ 14.796875 17.390625 18.875 11.75 \r\nQ 22.953125 6.109375 30.078125 6.109375 \r\nQ 37.203125 6.109375 41.296875 11.75 \r\nQ 45.40625 17.390625 45.40625 27.296875 \r\nQ 45.40625 37.203125 41.296875 42.84375 \r\nQ 37.203125 48.484375 30.078125 48.484375 \r\nQ 22.953125 48.484375 18.875 42.84375 \r\nQ 14.796875 37.203125 14.796875 27.296875 \r\nz\r\n\" id=\"DejaVuSans-100\"/>\r\n     <path d=\"M 39.40625 66.21875 \r\nQ 28.65625 66.21875 22.328125 58.203125 \r\nQ 16.015625 50.203125 16.015625 36.375 \r\nQ 16.015625 22.609375 22.328125 14.59375 \r\nQ 28.65625 6.59375 39.40625 6.59375 \r\nQ 50.140625 6.59375 56.421875 14.59375 \r\nQ 62.703125 22.609375 62.703125 36.375 \r\nQ 62.703125 50.203125 56.421875 58.203125 \r\nQ 50.140625 66.21875 39.40625 66.21875 \r\nz\r\nM 39.40625 74.21875 \r\nQ 54.734375 74.21875 63.90625 63.9375 \r\nQ 73.09375 53.65625 73.09375 36.375 \r\nQ 73.09375 19.140625 63.90625 8.859375 \r\nQ 54.734375 -1.421875 39.40625 -1.421875 \r\nQ 24.03125 -1.421875 14.8125 8.828125 \r\nQ 5.609375 19.09375 5.609375 36.375 \r\nQ 5.609375 53.65625 14.8125 63.9375 \r\nQ 24.03125 74.21875 39.40625 74.21875 \r\nz\r\n\" id=\"DejaVuSans-79\"/>\r\n     <path d=\"M 48.78125 52.59375 \r\nL 48.78125 44.1875 \r\nQ 44.96875 46.296875 41.140625 47.34375 \r\nQ 37.3125 48.390625 33.40625 48.390625 \r\nQ 24.65625 48.390625 19.8125 42.84375 \r\nQ 14.984375 37.3125 14.984375 27.296875 \r\nQ 14.984375 17.28125 19.8125 11.734375 \r\nQ 24.65625 6.203125 33.40625 6.203125 \r\nQ 37.3125 6.203125 41.140625 7.25 \r\nQ 44.96875 8.296875 48.78125 10.40625 \r\nL 48.78125 2.09375 \r\nQ 45.015625 0.34375 40.984375 -0.53125 \r\nQ 36.96875 -1.421875 32.421875 -1.421875 \r\nQ 20.0625 -1.421875 12.78125 6.34375 \r\nQ 5.515625 14.109375 5.515625 27.296875 \r\nQ 5.515625 40.671875 12.859375 48.328125 \r\nQ 20.21875 56 33.015625 56 \r\nQ 37.15625 56 41.109375 55.140625 \r\nQ 45.0625 54.296875 48.78125 52.59375 \r\nz\r\n\" id=\"DejaVuSans-99\"/>\r\n    </defs>\r\n    <g transform=\"translate(66.897188 16.318125)scale(0.12 -0.12)\">\r\n     <use xlink:href=\"#DejaVuSans-67\"/>\r\n     <use x=\"69.824219\" xlink:href=\"#DejaVuSans-117\"/>\r\n     <use x=\"133.203125\" xlink:href=\"#DejaVuSans-109\"/>\r\n     <use x=\"230.615234\" xlink:href=\"#DejaVuSans-117\"/>\r\n     <use x=\"293.994141\" xlink:href=\"#DejaVuSans-108\"/>\r\n     <use x=\"321.777344\" xlink:href=\"#DejaVuSans-97\"/>\r\n     <use x=\"383.056641\" xlink:href=\"#DejaVuSans-116\"/>\r\n     <use x=\"422.265625\" xlink:href=\"#DejaVuSans-105\"/>\r\n     <use x=\"450.048828\" xlink:href=\"#DejaVuSans-118\"/>\r\n     <use x=\"509.228516\" xlink:href=\"#DejaVuSans-101\"/>\r\n     <use x=\"570.751953\" xlink:href=\"#DejaVuSans-32\"/>\r\n     <use x=\"602.539062\" xlink:href=\"#DejaVuSans-68\"/>\r\n     <use x=\"679.541016\" xlink:href=\"#DejaVuSans-105\"/>\r\n     <use x=\"707.324219\" xlink:href=\"#DejaVuSans-115\"/>\r\n     <use x=\"759.423828\" xlink:href=\"#DejaVuSans-116\"/>\r\n     <use x=\"798.632812\" xlink:href=\"#DejaVuSans-114\"/>\r\n     <use x=\"839.746094\" xlink:href=\"#DejaVuSans-105\"/>\r\n     <use x=\"867.529297\" xlink:href=\"#DejaVuSans-98\"/>\r\n     <use x=\"931.005859\" xlink:href=\"#DejaVuSans-117\"/>\r\n     <use x=\"994.384766\" xlink:href=\"#DejaVuSans-116\"/>\r\n     <use x=\"1033.59375\" xlink:href=\"#DejaVuSans-105\"/>\r\n     <use x=\"1061.376953\" xlink:href=\"#DejaVuSans-111\"/>\r\n     <use x=\"1122.558594\" xlink:href=\"#DejaVuSans-110\"/>\r\n     <use x=\"1185.9375\" xlink:href=\"#DejaVuSans-32\"/>\r\n     <use x=\"1217.724609\" xlink:href=\"#DejaVuSans-111\"/>\r\n     <use x=\"1278.90625\" xlink:href=\"#DejaVuSans-102\"/>\r\n     <use x=\"1314.111328\" xlink:href=\"#DejaVuSans-32\"/>\r\n     <use x=\"1345.898438\" xlink:href=\"#DejaVuSans-87\"/>\r\n     <use x=\"1444.697266\" xlink:href=\"#DejaVuSans-111\"/>\r\n     <use x=\"1505.878906\" xlink:href=\"#DejaVuSans-114\"/>\r\n     <use x=\"1546.976562\" xlink:href=\"#DejaVuSans-100\"/>\r\n     <use x=\"1610.453125\" xlink:href=\"#DejaVuSans-32\"/>\r\n     <use x=\"1642.240234\" xlink:href=\"#DejaVuSans-79\"/>\r\n     <use x=\"1720.951172\" xlink:href=\"#DejaVuSans-99\"/>\r\n     <use x=\"1775.931641\" xlink:href=\"#DejaVuSans-99\"/>\r\n     <use x=\"1830.912109\" xlink:href=\"#DejaVuSans-117\"/>\r\n     <use x=\"1894.291016\" xlink:href=\"#DejaVuSans-114\"/>\r\n     <use x=\"1935.373047\" xlink:href=\"#DejaVuSans-101\"/>\r\n     <use x=\"1996.896484\" xlink:href=\"#DejaVuSans-110\"/>\r\n     <use x=\"2060.275391\" xlink:href=\"#DejaVuSans-99\"/>\r\n     <use x=\"2115.255859\" xlink:href=\"#DejaVuSans-101\"/>\r\n    </g>\r\n   </g>\r\n   <g id=\"legend_1\">\r\n    <g id=\"patch_7\">\r\n     <path d=\"M 37.103125 44.99625 \r\nL 87.942188 44.99625 \r\nQ 89.942188 44.99625 89.942188 42.99625 \r\nL 89.942188 29.318125 \r\nQ 89.942188 27.318125 87.942188 27.318125 \r\nL 37.103125 27.318125 \r\nQ 35.103125 27.318125 35.103125 29.318125 \r\nL 35.103125 42.99625 \r\nQ 35.103125 44.99625 37.103125 44.99625 \r\nz\r\n\" style=\"fill:#ffffff;opacity:0.8;stroke:#cccccc;stroke-linejoin:miter;\"/>\r\n    </g>\r\n    <g id=\"line2d_14\">\r\n     <path d=\"M 39.103125 35.416562 \r\nL 59.103125 35.416562 \r\n\" style=\"fill:none;stroke:#ff0000;stroke-linecap:square;stroke-width:1.5;\"/>\r\n    </g>\r\n    <g id=\"line2d_15\"/>\r\n    <g id=\"text_14\">\r\n     <!-- eng -->\r\n     <defs>\r\n      <path d=\"M 45.40625 27.984375 \r\nQ 45.40625 37.75 41.375 43.109375 \r\nQ 37.359375 48.484375 30.078125 48.484375 \r\nQ 22.859375 48.484375 18.828125 43.109375 \r\nQ 14.796875 37.75 14.796875 27.984375 \r\nQ 14.796875 18.265625 18.828125 12.890625 \r\nQ 22.859375 7.515625 30.078125 7.515625 \r\nQ 37.359375 7.515625 41.375 12.890625 \r\nQ 45.40625 18.265625 45.40625 27.984375 \r\nz\r\nM 54.390625 6.78125 \r\nQ 54.390625 -7.171875 48.1875 -13.984375 \r\nQ 42 -20.796875 29.203125 -20.796875 \r\nQ 24.46875 -20.796875 20.265625 -20.09375 \r\nQ 16.0625 -19.390625 12.109375 -17.921875 \r\nL 12.109375 -9.1875 \r\nQ 16.0625 -11.328125 19.921875 -12.34375 \r\nQ 23.78125 -13.375 27.78125 -13.375 \r\nQ 36.625 -13.375 41.015625 -8.765625 \r\nQ 45.40625 -4.15625 45.40625 5.171875 \r\nL 45.40625 9.625 \r\nQ 42.625 4.78125 38.28125 2.390625 \r\nQ 33.9375 0 27.875 0 \r\nQ 17.828125 0 11.671875 7.65625 \r\nQ 5.515625 15.328125 5.515625 27.984375 \r\nQ 5.515625 40.671875 11.671875 48.328125 \r\nQ 17.828125 56 27.875 56 \r\nQ 33.9375 56 38.28125 53.609375 \r\nQ 42.625 51.21875 45.40625 46.390625 \r\nL 45.40625 54.6875 \r\nL 54.390625 54.6875 \r\nz\r\n\" id=\"DejaVuSans-103\"/>\r\n     </defs>\r\n     <g transform=\"translate(67.103125 38.916562)scale(0.1 -0.1)\">\r\n      <use xlink:href=\"#DejaVuSans-101\"/>\r\n      <use x=\"61.523438\" xlink:href=\"#DejaVuSans-110\"/>\r\n      <use x=\"124.902344\" xlink:href=\"#DejaVuSans-103\"/>\r\n     </g>\r\n    </g>\r\n   </g>\r\n  </g>\r\n </g>\r\n <defs>\r\n  <clipPath id=\"p7998405241\">\r\n   <rect height=\"217.44\" width=\"334.8\" x=\"30.103125\" y=\"22.318125\"/>\r\n  </clipPath>\r\n </defs>\r\n</svg>\r\n",
            "image/png": "[encoded data removed]"
          },
          "metadata": {
            "tags": [],
            "needs_background": "light"
          }
        }
      ]
    },
    {
      "cell_type": "code",
      "metadata": {
        "colab_type": "code",
        "id": "zrKjnRgQkTMk",
        "colab": {}
      },
      "source": [
        "MIN_FREQ=1\n",
        "MAX_LEN=50"
      ],
      "execution_count": 0,
      "outputs": []
    },
    {
      "cell_type": "markdown",
      "metadata": {
        "id": "tC4FBn4i2wH0",
        "colab_type": "text"
      },
      "source": [
        "# Container class for dataset"
      ]
    },
    {
      "cell_type": "code",
      "metadata": {
        "colab_type": "code",
        "id": "Njv_eA9ZievS",
        "colab": {}
      },
      "source": [
        "class Vocab():\n",
        "  def __init__(self, name, tokens, min_freq):\n",
        "    self.name = name\n",
        "    self.index2word = {\n",
        "      0: 'pad',\n",
        "      1: 'unk'\n",
        "    }\n",
        "    self.word2index = {v: k for k, v in self.index2word.items()}\n",
        "    self.num_word = 2\n",
        "    token_freq = collections.Counter(tokens)\n",
        "    tokens = [token for token in tokens if token_freq[token] >= MIN_FREQ]\n",
        "    self._build_vocab(tokens)\n",
        "    \n",
        "  def _build_vocab(self, tokens):\n",
        "    for token in tokens:\n",
        "      if token not in self.word2index:\n",
        "        self.word2index[token] = self.num_word\n",
        "        self.index2word[self.num_word] = token\n",
        "        self.num_word += 1\n",
        "        \n",
        "  def __getitem__(self, tokens):\n",
        "    if not isinstance(tokens, (list, tuple)):\n",
        "      return self.word2index.get(tokens, self.word2index['unk'])\n",
        "    else:\n",
        "      return [self.__getitem__(token) for token in tokens]"
      ],
      "execution_count": 0,
      "outputs": []
    },
    {
      "cell_type": "code",
      "metadata": {
        "colab_type": "code",
        "id": "hkgiV8PYnwUx",
        "colab": {}
      },
      "source": [
        "def build_vocab(name, tokens, min_freq):\n",
        "  sentences=tokens[:,0]\n",
        "  tokens = [token for sentence in sentences for token in sentence]\n",
        "  return Vocab(name, tokens, min_freq)\n",
        "\n",
        "def build_vocabs(lang_src, src_text):\n",
        "  vocab_src = build_vocab(lang_src, src_text, MIN_FREQ)\n",
        "  return vocab_src\n",
        "\n",
        "def pad(line, padding_token):\n",
        "  return line + [padding_token] * (MAX_LEN-len(line))\n",
        "\n",
        "def build_tensor(text, reviews_vocab):\n",
        "  labels=text[:,1]\n",
        "  lines = [reviews_vocab[line] for line in text[:,0]]\n",
        "  lst=[]\n",
        "  for i in range(len(lines)):\n",
        "    padded_sentence=torch.tensor(pad(lines[i],reviews_vocab['pad']))\n",
        "    label=torch.tensor(labels[i])\n",
        "    lst.append([padded_sentence,label])\n",
        "  return lst\n",
        "\n",
        "def load_reviews_data():\n",
        "  reviews_vocab = build_vocabs('reviews', data)\n",
        "  for i in range(len(data[:,0])):\n",
        "    data[:,0][i]=data[:,0][i][:MAX_LEN]\n",
        "  reviews_array = build_tensor(data, reviews_vocab)\n",
        "  return reviews_vocab,reviews_array\n",
        "\n",
        "\n",
        "#source, target = prepare_data(raw_text, max_len=MAX_LEN)\n",
        "#vocab_eng, vocab_fra, train_iter = load_data_nmt(batch_size=2)\n",
        "#print('Vocabulary size of source language: {}'.format(vocab_eng.num_word))\n",
        "#print('Vocabulary size of target language: {}'.format(vocab_fra.num_word))\n",
        "#print('Total number of sentence pairs: {}'.format(len(source)))"
      ],
      "execution_count": 0,
      "outputs": []
    },
    {
      "cell_type": "code",
      "metadata": {
        "colab_type": "code",
        "id": "Wknd8TGe3OS2",
        "colab": {}
      },
      "source": [
        "reviews_vocab,reviews_array=load_reviews_data()"
      ],
      "execution_count": 0,
      "outputs": []
    },
    {
      "cell_type": "markdown",
      "metadata": {
        "id": "57FEutro2wH5",
        "colab_type": "text"
      },
      "source": [
        "# CRAN used with Pytorch embedding"
      ]
    },
    {
      "cell_type": "code",
      "metadata": {
        "colab_type": "code",
        "id": "BN4NHZ9eNzfr",
        "colab": {}
      },
      "source": [
        "class CRAN(nn.Module):\n",
        "  def __init__(self,vocab_size,embedding_size,cnn_window_length,hidden_units,p_dropout):\n",
        "    super(CRAN, self).__init__()\n",
        "\n",
        "    \"\"\"\n",
        "    inputs:\n",
        "      cnn_num_filters: the number of convolutional kernels, represents the number of output channels parameter in Conv2d\n",
        "      cnn_window_length: in a kernel size of d*l, d represents the embedding size and l represents the window length\n",
        "      LSTM_hidden_units: number of hidden units in LSTM layer\n",
        "      dropout: dropout probability for CNN\n",
        "      embedding_size: length of embedded word vectors \n",
        "    \"\"\"\n",
        "    self.embedding=nn.Embedding(vocab_size,embedding_size)\n",
        "    self.cnn=torch.nn.Conv2d(1,hidden_units,(cnn_window_length,embedding_size), padding=(1,0))\n",
        "    self.dropout=torch.nn.Dropout(p_dropout)\n",
        "    self.rnn=torch.nn.LSTM(embedding_size,hidden_units,1, batch_first=True)\n",
        "    self.hidden_size = hidden_units\n",
        "    self.dense = nn.Linear(hidden_units, 2)\n",
        "  def forward(self,batch,labels):\n",
        "    word_embedded=self.embedding(batch)\n",
        "    (N,T,d)=word_embedded.shape\n",
        "    word_embedded=word_embedded.view(N,1,T,d)\n",
        "    #apply convolutional filters to the input sentences\n",
        "    cnn_output=self.cnn(word_embedded)\n",
        "    #cnn_output will be of shape (N,cnn_num_filters,H_out from Pytorch documentation,1)\n",
        "    shape=cnn_output.shape\n",
        "    cnn_output= F.relu(cnn_output.view(N,shape[1],shape[2]))\n",
        "    #average across the different filter outputs\n",
        "    cnn_output=torch.mean(cnn_output,1)\n",
        "    h = batch.new_zeros(1, N, self.hidden_size).float()\n",
        "    c = batch.new_zeros(1, N, self.hidden_size).float()\n",
        "    word_embedded=word_embedded.view(N,T,d)\n",
        "  \n",
        "    lstm_out, (h,c) = self.rnn(word_embedded, (h, c))\n",
        "\n",
        "    s = torch.mean(lstm_out * cnn_output.unsqueeze(2), 1)\n",
        "\n",
        "    pred = F.log_softmax(self.dense(s))\n",
        "    \n",
        "    if self.training:\n",
        "      loss = F.nll_loss(pred, labels)\n",
        "\n",
        "      return loss, pred.argmax(dim=-1)\n",
        "    else:\n",
        "      return pred"
      ],
      "execution_count": 0,
      "outputs": []
    },
    {
      "cell_type": "markdown",
      "metadata": {
        "id": "h6SeAPiN2wH8",
        "colab_type": "text"
      },
      "source": [
        "# training CRAN with Pytorch embedding"
      ]
    },
    {
      "cell_type": "code",
      "metadata": {
        "colab_type": "code",
        "id": "nq7hfnE_PjLf",
        "outputId": "0c7822fa-2633-45ae-c3b1-c47ba436b6f4",
        "colab": {}
      },
      "source": [
        "reviews=torch.zeros((len(reviews_array),len(reviews_array[0][0])),dtype=torch.long)\n",
        "labels=torch.zeros((len(reviews_array)),dtype=torch.long)\n",
        "for i in range(len(reviews_array)):\n",
        "  reviews[i]=torch.tensor(reviews_array[i][0])\n",
        "  labels[i]=torch.tensor(reviews_array[i][1])\n",
        "\n",
        "batch_size = 16\n",
        "vocab_size=reviews_vocab.num_word\n",
        "embedding_dim = 100\n",
        "hidden_size = 100\n",
        "cnn_window_length=3\n",
        "lr = 1e-3\n",
        "epoch = 10\n",
        "p_dropout=0.5\n",
        "\n",
        "CRAN_m = CRAN(vocab_size, embedding_dim, cnn_window_length,hidden_size,p_dropout)\n",
        "device = torch.device('cuda:0') # cuda:0 if you have gpu\n",
        "CRAN_m = CRAN_m.to(device)\n",
        "\n",
        "optimizer = torch.optim.Adam(CRAN_m.parameters(), lr=lr)\n",
        "loss_list = []\n",
        "for e in range(epoch):\n",
        "  CRAN_m.train()\n",
        "  permutation=torch.randperm(reviews.size()[0])\n",
        "  for i in range(0,reviews.size()[0],batch_size):\n",
        "    indices = permutation[i:i+batch_size]\n",
        "    reviews_batch, labels_batch = reviews[indices], labels[indices]\n",
        "    reviews_batch=reviews_batch.to(device)\n",
        "    labels_batch=labels_batch.to(device)\n",
        "    loss, pred = CRAN_m(reviews_batch,labels_batch)\n",
        "    loss_list.append(loss.mean().detach())\n",
        "    optimizer.zero_grad()\n",
        "    loss.mean().backward()\n",
        "    optimizer.step()\n",
        "    if i%5000==0:\n",
        "      print(loss.mean())"
      ],
      "execution_count": 0,
      "outputs": [
        {
          "output_type": "stream",
          "text": [
            "tensor(0.6880, device='cuda:0', grad_fn=<MeanBackward0>)\n",
            "tensor(0.6909, device='cuda:0', grad_fn=<MeanBackward0>)\n",
            "tensor(0.7177, device='cuda:0', grad_fn=<MeanBackward0>)\n",
            "tensor(0.6778, device='cuda:0', grad_fn=<MeanBackward0>)\n",
            "tensor(0.6197, device='cuda:0', grad_fn=<MeanBackward0>)\n",
            "tensor(0.7317, device='cuda:0', grad_fn=<MeanBackward0>)\n",
            "tensor(0.6719, device='cuda:0', grad_fn=<MeanBackward0>)\n",
            "tensor(0.5475, device='cuda:0', grad_fn=<MeanBackward0>)\n",
            "tensor(0.5228, device='cuda:0', grad_fn=<MeanBackward0>)\n",
            "tensor(0.5581, device='cuda:0', grad_fn=<MeanBackward0>)\n",
            "tensor(0.5063, device='cuda:0', grad_fn=<MeanBackward0>)\n",
            "tensor(0.8008, device='cuda:0', grad_fn=<MeanBackward0>)\n",
            "tensor(0.5562, device='cuda:0', grad_fn=<MeanBackward0>)\n",
            "tensor(0.5477, device='cuda:0', grad_fn=<MeanBackward0>)\n",
            "tensor(0.6435, device='cuda:0', grad_fn=<MeanBackward0>)\n",
            "tensor(0.5599, device='cuda:0', grad_fn=<MeanBackward0>)\n"
          ],
          "name": "stdout"
        },
        {
          "output_type": "error",
          "ename": "KeyboardInterrupt",
          "evalue": "",
          "traceback": [
            "\u001b[1;31m---------------------------------------------------------------------------\u001b[0m",
            "\u001b[1;31mKeyboardInterrupt\u001b[0m                         Traceback (most recent call last)",
            "\u001b[1;32m<ipython-input-21-cef542745214>\u001b[0m in \u001b[0;36m<module>\u001b[1;34m\u001b[0m\n\u001b[0;32m     32\u001b[0m     \u001b[0mloss_list\u001b[0m\u001b[1;33m.\u001b[0m\u001b[0mappend\u001b[0m\u001b[1;33m(\u001b[0m\u001b[0mloss\u001b[0m\u001b[1;33m.\u001b[0m\u001b[0mmean\u001b[0m\u001b[1;33m(\u001b[0m\u001b[1;33m)\u001b[0m\u001b[1;33m.\u001b[0m\u001b[0mdetach\u001b[0m\u001b[1;33m(\u001b[0m\u001b[1;33m)\u001b[0m\u001b[1;33m)\u001b[0m\u001b[1;33m\u001b[0m\u001b[1;33m\u001b[0m\u001b[0m\n\u001b[0;32m     33\u001b[0m     \u001b[0moptimizer\u001b[0m\u001b[1;33m.\u001b[0m\u001b[0mzero_grad\u001b[0m\u001b[1;33m(\u001b[0m\u001b[1;33m)\u001b[0m\u001b[1;33m\u001b[0m\u001b[1;33m\u001b[0m\u001b[0m\n\u001b[1;32m---> 34\u001b[1;33m     \u001b[0mloss\u001b[0m\u001b[1;33m.\u001b[0m\u001b[0mmean\u001b[0m\u001b[1;33m(\u001b[0m\u001b[1;33m)\u001b[0m\u001b[1;33m.\u001b[0m\u001b[0mbackward\u001b[0m\u001b[1;33m(\u001b[0m\u001b[1;33m)\u001b[0m\u001b[1;33m\u001b[0m\u001b[1;33m\u001b[0m\u001b[0m\n\u001b[0m\u001b[0;32m     35\u001b[0m     \u001b[0moptimizer\u001b[0m\u001b[1;33m.\u001b[0m\u001b[0mstep\u001b[0m\u001b[1;33m(\u001b[0m\u001b[1;33m)\u001b[0m\u001b[1;33m\u001b[0m\u001b[1;33m\u001b[0m\u001b[0m\n\u001b[0;32m     36\u001b[0m     \u001b[1;32mif\u001b[0m \u001b[0mi\u001b[0m\u001b[1;33m%\u001b[0m\u001b[1;36m5000\u001b[0m\u001b[1;33m==\u001b[0m\u001b[1;36m0\u001b[0m\u001b[1;33m:\u001b[0m\u001b[1;33m\u001b[0m\u001b[1;33m\u001b[0m\u001b[0m\n",
            "\u001b[1;32m~\\AppData\\Local\\Programs\\Python\\Python37\\lib\\site-packages\\torch\\tensor.py\u001b[0m in \u001b[0;36mbackward\u001b[1;34m(self, gradient, retain_graph, create_graph)\u001b[0m\n\u001b[0;32m    193\u001b[0m                 \u001b[0mproducts\u001b[0m\u001b[1;33m.\u001b[0m \u001b[0mDefaults\u001b[0m \u001b[0mto\u001b[0m\u001b[0;31m \u001b[0m\u001b[0;31m`\u001b[0m\u001b[0;31m`\u001b[0m\u001b[1;32mFalse\u001b[0m\u001b[0;31m`\u001b[0m\u001b[0;31m`\u001b[0m\u001b[1;33m.\u001b[0m\u001b[1;33m\u001b[0m\u001b[1;33m\u001b[0m\u001b[0m\n\u001b[0;32m    194\u001b[0m         \"\"\"\n\u001b[1;32m--> 195\u001b[1;33m         \u001b[0mtorch\u001b[0m\u001b[1;33m.\u001b[0m\u001b[0mautograd\u001b[0m\u001b[1;33m.\u001b[0m\u001b[0mbackward\u001b[0m\u001b[1;33m(\u001b[0m\u001b[0mself\u001b[0m\u001b[1;33m,\u001b[0m \u001b[0mgradient\u001b[0m\u001b[1;33m,\u001b[0m \u001b[0mretain_graph\u001b[0m\u001b[1;33m,\u001b[0m \u001b[0mcreate_graph\u001b[0m\u001b[1;33m)\u001b[0m\u001b[1;33m\u001b[0m\u001b[1;33m\u001b[0m\u001b[0m\n\u001b[0m\u001b[0;32m    196\u001b[0m \u001b[1;33m\u001b[0m\u001b[0m\n\u001b[0;32m    197\u001b[0m     \u001b[1;32mdef\u001b[0m \u001b[0mregister_hook\u001b[0m\u001b[1;33m(\u001b[0m\u001b[0mself\u001b[0m\u001b[1;33m,\u001b[0m \u001b[0mhook\u001b[0m\u001b[1;33m)\u001b[0m\u001b[1;33m:\u001b[0m\u001b[1;33m\u001b[0m\u001b[1;33m\u001b[0m\u001b[0m\n",
            "\u001b[1;32m~\\AppData\\Local\\Programs\\Python\\Python37\\lib\\site-packages\\torch\\autograd\\__init__.py\u001b[0m in \u001b[0;36mbackward\u001b[1;34m(tensors, grad_tensors, retain_graph, create_graph, grad_variables)\u001b[0m\n\u001b[0;32m     97\u001b[0m     Variable._execution_engine.run_backward(\n\u001b[0;32m     98\u001b[0m         \u001b[0mtensors\u001b[0m\u001b[1;33m,\u001b[0m \u001b[0mgrad_tensors\u001b[0m\u001b[1;33m,\u001b[0m \u001b[0mretain_graph\u001b[0m\u001b[1;33m,\u001b[0m \u001b[0mcreate_graph\u001b[0m\u001b[1;33m,\u001b[0m\u001b[1;33m\u001b[0m\u001b[1;33m\u001b[0m\u001b[0m\n\u001b[1;32m---> 99\u001b[1;33m         allow_unreachable=True)  # allow_unreachable flag\n\u001b[0m\u001b[0;32m    100\u001b[0m \u001b[1;33m\u001b[0m\u001b[0m\n\u001b[0;32m    101\u001b[0m \u001b[1;33m\u001b[0m\u001b[0m\n",
            "\u001b[1;31mKeyboardInterrupt\u001b[0m: "
          ]
        }
      ]
    },
    {
      "cell_type": "markdown",
      "metadata": {
        "id": "8jO6I6FZ2wH-",
        "colab_type": "text"
      },
      "source": [
        "# Google Embedding"
      ]
    },
    {
      "cell_type": "code",
      "metadata": {
        "colab_type": "code",
        "id": "kDOtN_X9nhcK",
        "colab": {}
      },
      "source": [
        "class GoogleEmbedding(nn.Module):\n",
        "  def __init__(self, model_path):\n",
        "    super(GoogleEmbedding, self).__init__()\n",
        "\n",
        "    # Load Google's pre-trained Word2Vec model.\n",
        "    self.model = KeyedVectors.load(model_path, mmap='r')\n",
        "\n",
        "  def forward(self, batch):\n",
        "    out = []\n",
        "    for sent in batch:\n",
        "      sent_embed = []\n",
        "      for word in sent:\n",
        "        sent_embed.append(self.model[word])\n",
        "      \n",
        "      sent_embed = np.array(sent_embed)\n",
        "      out.append(sent_embed)\n",
        "    return np.array(out)"
      ],
      "execution_count": 0,
      "outputs": []
    },
    {
      "cell_type": "code",
      "metadata": {
        "colab_type": "code",
        "id": "qvaMIEUtnv5M",
        "outputId": "8120decb-d11b-4f76-b2f3-c0f0da6aa0f5",
        "colab": {
          "base_uri": "https://localhost:8080/",
          "height": 70
        }
      },
      "source": [
        "embedding = GoogleEmbedding('/content/drive/My Drive/ML Final/embedding_model')"
      ],
      "execution_count": 14,
      "outputs": [
        {
          "output_type": "stream",
          "text": [
            "/usr/local/lib/python3.6/dist-packages/smart_open/smart_open_lib.py:253: UserWarning: This function is deprecated, use smart_open.open instead. See the migration notes for details: https://github.com/RaRe-Technologies/smart_open/blob/master/README.rst#migrating-to-the-new-open-function\n",
            "  'See the migration notes for details: %s' % _MIGRATION_NOTES_URL\n"
          ],
          "name": "stderr"
        }
      ]
    },
    {
      "cell_type": "code",
      "metadata": {
        "colab_type": "code",
        "id": "CA6fHmgwFjsp",
        "colab": {}
      },
      "source": [
        "# removing empty sentences\n",
        "del_lst=[]\n",
        "for i in range(len(data)):\n",
        "    if len(data[:,0][i])==0:\n",
        "        del_lst.append(i)\n",
        "data=np.delete(data,del_lst,axis=0)"
      ],
      "execution_count": 0,
      "outputs": []
    },
    {
      "cell_type": "code",
      "metadata": {
        "colab_type": "code",
        "id": "fIb_X-h_Fjss",
        "colab": {}
      },
      "source": [
        "# limit sentence length\n",
        "for i in range(len(data)):\n",
        "    data[:,0][i]=data[:,0][i][:MAX_LEN]"
      ],
      "execution_count": 0,
      "outputs": []
    },
    {
      "cell_type": "markdown",
      "metadata": {
        "id": "OMMxWCkv2wIF",
        "colab_type": "text"
      },
      "source": [
        "# Embedded Movie Review dataset "
      ]
    },
    {
      "cell_type": "code",
      "metadata": {
        "colab_type": "code",
        "id": "I45ic94onxgu",
        "colab": {}
      },
      "source": [
        "reviews_array=embedding(data[:,0])\n",
        "labels_array=data[:,1].astype('int32')"
      ],
      "execution_count": 0,
      "outputs": []
    },
    {
      "cell_type": "code",
      "metadata": {
        "colab_type": "code",
        "id": "QsHt-og4Fjsx",
        "colab": {
          "base_uri": "https://localhost:8080/",
          "height": 1000
        },
        "outputId": "65370188-831e-4176-b0bc-7bc606a51292"
      },
      "source": [
        "for i in range(len(reviews_array)):\n",
        "    if (i % 1000 == 0):\n",
        "        print(i)\n",
        "    avg_vector=np.reshape(np.repeat(np.reshape(np.average(reviews_array[i],axis=0),(1,300)),MAX_LEN-len(reviews_array[i]),axis=0),(MAX_LEN-len(reviews_array[i]),300))\n",
        "    reviews_array[i]=np.concatenate((reviews_array[i],avg_vector),axis=0)\n",
        "\n",
        "# stack all reviews to get 3d array\n",
        "reviews_array = np.stack(reviews_array, axis=0)"
      ],
      "execution_count": 63,
      "outputs": [
        {
          "output_type": "stream",
          "text": [
            "0\n",
            "1000\n",
            "2000\n",
            "3000\n",
            "4000\n",
            "5000\n",
            "6000\n",
            "7000\n",
            "8000\n",
            "9000\n",
            "10000\n",
            "11000\n",
            "12000\n",
            "13000\n",
            "14000\n",
            "15000\n",
            "16000\n",
            "17000\n",
            "18000\n",
            "19000\n",
            "20000\n",
            "21000\n",
            "22000\n",
            "23000\n",
            "24000\n",
            "25000\n",
            "26000\n",
            "27000\n",
            "28000\n",
            "29000\n",
            "30000\n",
            "31000\n",
            "32000\n",
            "33000\n",
            "34000\n",
            "35000\n",
            "36000\n",
            "37000\n",
            "38000\n",
            "39000\n",
            "40000\n",
            "41000\n",
            "42000\n",
            "43000\n",
            "44000\n",
            "45000\n",
            "46000\n",
            "47000\n",
            "48000\n",
            "49000\n",
            "50000\n",
            "51000\n",
            "52000\n",
            "53000\n",
            "54000\n",
            "55000\n",
            "56000\n",
            "57000\n",
            "58000\n",
            "59000\n",
            "60000\n",
            "61000\n",
            "62000\n",
            "63000\n",
            "64000\n"
          ],
          "name": "stdout"
        }
      ]
    },
    {
      "cell_type": "markdown",
      "metadata": {
        "id": "YeGZa-oZ2wIJ",
        "colab_type": "text"
      },
      "source": [
        "# CRAN with Google embedding attention random init"
      ]
    },
    {
      "cell_type": "code",
      "metadata": {
        "colab_type": "code",
        "id": "AiPaZiieFjs4",
        "colab": {}
      },
      "source": [
        "#CRAN used with word2vec embedding\n",
        "class CRANword2vec(nn.Module):\n",
        "  def __init__(self,embedding_size,cnn_window_length,hidden_units,p_dropout):\n",
        "    super(CRANword2vec, self).__init__()\n",
        "\n",
        "    \"\"\"\n",
        "    inputs:\n",
        "      cnn_num_filters: the number of convolutional kernels, represents the number of output channels parameter in Conv2d\n",
        "      cnn_window_length: in a kernel size of d*l, d represents the embedding size and l represents the window length\n",
        "      LSTM_hidden_units: number of hidden units in LSTM layer\n",
        "      dropout: dropout probability for CNN\n",
        "      embedding_size: length of embedded word vectors \n",
        "    \"\"\"\n",
        "    self.cnn=torch.nn.Conv2d(1,hidden_units,(cnn_window_length,embedding_size), padding=(1,0))\n",
        "    self.dropout=torch.nn.Dropout(p_dropout)\n",
        "    self.rnn=torch.nn.LSTM(embedding_size,hidden_units,1, batch_first=True)\n",
        "    self.hidden_size = hidden_units\n",
        "    self.dense = nn.Linear(hidden_units, 2)\n",
        "  def forward(self,batch,labels):\n",
        "    (N,T,d)=batch.shape\n",
        "    batch=batch.view(N,1,T,d)\n",
        "    #apply convolutional filters to the input sentences\n",
        "    cnn_output=self.cnn(batch)\n",
        "    #cnn_output will be of shape (N,cnn_num_filters,H_out from Pytorch documentation,1)\n",
        "    shape=cnn_output.shape\n",
        "    cnn_output= F.relu(cnn_output.view(N,shape[1],shape[2]))\n",
        "    #average across the different filter outputs\n",
        "    cnn_output=torch.mean(cnn_output,1)\n",
        "    h = batch.new_zeros(1, N, self.hidden_size).float()\n",
        "    c = batch.new_zeros(1, N, self.hidden_size).float()\n",
        "    batch=batch.view(N,T,d)\n",
        "  \n",
        "    lstm_out, (h,c) = self.rnn(batch, (h, c))\n",
        "\n",
        "    s = torch.mean(lstm_out * cnn_output.unsqueeze(2), 1)\n",
        "\n",
        "    pred = F.log_softmax(self.dense(self.dropout(s)), dim=-1)\n",
        "    \n",
        "    if self.training:\n",
        "      loss = F.nll_loss(pred, labels)\n",
        "\n",
        "      return loss, pred.argmax(dim=-1)\n",
        "    else:\n",
        "      return pred"
      ],
      "execution_count": 0,
      "outputs": []
    },
    {
      "cell_type": "markdown",
      "metadata": {
        "id": "HQanL87V2wIL",
        "colab_type": "text"
      },
      "source": [
        "# Convert data to tensor"
      ]
    },
    {
      "cell_type": "code",
      "metadata": {
        "id": "aCG0K6CE2wIM",
        "colab_type": "code",
        "colab": {}
      },
      "source": [
        "# training CRAN with word2vec embedding\n",
        "def np2tensor(reviews, labels):\n",
        "    return torch.tensor(reviews, dtype=torch.float), torch.tensor(labels, dtype=torch.long)  "
      ],
      "execution_count": 0,
      "outputs": []
    },
    {
      "cell_type": "markdown",
      "metadata": {
        "id": "d-dpvm8k2wIN",
        "colab_type": "text"
      },
      "source": [
        "# Train CRAN"
      ]
    },
    {
      "cell_type": "code",
      "metadata": {
        "colab_type": "code",
        "id": "8S_iNwXjFjs6",
        "colab": {
          "base_uri": "https://localhost:8080/",
          "height": 405
        },
        "outputId": "9c3b4b67-9015-48eb-ada2-b280e4073787"
      },
      "source": [
        "batch_size = 16\n",
        "vocab_size=reviews_vocab.num_word\n",
        "embedding_dim = 300\n",
        "hidden_size = 100\n",
        "cnn_window_length=3\n",
        "lr = 1e-3\n",
        "epoch = 20\n",
        "p_dropout=0.5\n",
        "\n",
        "\n",
        "kf = KFold(n_splits=10, shuffle=True)\n",
        "fold_num = 0\n",
        "kf.get_n_splits(reviews_array)\n",
        "acc_list = []\n",
        "\n",
        "for train_index, test_index in kf.split(reviews_array):\n",
        "  CRAN_m = CRANword2vec(embedding_dim, cnn_window_length,hidden_size,p_dropout)\n",
        "  device = torch.device('cuda:0') # cuda:0 if you have gpu\n",
        "  CRAN_m = CRAN_m.to(device)\n",
        "  optimizer = torch.optim.Adam(CRAN_m.parameters(), lr=lr)\n",
        "  loss_list = []\n",
        "  X, y =np2tensor(reviews_array[train_index], labels_array[train_index])\n",
        "  for e in range(epoch):\n",
        "    permutation = torch.randperm(X.size()[0])\n",
        "    CRAN_m.train()\n",
        "    for i in range(0,X.size()[0],batch_size):\n",
        "        indices = permutation[i:i+batch_size]\n",
        "        reviews_batch, labels_batch = np2tensor(X[indices], y[indices])\n",
        "        reviews_batch=reviews_batch.to(device)\n",
        "        labels_batch=labels_batch.to(device)\n",
        "        loss, pred = CRAN_m(reviews_batch,labels_batch)\n",
        "        loss_list.append(loss.mean().detach())\n",
        "        optimizer.zero_grad()\n",
        "        loss.mean().backward()\n",
        "        optimizer.step()\n",
        "        if i%5000==0:\n",
        "          print('Loss: '+str(loss.mean()))\n",
        "  CRAN_m.eval()\n",
        "  reviews_batch, labels_batch = np2tensor(reviews_array[test_index], labels_array[test_index])\n",
        "  reviews_batch=reviews_batch.to(device)\n",
        "  labels_batch=labels_batch.to(device)\n",
        "  pred = CRAN_m(reviews_batch,labels_batch)\n",
        "  acc = accuracy_score(labels_array[test_index],pred.detach().cpu().argmax(dim=-1).numpy())\n",
        "  print(\"CROSS VAL SCORE Model %d = %f\" % (fold_num, acc))\n",
        "  fold_num += 1\n",
        "  acc_list.append(acc)\n",
        "print(acc_list)"
      ],
      "execution_count": 0,
      "outputs": [
        {
          "output_type": "stream",
          "text": [
            "/usr/local/lib/python3.6/dist-packages/ipykernel_launcher.py:2: UserWarning: To copy construct from a tensor, it is recommended to use sourceTensor.clone().detach() or sourceTensor.clone().detach().requires_grad_(True), rather than torch.tensor(sourceTensor).\n",
            "  \n"
          ],
          "name": "stderr"
        },
        {
          "output_type": "stream",
          "text": [
            "Loss: tensor(0.7036, device='cuda:0', grad_fn=<MeanBackward0>)\n",
            "Loss: tensor(0.6932, device='cuda:0', grad_fn=<MeanBackward0>)\n",
            "Loss: tensor(0.6863, device='cuda:0', grad_fn=<MeanBackward0>)\n",
            "Loss: tensor(0.7141, device='cuda:0', grad_fn=<MeanBackward0>)\n",
            "Loss: tensor(0.6525, device='cuda:0', grad_fn=<MeanBackward0>)\n",
            "Loss: tensor(0.7338, device='cuda:0', grad_fn=<MeanBackward0>)\n",
            "Loss: tensor(0.6014, device='cuda:0', grad_fn=<MeanBackward0>)\n",
            "Loss: tensor(0.6928, device='cuda:0', grad_fn=<MeanBackward0>)\n",
            "Loss: tensor(0.5460, device='cuda:0', grad_fn=<MeanBackward0>)\n",
            "Loss: tensor(0.5652, device='cuda:0', grad_fn=<MeanBackward0>)\n",
            "Loss: tensor(0.6334, device='cuda:0', grad_fn=<MeanBackward0>)\n",
            "Loss: tensor(0.5311, device='cuda:0', grad_fn=<MeanBackward0>)\n",
            "Loss: tensor(0.6103, device='cuda:0', grad_fn=<MeanBackward0>)\n",
            "Loss: tensor(0.5862, device='cuda:0', grad_fn=<MeanBackward0>)\n",
            "Loss: tensor(0.5786, device='cuda:0', grad_fn=<MeanBackward0>)\n",
            "Loss: tensor(0.6412, device='cuda:0', grad_fn=<MeanBackward0>)\n",
            "Loss: tensor(0.6108, device='cuda:0', grad_fn=<MeanBackward0>)\n",
            "Loss: tensor(0.5357, device='cuda:0', grad_fn=<MeanBackward0>)\n",
            "Loss: tensor(0.6271, device='cuda:0', grad_fn=<MeanBackward0>)\n",
            "Loss: tensor(0.6106, device='cuda:0', grad_fn=<MeanBackward0>)\n"
          ],
          "name": "stdout"
        }
      ]
    },
    {
      "cell_type": "markdown",
      "metadata": {
        "id": "XsIzuGkR2wIP",
        "colab_type": "text"
      },
      "source": [
        "# CAN (CRAN without LSTM)"
      ]
    },
    {
      "cell_type": "code",
      "metadata": {
        "id": "wuDbH9D12wIQ",
        "colab_type": "code",
        "colab": {}
      },
      "source": [
        "#CRAN used with word2vec embedding\n",
        "class CAN(nn.Module):\n",
        "  def __init__(self,embedding_size,cnn_window_length,hidden_units,p_dropout):\n",
        "    super(CAN, self).__init__()\n",
        "\n",
        "    \"\"\"\n",
        "    inputs:\n",
        "      cnn_num_filters: the number of convolutional kernels, represents the number of output channels parameter in Conv2d\n",
        "      cnn_window_length: in a kernel size of d*l, d represents the embedding size and l represents the window length\n",
        "      LSTM_hidden_units: number of hidden units in LSTM layer\n",
        "      dropout: dropout probability for CNN\n",
        "      embedding_size: length of embedded word vectors \n",
        "    \"\"\"\n",
        "    self.cnn=torch.nn.Conv2d(1,hidden_units,(cnn_window_length,embedding_size), padding=(1,0))\n",
        "    self.dropout=torch.nn.Dropout(p_dropout)\n",
        "    self.hidden_size = hidden_units\n",
        "    self.dense = nn.Linear(hidden_units*MAX_LEN, 2)\n",
        "  def forward(self,batch,labels):\n",
        "    (N,T,d)=batch.shape\n",
        "    #apply convolutional filters to the input sentences\n",
        "    cnn_output=self.cnn(batch.view(N,1,T,d))\n",
        "    #cnn_output will be of shape (N,cnn_num_filters,H_out from Pytorch documentation,1)\n",
        "    shape=cnn_output.shape\n",
        "    cnn_output= F.relu(cnn_output.squeeze(3))\n",
        "\n",
        "    s = cnn_output.view(N, -1)\n",
        "\n",
        "    pred = F.log_softmax(self.dense(s))\n",
        "    \n",
        "    if self.training:\n",
        "      loss = F.nll_loss(pred, labels)\n",
        "\n",
        "      return loss, pred.argmax(dim=-1)\n",
        "    else:\n",
        "      return pred"
      ],
      "execution_count": 0,
      "outputs": []
    },
    {
      "cell_type": "markdown",
      "metadata": {
        "id": "CVMgM3gO2wIR",
        "colab_type": "text"
      },
      "source": [
        "# Train CAN"
      ]
    },
    {
      "cell_type": "code",
      "metadata": {
        "id": "VXs7r47Q2wIS",
        "colab_type": "code",
        "colab": {
          "base_uri": "https://localhost:8080/",
          "height": 1000
        },
        "outputId": "a1469567-920b-4110-ad8f-9b36508f47d0"
      },
      "source": [
        "batch_size = 16\n",
        "vocab_size=reviews_vocab.num_word\n",
        "embedding_dim = 300\n",
        "hidden_size = 100\n",
        "cnn_window_length=3\n",
        "lr = 1e-3\n",
        "epoch = 10\n",
        "p_dropout=0.5\n",
        "\n",
        "\n",
        "kf = KFold(n_splits=10, shuffle=True)\n",
        "fold_num = 0\n",
        "kf.get_n_splits(reviews_array)\n",
        "acc_list = []\n",
        "\n",
        "for train_index, test_index in kf.split(reviews_array):\n",
        "  CAN_m = CAN(embedding_dim, cnn_window_length,hidden_size,p_dropout)\n",
        "  device = torch.device('cuda:0') # cuda:0 if you have gpu\n",
        "  CAN_m = CAN_m.to(device)\n",
        "  optimizer = torch.optim.Adam(CRAN_m.parameters(), lr=lr)\n",
        "  loss_list = []\n",
        "  X, y =np2tensor(reviews_array[train_index], labels_array[train_index])\n",
        "  for e in range(epoch):\n",
        "    permutation = torch.randperm(X.size()[0])\n",
        "    CRAN_m.train()\n",
        "    for i in range(0,X.size()[0],batch_size):\n",
        "        indices = permutation[i:i+batch_size]\n",
        "        reviews_batch, labels_batch = np2tensor(X[indices], y[indices])\n",
        "        reviews_batch=reviews_batch.to(device)\n",
        "        labels_batch=labels_batch.to(device)\n",
        "        loss, pred = CRAN_m(reviews_batch,labels_batch)\n",
        "        loss_list.append(loss.mean().detach())\n",
        "        optimizer.zero_grad()\n",
        "        loss.mean().backward()\n",
        "        optimizer.step()\n",
        "        if i%5000==0:\n",
        "          print('Loss: '+str(loss.mean()))\n",
        "  CAN_m.eval()\n",
        "  reviews_batch, labels_batch = np2tensor(reviews_array[test_index], labels_array[test_index])\n",
        "  reviews_batch=reviews_batch.to(device)\n",
        "  labels_batch=labels_batch.to(device)\n",
        "  pred = CAN_m(reviews_batch,labels_batch)\n",
        "  acc = accuracy_score(labels_array[test_index],pred.detach().cpu().argmax(dim=-1).numpy())\n",
        "  print(\"CROSS VAL SCORE Model %d = %f\" % (fold_num, acc))\n",
        "  fold_num += 1\n",
        "  acc_list.append(acc)\n",
        "print(acc_list)"
      ],
      "execution_count": 76,
      "outputs": [
        {
          "output_type": "stream",
          "text": [
            "/usr/local/lib/python3.6/dist-packages/ipykernel_launcher.py:2: UserWarning: To copy construct from a tensor, it is recommended to use sourceTensor.clone().detach() or sourceTensor.clone().detach().requires_grad_(True), rather than torch.tensor(sourceTensor).\n",
            "  \n"
          ],
          "name": "stderr"
        },
        {
          "output_type": "stream",
          "text": [
            "Loss: tensor(0.6967, device='cuda:0', grad_fn=<MeanBackward0>)\n",
            "Loss: tensor(0.6775, device='cuda:0', grad_fn=<MeanBackward0>)\n",
            "Loss: tensor(0.7094, device='cuda:0', grad_fn=<MeanBackward0>)\n",
            "Loss: tensor(0.6443, device='cuda:0', grad_fn=<MeanBackward0>)\n",
            "Loss: tensor(0.6446, device='cuda:0', grad_fn=<MeanBackward0>)\n",
            "Loss: tensor(0.7315, device='cuda:0', grad_fn=<MeanBackward0>)\n",
            "Loss: tensor(0.6164, device='cuda:0', grad_fn=<MeanBackward0>)\n",
            "Loss: tensor(0.6003, device='cuda:0', grad_fn=<MeanBackward0>)\n",
            "Loss: tensor(0.6748, device='cuda:0', grad_fn=<MeanBackward0>)\n",
            "Loss: tensor(0.5968, device='cuda:0', grad_fn=<MeanBackward0>)\n",
            "Loss: tensor(0.5596, device='cuda:0', grad_fn=<MeanBackward0>)\n",
            "Loss: tensor(0.7299, device='cuda:0', grad_fn=<MeanBackward0>)\n",
            "Loss: tensor(0.5300, device='cuda:0', grad_fn=<MeanBackward0>)\n",
            "Loss: tensor(0.6385, device='cuda:0', grad_fn=<MeanBackward0>)\n",
            "Loss: tensor(0.7545, device='cuda:0', grad_fn=<MeanBackward0>)\n",
            "Loss: tensor(0.6484, device='cuda:0', grad_fn=<MeanBackward0>)\n",
            "Loss: tensor(0.7117, device='cuda:0', grad_fn=<MeanBackward0>)\n",
            "Loss: tensor(0.5367, device='cuda:0', grad_fn=<MeanBackward0>)\n",
            "Loss: tensor(0.6469, device='cuda:0', grad_fn=<MeanBackward0>)\n",
            "Loss: tensor(0.5941, device='cuda:0', grad_fn=<MeanBackward0>)\n",
            "Loss: tensor(0.5870, device='cuda:0', grad_fn=<MeanBackward0>)\n",
            "Loss: tensor(0.6429, device='cuda:0', grad_fn=<MeanBackward0>)\n",
            "Loss: tensor(0.5800, device='cuda:0', grad_fn=<MeanBackward0>)\n",
            "Loss: tensor(0.5384, device='cuda:0', grad_fn=<MeanBackward0>)\n",
            "Loss: tensor(0.5584, device='cuda:0', grad_fn=<MeanBackward0>)\n",
            "Loss: tensor(0.4142, device='cuda:0', grad_fn=<MeanBackward0>)\n",
            "Loss: tensor(0.6745, device='cuda:0', grad_fn=<MeanBackward0>)\n",
            "Loss: tensor(0.5887, device='cuda:0', grad_fn=<MeanBackward0>)\n",
            "Loss: tensor(0.5877, device='cuda:0', grad_fn=<MeanBackward0>)\n",
            "Loss: tensor(0.9712, device='cuda:0', grad_fn=<MeanBackward0>)\n",
            "Loss: tensor(0.4777, device='cuda:0', grad_fn=<MeanBackward0>)\n",
            "Loss: tensor(0.4862, device='cuda:0', grad_fn=<MeanBackward0>)\n",
            "Loss: tensor(0.7385, device='cuda:0', grad_fn=<MeanBackward0>)\n",
            "Loss: tensor(0.5392, device='cuda:0', grad_fn=<MeanBackward0>)\n",
            "Loss: tensor(0.6808, device='cuda:0', grad_fn=<MeanBackward0>)\n",
            "Loss: tensor(0.7022, device='cuda:0', grad_fn=<MeanBackward0>)\n",
            "Loss: tensor(0.4041, device='cuda:0', grad_fn=<MeanBackward0>)\n",
            "Loss: tensor(0.6501, device='cuda:0', grad_fn=<MeanBackward0>)\n",
            "Loss: tensor(0.7384, device='cuda:0', grad_fn=<MeanBackward0>)\n",
            "Loss: tensor(0.3803, device='cuda:0', grad_fn=<MeanBackward0>)\n",
            "Loss: tensor(0.5023, device='cuda:0', grad_fn=<MeanBackward0>)\n",
            "Loss: tensor(0.6845, device='cuda:0', grad_fn=<MeanBackward0>)\n",
            "Loss: tensor(0.4355, device='cuda:0', grad_fn=<MeanBackward0>)\n",
            "Loss: tensor(0.6031, device='cuda:0', grad_fn=<MeanBackward0>)\n",
            "Loss: tensor(0.5240, device='cuda:0', grad_fn=<MeanBackward0>)\n",
            "Loss: tensor(0.3229, device='cuda:0', grad_fn=<MeanBackward0>)\n",
            "Loss: tensor(0.5193, device='cuda:0', grad_fn=<MeanBackward0>)\n",
            "Loss: tensor(0.4954, device='cuda:0', grad_fn=<MeanBackward0>)\n",
            "Loss: tensor(0.5214, device='cuda:0', grad_fn=<MeanBackward0>)\n",
            "Loss: tensor(0.3785, device='cuda:0', grad_fn=<MeanBackward0>)\n",
            "Loss: tensor(0.6632, device='cuda:0', grad_fn=<MeanBackward0>)\n",
            "Loss: tensor(0.5043, device='cuda:0', grad_fn=<MeanBackward0>)\n",
            "Loss: tensor(0.5251, device='cuda:0', grad_fn=<MeanBackward0>)\n",
            "Loss: tensor(0.4197, device='cuda:0', grad_fn=<MeanBackward0>)\n",
            "Loss: tensor(0.6689, device='cuda:0', grad_fn=<MeanBackward0>)\n",
            "Loss: tensor(0.4298, device='cuda:0', grad_fn=<MeanBackward0>)\n",
            "Loss: tensor(0.6136, device='cuda:0', grad_fn=<MeanBackward0>)\n",
            "Loss: tensor(0.5801, device='cuda:0', grad_fn=<MeanBackward0>)\n",
            "Loss: tensor(0.7808, device='cuda:0', grad_fn=<MeanBackward0>)\n",
            "Loss: tensor(0.6721, device='cuda:0', grad_fn=<MeanBackward0>)\n"
          ],
          "name": "stdout"
        },
        {
          "output_type": "stream",
          "text": [
            "/usr/local/lib/python3.6/dist-packages/ipykernel_launcher.py:27: UserWarning: Implicit dimension choice for log_softmax has been deprecated. Change the call to include dim=X as an argument.\n"
          ],
          "name": "stderr"
        },
        {
          "output_type": "stream",
          "text": [
            "CROSS VAL SCORE Model 0 = 0.495519\n",
            "Loss: tensor(0.4957, device='cuda:0', grad_fn=<MeanBackward0>)\n",
            "Loss: tensor(0.4543, device='cuda:0', grad_fn=<MeanBackward0>)\n",
            "Loss: tensor(0.6158, device='cuda:0', grad_fn=<MeanBackward0>)\n",
            "Loss: tensor(0.4231, device='cuda:0', grad_fn=<MeanBackward0>)\n",
            "Loss: tensor(0.3822, device='cuda:0', grad_fn=<MeanBackward0>)\n",
            "Loss: tensor(0.3956, device='cuda:0', grad_fn=<MeanBackward0>)\n",
            "Loss: tensor(0.4234, device='cuda:0', grad_fn=<MeanBackward0>)\n",
            "Loss: tensor(0.4265, device='cuda:0', grad_fn=<MeanBackward0>)\n",
            "Loss: tensor(0.4787, device='cuda:0', grad_fn=<MeanBackward0>)\n",
            "Loss: tensor(0.3834, device='cuda:0', grad_fn=<MeanBackward0>)\n",
            "Loss: tensor(0.4480, device='cuda:0', grad_fn=<MeanBackward0>)\n",
            "Loss: tensor(0.2490, device='cuda:0', grad_fn=<MeanBackward0>)\n",
            "Loss: tensor(0.6112, device='cuda:0', grad_fn=<MeanBackward0>)\n",
            "Loss: tensor(0.4725, device='cuda:0', grad_fn=<MeanBackward0>)\n",
            "Loss: tensor(0.2921, device='cuda:0', grad_fn=<MeanBackward0>)\n",
            "Loss: tensor(0.6750, device='cuda:0', grad_fn=<MeanBackward0>)\n",
            "Loss: tensor(0.6164, device='cuda:0', grad_fn=<MeanBackward0>)\n",
            "Loss: tensor(0.3163, device='cuda:0', grad_fn=<MeanBackward0>)\n",
            "Loss: tensor(0.4690, device='cuda:0', grad_fn=<MeanBackward0>)\n",
            "Loss: tensor(0.3192, device='cuda:0', grad_fn=<MeanBackward0>)\n",
            "Loss: tensor(0.3860, device='cuda:0', grad_fn=<MeanBackward0>)\n",
            "Loss: tensor(0.4059, device='cuda:0', grad_fn=<MeanBackward0>)\n",
            "Loss: tensor(0.5918, device='cuda:0', grad_fn=<MeanBackward0>)\n",
            "Loss: tensor(0.5062, device='cuda:0', grad_fn=<MeanBackward0>)\n",
            "Loss: tensor(0.3753, device='cuda:0', grad_fn=<MeanBackward0>)\n",
            "Loss: tensor(0.5474, device='cuda:0', grad_fn=<MeanBackward0>)\n",
            "Loss: tensor(0.4305, device='cuda:0', grad_fn=<MeanBackward0>)\n",
            "Loss: tensor(0.3521, device='cuda:0', grad_fn=<MeanBackward0>)\n",
            "Loss: tensor(0.3185, device='cuda:0', grad_fn=<MeanBackward0>)\n",
            "Loss: tensor(0.3461, device='cuda:0', grad_fn=<MeanBackward0>)\n",
            "Loss: tensor(0.3529, device='cuda:0', grad_fn=<MeanBackward0>)\n",
            "Loss: tensor(0.4654, device='cuda:0', grad_fn=<MeanBackward0>)\n",
            "Loss: tensor(0.5723, device='cuda:0', grad_fn=<MeanBackward0>)\n",
            "Loss: tensor(0.6057, device='cuda:0', grad_fn=<MeanBackward0>)\n",
            "Loss: tensor(0.6025, device='cuda:0', grad_fn=<MeanBackward0>)\n",
            "Loss: tensor(0.4979, device='cuda:0', grad_fn=<MeanBackward0>)\n",
            "Loss: tensor(0.2260, device='cuda:0', grad_fn=<MeanBackward0>)\n",
            "Loss: tensor(0.3293, device='cuda:0', grad_fn=<MeanBackward0>)\n",
            "Loss: tensor(0.3660, device='cuda:0', grad_fn=<MeanBackward0>)\n",
            "Loss: tensor(0.4187, device='cuda:0', grad_fn=<MeanBackward0>)\n",
            "Loss: tensor(0.4103, device='cuda:0', grad_fn=<MeanBackward0>)\n",
            "Loss: tensor(0.3995, device='cuda:0', grad_fn=<MeanBackward0>)\n",
            "Loss: tensor(0.3465, device='cuda:0', grad_fn=<MeanBackward0>)\n",
            "Loss: tensor(0.3862, device='cuda:0', grad_fn=<MeanBackward0>)\n",
            "Loss: tensor(0.4073, device='cuda:0', grad_fn=<MeanBackward0>)\n",
            "Loss: tensor(0.4099, device='cuda:0', grad_fn=<MeanBackward0>)\n",
            "Loss: tensor(0.1732, device='cuda:0', grad_fn=<MeanBackward0>)\n",
            "Loss: tensor(0.5920, device='cuda:0', grad_fn=<MeanBackward0>)\n",
            "Loss: tensor(0.4031, device='cuda:0', grad_fn=<MeanBackward0>)\n",
            "Loss: tensor(0.1831, device='cuda:0', grad_fn=<MeanBackward0>)\n",
            "Loss: tensor(0.2877, device='cuda:0', grad_fn=<MeanBackward0>)\n",
            "Loss: tensor(0.1203, device='cuda:0', grad_fn=<MeanBackward0>)\n",
            "Loss: tensor(0.1448, device='cuda:0', grad_fn=<MeanBackward0>)\n",
            "Loss: tensor(0.5762, device='cuda:0', grad_fn=<MeanBackward0>)\n",
            "Loss: tensor(0.6380, device='cuda:0', grad_fn=<MeanBackward0>)\n",
            "Loss: tensor(0.4128, device='cuda:0', grad_fn=<MeanBackward0>)\n",
            "Loss: tensor(0.4858, device='cuda:0', grad_fn=<MeanBackward0>)\n",
            "Loss: tensor(0.6867, device='cuda:0', grad_fn=<MeanBackward0>)\n",
            "Loss: tensor(0.2355, device='cuda:0', grad_fn=<MeanBackward0>)\n",
            "Loss: tensor(0.2700, device='cuda:0', grad_fn=<MeanBackward0>)\n",
            "CROSS VAL SCORE Model 1 = 0.486403\n",
            "Loss: tensor(0.1977, device='cuda:0', grad_fn=<MeanBackward0>)\n",
            "Loss: tensor(0.4234, device='cuda:0', grad_fn=<MeanBackward0>)\n",
            "Loss: tensor(0.4391, device='cuda:0', grad_fn=<MeanBackward0>)\n",
            "Loss: tensor(0.4976, device='cuda:0', grad_fn=<MeanBackward0>)\n",
            "Loss: tensor(0.2901, device='cuda:0', grad_fn=<MeanBackward0>)\n",
            "Loss: tensor(0.6409, device='cuda:0', grad_fn=<MeanBackward0>)\n",
            "Loss: tensor(0.2442, device='cuda:0', grad_fn=<MeanBackward0>)\n",
            "Loss: tensor(0.2450, device='cuda:0', grad_fn=<MeanBackward0>)\n",
            "Loss: tensor(0.3622, device='cuda:0', grad_fn=<MeanBackward0>)\n",
            "Loss: tensor(0.2244, device='cuda:0', grad_fn=<MeanBackward0>)\n",
            "Loss: tensor(0.1195, device='cuda:0', grad_fn=<MeanBackward0>)\n",
            "Loss: tensor(0.2648, device='cuda:0', grad_fn=<MeanBackward0>)\n",
            "Loss: tensor(0.6127, device='cuda:0', grad_fn=<MeanBackward0>)\n",
            "Loss: tensor(0.2290, device='cuda:0', grad_fn=<MeanBackward0>)\n",
            "Loss: tensor(0.3503, device='cuda:0', grad_fn=<MeanBackward0>)\n",
            "Loss: tensor(0.4777, device='cuda:0', grad_fn=<MeanBackward0>)\n",
            "Loss: tensor(0.1952, device='cuda:0', grad_fn=<MeanBackward0>)\n",
            "Loss: tensor(0.3801, device='cuda:0', grad_fn=<MeanBackward0>)\n",
            "Loss: tensor(0.2694, device='cuda:0', grad_fn=<MeanBackward0>)\n",
            "Loss: tensor(0.3491, device='cuda:0', grad_fn=<MeanBackward0>)\n",
            "Loss: tensor(0.2830, device='cuda:0', grad_fn=<MeanBackward0>)\n",
            "Loss: tensor(0.2993, device='cuda:0', grad_fn=<MeanBackward0>)\n",
            "Loss: tensor(0.6114, device='cuda:0', grad_fn=<MeanBackward0>)\n",
            "Loss: tensor(0.1812, device='cuda:0', grad_fn=<MeanBackward0>)\n",
            "Loss: tensor(0.1933, device='cuda:0', grad_fn=<MeanBackward0>)\n",
            "Loss: tensor(0.1854, device='cuda:0', grad_fn=<MeanBackward0>)\n",
            "Loss: tensor(0.1270, device='cuda:0', grad_fn=<MeanBackward0>)\n",
            "Loss: tensor(0.3081, device='cuda:0', grad_fn=<MeanBackward0>)\n",
            "Loss: tensor(0.4496, device='cuda:0', grad_fn=<MeanBackward0>)\n",
            "Loss: tensor(0.2695, device='cuda:0', grad_fn=<MeanBackward0>)\n",
            "Loss: tensor(0.2011, device='cuda:0', grad_fn=<MeanBackward0>)\n",
            "Loss: tensor(0.2629, device='cuda:0', grad_fn=<MeanBackward0>)\n",
            "Loss: tensor(0.5082, device='cuda:0', grad_fn=<MeanBackward0>)\n",
            "Loss: tensor(0.4278, device='cuda:0', grad_fn=<MeanBackward0>)\n",
            "Loss: tensor(0.2799, device='cuda:0', grad_fn=<MeanBackward0>)\n",
            "Loss: tensor(0.3749, device='cuda:0', grad_fn=<MeanBackward0>)\n",
            "Loss: tensor(0.6276, device='cuda:0', grad_fn=<MeanBackward0>)\n",
            "Loss: tensor(0.2752, device='cuda:0', grad_fn=<MeanBackward0>)\n",
            "Loss: tensor(0.3450, device='cuda:0', grad_fn=<MeanBackward0>)\n",
            "Loss: tensor(0.5026, device='cuda:0', grad_fn=<MeanBackward0>)\n",
            "Loss: tensor(0.2101, device='cuda:0', grad_fn=<MeanBackward0>)\n",
            "Loss: tensor(0.2805, device='cuda:0', grad_fn=<MeanBackward0>)\n",
            "Loss: tensor(0.2340, device='cuda:0', grad_fn=<MeanBackward0>)\n",
            "Loss: tensor(0.2417, device='cuda:0', grad_fn=<MeanBackward0>)\n",
            "Loss: tensor(0.4326, device='cuda:0', grad_fn=<MeanBackward0>)\n",
            "Loss: tensor(0.2695, device='cuda:0', grad_fn=<MeanBackward0>)\n",
            "Loss: tensor(0.3329, device='cuda:0', grad_fn=<MeanBackward0>)\n",
            "Loss: tensor(0.2507, device='cuda:0', grad_fn=<MeanBackward0>)\n",
            "Loss: tensor(0.1966, device='cuda:0', grad_fn=<MeanBackward0>)\n",
            "Loss: tensor(0.4719, device='cuda:0', grad_fn=<MeanBackward0>)\n",
            "Loss: tensor(0.4681, device='cuda:0', grad_fn=<MeanBackward0>)\n",
            "Loss: tensor(0.6046, device='cuda:0', grad_fn=<MeanBackward0>)\n",
            "Loss: tensor(0.2636, device='cuda:0', grad_fn=<MeanBackward0>)\n",
            "Loss: tensor(0.3483, device='cuda:0', grad_fn=<MeanBackward0>)\n",
            "Loss: tensor(0.3347, device='cuda:0', grad_fn=<MeanBackward0>)\n",
            "Loss: tensor(0.2821, device='cuda:0', grad_fn=<MeanBackward0>)\n",
            "Loss: tensor(0.2101, device='cuda:0', grad_fn=<MeanBackward0>)\n",
            "Loss: tensor(0.3537, device='cuda:0', grad_fn=<MeanBackward0>)\n",
            "Loss: tensor(0.2781, device='cuda:0', grad_fn=<MeanBackward0>)\n",
            "Loss: tensor(0.3384, device='cuda:0', grad_fn=<MeanBackward0>)\n",
            "CROSS VAL SCORE Model 2 = 0.491502\n",
            "Loss: tensor(0.3802, device='cuda:0', grad_fn=<MeanBackward0>)\n",
            "Loss: tensor(0.1056, device='cuda:0', grad_fn=<MeanBackward0>)\n",
            "Loss: tensor(0.1978, device='cuda:0', grad_fn=<MeanBackward0>)\n",
            "Loss: tensor(0.3911, device='cuda:0', grad_fn=<MeanBackward0>)\n",
            "Loss: tensor(0.5642, device='cuda:0', grad_fn=<MeanBackward0>)\n",
            "Loss: tensor(0.2696, device='cuda:0', grad_fn=<MeanBackward0>)\n",
            "Loss: tensor(0.2349, device='cuda:0', grad_fn=<MeanBackward0>)\n",
            "Loss: tensor(0.3350, device='cuda:0', grad_fn=<MeanBackward0>)\n",
            "Loss: tensor(0.1826, device='cuda:0', grad_fn=<MeanBackward0>)\n",
            "Loss: tensor(0.3631, device='cuda:0', grad_fn=<MeanBackward0>)\n",
            "Loss: tensor(0.1891, device='cuda:0', grad_fn=<MeanBackward0>)\n",
            "Loss: tensor(0.2196, device='cuda:0', grad_fn=<MeanBackward0>)\n",
            "Loss: tensor(0.6158, device='cuda:0', grad_fn=<MeanBackward0>)\n",
            "Loss: tensor(0.5401, device='cuda:0', grad_fn=<MeanBackward0>)\n",
            "Loss: tensor(0.5634, device='cuda:0', grad_fn=<MeanBackward0>)\n",
            "Loss: tensor(0.2557, device='cuda:0', grad_fn=<MeanBackward0>)\n",
            "Loss: tensor(0.2552, device='cuda:0', grad_fn=<MeanBackward0>)\n",
            "Loss: tensor(0.2026, device='cuda:0', grad_fn=<MeanBackward0>)\n",
            "Loss: tensor(0.4267, device='cuda:0', grad_fn=<MeanBackward0>)\n",
            "Loss: tensor(0.5252, device='cuda:0', grad_fn=<MeanBackward0>)\n",
            "Loss: tensor(0.4447, device='cuda:0', grad_fn=<MeanBackward0>)\n",
            "Loss: tensor(0.2037, device='cuda:0', grad_fn=<MeanBackward0>)\n",
            "Loss: tensor(0.3105, device='cuda:0', grad_fn=<MeanBackward0>)\n",
            "Loss: tensor(0.1496, device='cuda:0', grad_fn=<MeanBackward0>)\n",
            "Loss: tensor(0.2204, device='cuda:0', grad_fn=<MeanBackward0>)\n",
            "Loss: tensor(0.1271, device='cuda:0', grad_fn=<MeanBackward0>)\n",
            "Loss: tensor(0.1243, device='cuda:0', grad_fn=<MeanBackward0>)\n",
            "Loss: tensor(0.1300, device='cuda:0', grad_fn=<MeanBackward0>)\n",
            "Loss: tensor(0.3228, device='cuda:0', grad_fn=<MeanBackward0>)\n",
            "Loss: tensor(0.3382, device='cuda:0', grad_fn=<MeanBackward0>)\n",
            "Loss: tensor(0.2892, device='cuda:0', grad_fn=<MeanBackward0>)\n",
            "Loss: tensor(0.2682, device='cuda:0', grad_fn=<MeanBackward0>)\n",
            "Loss: tensor(0.4494, device='cuda:0', grad_fn=<MeanBackward0>)\n",
            "Loss: tensor(0.4045, device='cuda:0', grad_fn=<MeanBackward0>)\n",
            "Loss: tensor(0.3711, device='cuda:0', grad_fn=<MeanBackward0>)\n",
            "Loss: tensor(0.1807, device='cuda:0', grad_fn=<MeanBackward0>)\n",
            "Loss: tensor(0.2148, device='cuda:0', grad_fn=<MeanBackward0>)\n",
            "Loss: tensor(0.1960, device='cuda:0', grad_fn=<MeanBackward0>)\n",
            "Loss: tensor(0.2430, device='cuda:0', grad_fn=<MeanBackward0>)\n",
            "Loss: tensor(0.1590, device='cuda:0', grad_fn=<MeanBackward0>)\n",
            "Loss: tensor(0.2694, device='cuda:0', grad_fn=<MeanBackward0>)\n",
            "Loss: tensor(0.2804, device='cuda:0', grad_fn=<MeanBackward0>)\n",
            "Loss: tensor(0.2194, device='cuda:0', grad_fn=<MeanBackward0>)\n",
            "Loss: tensor(0.2721, device='cuda:0', grad_fn=<MeanBackward0>)\n",
            "Loss: tensor(0.1343, device='cuda:0', grad_fn=<MeanBackward0>)\n",
            "Loss: tensor(0.4586, device='cuda:0', grad_fn=<MeanBackward0>)\n",
            "Loss: tensor(0.3205, device='cuda:0', grad_fn=<MeanBackward0>)\n",
            "Loss: tensor(0.3153, device='cuda:0', grad_fn=<MeanBackward0>)\n",
            "Loss: tensor(0.3869, device='cuda:0', grad_fn=<MeanBackward0>)\n",
            "Loss: tensor(0.1361, device='cuda:0', grad_fn=<MeanBackward0>)\n",
            "Loss: tensor(0.2252, device='cuda:0', grad_fn=<MeanBackward0>)\n",
            "Loss: tensor(0.2031, device='cuda:0', grad_fn=<MeanBackward0>)\n",
            "Loss: tensor(0.1923, device='cuda:0', grad_fn=<MeanBackward0>)\n",
            "Loss: tensor(0.1176, device='cuda:0', grad_fn=<MeanBackward0>)\n",
            "Loss: tensor(0.3627, device='cuda:0', grad_fn=<MeanBackward0>)\n",
            "Loss: tensor(0.2432, device='cuda:0', grad_fn=<MeanBackward0>)\n",
            "Loss: tensor(0.1682, device='cuda:0', grad_fn=<MeanBackward0>)\n",
            "Loss: tensor(0.2071, device='cuda:0', grad_fn=<MeanBackward0>)\n",
            "Loss: tensor(0.2265, device='cuda:0', grad_fn=<MeanBackward0>)\n",
            "Loss: tensor(0.1043, device='cuda:0', grad_fn=<MeanBackward0>)\n",
            "CROSS VAL SCORE Model 3 = 0.503090\n",
            "Loss: tensor(0.2765, device='cuda:0', grad_fn=<MeanBackward0>)\n",
            "Loss: tensor(0.1760, device='cuda:0', grad_fn=<MeanBackward0>)\n",
            "Loss: tensor(0.3836, device='cuda:0', grad_fn=<MeanBackward0>)\n",
            "Loss: tensor(0.3198, device='cuda:0', grad_fn=<MeanBackward0>)\n",
            "Loss: tensor(0.1669, device='cuda:0', grad_fn=<MeanBackward0>)\n",
            "Loss: tensor(0.1640, device='cuda:0', grad_fn=<MeanBackward0>)\n",
            "Loss: tensor(0.2075, device='cuda:0', grad_fn=<MeanBackward0>)\n",
            "Loss: tensor(0.2402, device='cuda:0', grad_fn=<MeanBackward0>)\n",
            "Loss: tensor(0.2609, device='cuda:0', grad_fn=<MeanBackward0>)\n",
            "Loss: tensor(0.2750, device='cuda:0', grad_fn=<MeanBackward0>)\n",
            "Loss: tensor(0.3510, device='cuda:0', grad_fn=<MeanBackward0>)\n",
            "Loss: tensor(0.1858, device='cuda:0', grad_fn=<MeanBackward0>)\n",
            "Loss: tensor(0.0349, device='cuda:0', grad_fn=<MeanBackward0>)\n",
            "Loss: tensor(0.1127, device='cuda:0', grad_fn=<MeanBackward0>)\n",
            "Loss: tensor(0.3839, device='cuda:0', grad_fn=<MeanBackward0>)\n",
            "Loss: tensor(0.1721, device='cuda:0', grad_fn=<MeanBackward0>)\n",
            "Loss: tensor(0.1541, device='cuda:0', grad_fn=<MeanBackward0>)\n",
            "Loss: tensor(0.1050, device='cuda:0', grad_fn=<MeanBackward0>)\n",
            "Loss: tensor(0.1337, device='cuda:0', grad_fn=<MeanBackward0>)\n",
            "Loss: tensor(0.3757, device='cuda:0', grad_fn=<MeanBackward0>)\n",
            "Loss: tensor(0.2637, device='cuda:0', grad_fn=<MeanBackward0>)\n",
            "Loss: tensor(0.2434, device='cuda:0', grad_fn=<MeanBackward0>)\n",
            "Loss: tensor(0.2132, device='cuda:0', grad_fn=<MeanBackward0>)\n",
            "Loss: tensor(0.2818, device='cuda:0', grad_fn=<MeanBackward0>)\n",
            "Loss: tensor(0.2948, device='cuda:0', grad_fn=<MeanBackward0>)\n",
            "Loss: tensor(0.3298, device='cuda:0', grad_fn=<MeanBackward0>)\n",
            "Loss: tensor(0.1202, device='cuda:0', grad_fn=<MeanBackward0>)\n",
            "Loss: tensor(0.3703, device='cuda:0', grad_fn=<MeanBackward0>)\n",
            "Loss: tensor(0.3044, device='cuda:0', grad_fn=<MeanBackward0>)\n",
            "Loss: tensor(0.2065, device='cuda:0', grad_fn=<MeanBackward0>)\n",
            "Loss: tensor(0.1762, device='cuda:0', grad_fn=<MeanBackward0>)\n",
            "Loss: tensor(0.1631, device='cuda:0', grad_fn=<MeanBackward0>)\n",
            "Loss: tensor(0.2146, device='cuda:0', grad_fn=<MeanBackward0>)\n",
            "Loss: tensor(0.2047, device='cuda:0', grad_fn=<MeanBackward0>)\n",
            "Loss: tensor(0.3568, device='cuda:0', grad_fn=<MeanBackward0>)\n",
            "Loss: tensor(0.1682, device='cuda:0', grad_fn=<MeanBackward0>)\n",
            "Loss: tensor(0.1697, device='cuda:0', grad_fn=<MeanBackward0>)\n",
            "Loss: tensor(0.2058, device='cuda:0', grad_fn=<MeanBackward0>)\n",
            "Loss: tensor(0.5831, device='cuda:0', grad_fn=<MeanBackward0>)\n",
            "Loss: tensor(0.0721, device='cuda:0', grad_fn=<MeanBackward0>)\n",
            "Loss: tensor(0.1663, device='cuda:0', grad_fn=<MeanBackward0>)\n",
            "Loss: tensor(0.2622, device='cuda:0', grad_fn=<MeanBackward0>)\n",
            "Loss: tensor(0.1557, device='cuda:0', grad_fn=<MeanBackward0>)\n",
            "Loss: tensor(0.0400, device='cuda:0', grad_fn=<MeanBackward0>)\n",
            "Loss: tensor(0.5077, device='cuda:0', grad_fn=<MeanBackward0>)\n",
            "Loss: tensor(0.2178, device='cuda:0', grad_fn=<MeanBackward0>)\n",
            "Loss: tensor(0.5413, device='cuda:0', grad_fn=<MeanBackward0>)\n",
            "Loss: tensor(0.1442, device='cuda:0', grad_fn=<MeanBackward0>)\n",
            "Loss: tensor(0.0866, device='cuda:0', grad_fn=<MeanBackward0>)\n",
            "Loss: tensor(0.3838, device='cuda:0', grad_fn=<MeanBackward0>)\n",
            "Loss: tensor(0.2267, device='cuda:0', grad_fn=<MeanBackward0>)\n",
            "Loss: tensor(0.6395, device='cuda:0', grad_fn=<MeanBackward0>)\n",
            "Loss: tensor(0.4199, device='cuda:0', grad_fn=<MeanBackward0>)\n",
            "Loss: tensor(0.1793, device='cuda:0', grad_fn=<MeanBackward0>)\n",
            "Loss: tensor(0.1913, device='cuda:0', grad_fn=<MeanBackward0>)\n",
            "Loss: tensor(0.1500, device='cuda:0', grad_fn=<MeanBackward0>)\n",
            "Loss: tensor(0.1269, device='cuda:0', grad_fn=<MeanBackward0>)\n",
            "Loss: tensor(0.3764, device='cuda:0', grad_fn=<MeanBackward0>)\n",
            "Loss: tensor(0.3378, device='cuda:0', grad_fn=<MeanBackward0>)\n",
            "Loss: tensor(0.3115, device='cuda:0', grad_fn=<MeanBackward0>)\n",
            "CROSS VAL SCORE Model 4 = 0.515915\n",
            "Loss: tensor(0.0983, device='cuda:0', grad_fn=<MeanBackward0>)\n",
            "Loss: tensor(0.2926, device='cuda:0', grad_fn=<MeanBackward0>)\n",
            "Loss: tensor(0.0536, device='cuda:0', grad_fn=<MeanBackward0>)\n",
            "Loss: tensor(0.3591, device='cuda:0', grad_fn=<MeanBackward0>)\n",
            "Loss: tensor(0.2294, device='cuda:0', grad_fn=<MeanBackward0>)\n",
            "Loss: tensor(0.0614, device='cuda:0', grad_fn=<MeanBackward0>)\n",
            "Loss: tensor(0.2313, device='cuda:0', grad_fn=<MeanBackward0>)\n",
            "Loss: tensor(0.1682, device='cuda:0', grad_fn=<MeanBackward0>)\n",
            "Loss: tensor(0.3853, device='cuda:0', grad_fn=<MeanBackward0>)\n",
            "Loss: tensor(0.0952, device='cuda:0', grad_fn=<MeanBackward0>)\n",
            "Loss: tensor(0.2954, device='cuda:0', grad_fn=<MeanBackward0>)\n",
            "Loss: tensor(0.2587, device='cuda:0', grad_fn=<MeanBackward0>)\n",
            "Loss: tensor(0.0785, device='cuda:0', grad_fn=<MeanBackward0>)\n",
            "Loss: tensor(0.3647, device='cuda:0', grad_fn=<MeanBackward0>)\n",
            "Loss: tensor(0.7331, device='cuda:0', grad_fn=<MeanBackward0>)\n",
            "Loss: tensor(0.2355, device='cuda:0', grad_fn=<MeanBackward0>)\n",
            "Loss: tensor(0.2282, device='cuda:0', grad_fn=<MeanBackward0>)\n",
            "Loss: tensor(0.0505, device='cuda:0', grad_fn=<MeanBackward0>)\n",
            "Loss: tensor(0.1630, device='cuda:0', grad_fn=<MeanBackward0>)\n",
            "Loss: tensor(0.1798, device='cuda:0', grad_fn=<MeanBackward0>)\n",
            "Loss: tensor(0.4789, device='cuda:0', grad_fn=<MeanBackward0>)\n",
            "Loss: tensor(0.0979, device='cuda:0', grad_fn=<MeanBackward0>)\n",
            "Loss: tensor(0.0996, device='cuda:0', grad_fn=<MeanBackward0>)\n",
            "Loss: tensor(0.1380, device='cuda:0', grad_fn=<MeanBackward0>)\n",
            "Loss: tensor(0.2287, device='cuda:0', grad_fn=<MeanBackward0>)\n",
            "Loss: tensor(0.0258, device='cuda:0', grad_fn=<MeanBackward0>)\n",
            "Loss: tensor(0.2615, device='cuda:0', grad_fn=<MeanBackward0>)\n",
            "Loss: tensor(0.4486, device='cuda:0', grad_fn=<MeanBackward0>)\n",
            "Loss: tensor(0.3608, device='cuda:0', grad_fn=<MeanBackward0>)\n",
            "Loss: tensor(0.5564, device='cuda:0', grad_fn=<MeanBackward0>)\n",
            "Loss: tensor(0.2341, device='cuda:0', grad_fn=<MeanBackward0>)\n",
            "Loss: tensor(0.1220, device='cuda:0', grad_fn=<MeanBackward0>)\n",
            "Loss: tensor(0.2350, device='cuda:0', grad_fn=<MeanBackward0>)\n",
            "Loss: tensor(0.2778, device='cuda:0', grad_fn=<MeanBackward0>)\n",
            "Loss: tensor(0.2508, device='cuda:0', grad_fn=<MeanBackward0>)\n",
            "Loss: tensor(0.1763, device='cuda:0', grad_fn=<MeanBackward0>)\n",
            "Loss: tensor(0.0787, device='cuda:0', grad_fn=<MeanBackward0>)\n",
            "Loss: tensor(0.3100, device='cuda:0', grad_fn=<MeanBackward0>)\n",
            "Loss: tensor(0.4344, device='cuda:0', grad_fn=<MeanBackward0>)\n",
            "Loss: tensor(0.1245, device='cuda:0', grad_fn=<MeanBackward0>)\n",
            "Loss: tensor(0.3598, device='cuda:0', grad_fn=<MeanBackward0>)\n",
            "Loss: tensor(0.1485, device='cuda:0', grad_fn=<MeanBackward0>)\n",
            "Loss: tensor(0.1789, device='cuda:0', grad_fn=<MeanBackward0>)\n",
            "Loss: tensor(0.2070, device='cuda:0', grad_fn=<MeanBackward0>)\n",
            "Loss: tensor(0.1751, device='cuda:0', grad_fn=<MeanBackward0>)\n",
            "Loss: tensor(0.1110, device='cuda:0', grad_fn=<MeanBackward0>)\n",
            "Loss: tensor(0.1883, device='cuda:0', grad_fn=<MeanBackward0>)\n",
            "Loss: tensor(0.0357, device='cuda:0', grad_fn=<MeanBackward0>)\n",
            "Loss: tensor(0.3038, device='cuda:0', grad_fn=<MeanBackward0>)\n",
            "Loss: tensor(0.1529, device='cuda:0', grad_fn=<MeanBackward0>)\n",
            "Loss: tensor(0.0742, device='cuda:0', grad_fn=<MeanBackward0>)\n",
            "Loss: tensor(0.0628, device='cuda:0', grad_fn=<MeanBackward0>)\n",
            "Loss: tensor(0.2754, device='cuda:0', grad_fn=<MeanBackward0>)\n",
            "Loss: tensor(0.2516, device='cuda:0', grad_fn=<MeanBackward0>)\n",
            "Loss: tensor(0.4188, device='cuda:0', grad_fn=<MeanBackward0>)\n",
            "Loss: tensor(0.1975, device='cuda:0', grad_fn=<MeanBackward0>)\n",
            "Loss: tensor(0.2404, device='cuda:0', grad_fn=<MeanBackward0>)\n",
            "Loss: tensor(0.0843, device='cuda:0', grad_fn=<MeanBackward0>)\n",
            "Loss: tensor(0.3740, device='cuda:0', grad_fn=<MeanBackward0>)\n",
            "Loss: tensor(0.1036, device='cuda:0', grad_fn=<MeanBackward0>)\n",
            "CROSS VAL SCORE Model 5 = 0.516533\n",
            "Loss: tensor(0.1939, device='cuda:0', grad_fn=<MeanBackward0>)\n",
            "Loss: tensor(0.2115, device='cuda:0', grad_fn=<MeanBackward0>)\n",
            "Loss: tensor(0.1600, device='cuda:0', grad_fn=<MeanBackward0>)\n",
            "Loss: tensor(0.1461, device='cuda:0', grad_fn=<MeanBackward0>)\n",
            "Loss: tensor(0.1545, device='cuda:0', grad_fn=<MeanBackward0>)\n",
            "Loss: tensor(0.0520, device='cuda:0', grad_fn=<MeanBackward0>)\n",
            "Loss: tensor(0.2419, device='cuda:0', grad_fn=<MeanBackward0>)\n",
            "Loss: tensor(0.2223, device='cuda:0', grad_fn=<MeanBackward0>)\n",
            "Loss: tensor(0.2220, device='cuda:0', grad_fn=<MeanBackward0>)\n",
            "Loss: tensor(0.2492, device='cuda:0', grad_fn=<MeanBackward0>)\n",
            "Loss: tensor(0.2461, device='cuda:0', grad_fn=<MeanBackward0>)\n",
            "Loss: tensor(0.3335, device='cuda:0', grad_fn=<MeanBackward0>)\n",
            "Loss: tensor(0.2285, device='cuda:0', grad_fn=<MeanBackward0>)\n",
            "Loss: tensor(0.1640, device='cuda:0', grad_fn=<MeanBackward0>)\n",
            "Loss: tensor(0.1415, device='cuda:0', grad_fn=<MeanBackward0>)\n",
            "Loss: tensor(0.1485, device='cuda:0', grad_fn=<MeanBackward0>)\n",
            "Loss: tensor(0.0972, device='cuda:0', grad_fn=<MeanBackward0>)\n",
            "Loss: tensor(0.0720, device='cuda:0', grad_fn=<MeanBackward0>)\n",
            "Loss: tensor(0.0501, device='cuda:0', grad_fn=<MeanBackward0>)\n",
            "Loss: tensor(0.2551, device='cuda:0', grad_fn=<MeanBackward0>)\n",
            "Loss: tensor(0.1972, device='cuda:0', grad_fn=<MeanBackward0>)\n",
            "Loss: tensor(0.1277, device='cuda:0', grad_fn=<MeanBackward0>)\n",
            "Loss: tensor(0.2260, device='cuda:0', grad_fn=<MeanBackward0>)\n",
            "Loss: tensor(0.0908, device='cuda:0', grad_fn=<MeanBackward0>)\n",
            "Loss: tensor(0.1654, device='cuda:0', grad_fn=<MeanBackward0>)\n",
            "Loss: tensor(0.2132, device='cuda:0', grad_fn=<MeanBackward0>)\n",
            "Loss: tensor(0.1519, device='cuda:0', grad_fn=<MeanBackward0>)\n",
            "Loss: tensor(0.3927, device='cuda:0', grad_fn=<MeanBackward0>)\n",
            "Loss: tensor(0.2427, device='cuda:0', grad_fn=<MeanBackward0>)\n",
            "Loss: tensor(0.0805, device='cuda:0', grad_fn=<MeanBackward0>)\n",
            "Loss: tensor(0.2179, device='cuda:0', grad_fn=<MeanBackward0>)\n",
            "Loss: tensor(0.1671, device='cuda:0', grad_fn=<MeanBackward0>)\n",
            "Loss: tensor(0.2622, device='cuda:0', grad_fn=<MeanBackward0>)\n",
            "Loss: tensor(0.3435, device='cuda:0', grad_fn=<MeanBackward0>)\n",
            "Loss: tensor(0.3202, device='cuda:0', grad_fn=<MeanBackward0>)\n",
            "Loss: tensor(0.1401, device='cuda:0', grad_fn=<MeanBackward0>)\n",
            "Loss: tensor(0.0568, device='cuda:0', grad_fn=<MeanBackward0>)\n",
            "Loss: tensor(0.1130, device='cuda:0', grad_fn=<MeanBackward0>)\n",
            "Loss: tensor(0.3373, device='cuda:0', grad_fn=<MeanBackward0>)\n",
            "Loss: tensor(0.0587, device='cuda:0', grad_fn=<MeanBackward0>)\n",
            "Loss: tensor(0.2536, device='cuda:0', grad_fn=<MeanBackward0>)\n",
            "Loss: tensor(0.1487, device='cuda:0', grad_fn=<MeanBackward0>)\n",
            "Loss: tensor(0.0789, device='cuda:0', grad_fn=<MeanBackward0>)\n",
            "Loss: tensor(0.2896, device='cuda:0', grad_fn=<MeanBackward0>)\n",
            "Loss: tensor(0.1203, device='cuda:0', grad_fn=<MeanBackward0>)\n",
            "Loss: tensor(0.2666, device='cuda:0', grad_fn=<MeanBackward0>)\n",
            "Loss: tensor(0.0423, device='cuda:0', grad_fn=<MeanBackward0>)\n",
            "Loss: tensor(0.1711, device='cuda:0', grad_fn=<MeanBackward0>)\n",
            "Loss: tensor(0.1701, device='cuda:0', grad_fn=<MeanBackward0>)\n",
            "Loss: tensor(0.2482, device='cuda:0', grad_fn=<MeanBackward0>)\n",
            "Loss: tensor(0.3858, device='cuda:0', grad_fn=<MeanBackward0>)\n"
          ],
          "name": "stdout"
        },
        {
          "output_type": "error",
          "ename": "KeyboardInterrupt",
          "evalue": "ignored",
          "traceback": [
            "\u001b[0;31m---------------------------------------------------------------------------\u001b[0m",
            "\u001b[0;31mKeyboardInterrupt\u001b[0m                         Traceback (most recent call last)",
            "\u001b[0;32m<ipython-input-76-a7b19a6c4fde>\u001b[0m in \u001b[0;36m<module>\u001b[0;34m()\u001b[0m\n\u001b[1;32m     29\u001b[0m         \u001b[0mreviews_batch\u001b[0m\u001b[0;34m=\u001b[0m\u001b[0mreviews_batch\u001b[0m\u001b[0;34m.\u001b[0m\u001b[0mto\u001b[0m\u001b[0;34m(\u001b[0m\u001b[0mdevice\u001b[0m\u001b[0;34m)\u001b[0m\u001b[0;34m\u001b[0m\u001b[0;34m\u001b[0m\u001b[0m\n\u001b[1;32m     30\u001b[0m         \u001b[0mlabels_batch\u001b[0m\u001b[0;34m=\u001b[0m\u001b[0mlabels_batch\u001b[0m\u001b[0;34m.\u001b[0m\u001b[0mto\u001b[0m\u001b[0;34m(\u001b[0m\u001b[0mdevice\u001b[0m\u001b[0;34m)\u001b[0m\u001b[0;34m\u001b[0m\u001b[0;34m\u001b[0m\u001b[0m\n\u001b[0;32m---> 31\u001b[0;31m         \u001b[0mloss\u001b[0m\u001b[0;34m,\u001b[0m \u001b[0mpred\u001b[0m \u001b[0;34m=\u001b[0m \u001b[0mCRAN_m\u001b[0m\u001b[0;34m(\u001b[0m\u001b[0mreviews_batch\u001b[0m\u001b[0;34m,\u001b[0m\u001b[0mlabels_batch\u001b[0m\u001b[0;34m)\u001b[0m\u001b[0;34m\u001b[0m\u001b[0;34m\u001b[0m\u001b[0m\n\u001b[0m\u001b[1;32m     32\u001b[0m         \u001b[0mloss_list\u001b[0m\u001b[0;34m.\u001b[0m\u001b[0mappend\u001b[0m\u001b[0;34m(\u001b[0m\u001b[0mloss\u001b[0m\u001b[0;34m.\u001b[0m\u001b[0mmean\u001b[0m\u001b[0;34m(\u001b[0m\u001b[0;34m)\u001b[0m\u001b[0;34m.\u001b[0m\u001b[0mdetach\u001b[0m\u001b[0;34m(\u001b[0m\u001b[0;34m)\u001b[0m\u001b[0;34m)\u001b[0m\u001b[0;34m\u001b[0m\u001b[0;34m\u001b[0m\u001b[0m\n\u001b[1;32m     33\u001b[0m         \u001b[0moptimizer\u001b[0m\u001b[0;34m.\u001b[0m\u001b[0mzero_grad\u001b[0m\u001b[0;34m(\u001b[0m\u001b[0;34m)\u001b[0m\u001b[0;34m\u001b[0m\u001b[0;34m\u001b[0m\u001b[0m\n",
            "\u001b[0;32m/usr/local/lib/python3.6/dist-packages/torch/nn/modules/module.py\u001b[0m in \u001b[0;36m__call__\u001b[0;34m(self, *input, **kwargs)\u001b[0m\n\u001b[1;32m    548\u001b[0m             \u001b[0mresult\u001b[0m \u001b[0;34m=\u001b[0m \u001b[0mself\u001b[0m\u001b[0;34m.\u001b[0m\u001b[0m_slow_forward\u001b[0m\u001b[0;34m(\u001b[0m\u001b[0;34m*\u001b[0m\u001b[0minput\u001b[0m\u001b[0;34m,\u001b[0m \u001b[0;34m**\u001b[0m\u001b[0mkwargs\u001b[0m\u001b[0;34m)\u001b[0m\u001b[0;34m\u001b[0m\u001b[0;34m\u001b[0m\u001b[0m\n\u001b[1;32m    549\u001b[0m         \u001b[0;32melse\u001b[0m\u001b[0;34m:\u001b[0m\u001b[0;34m\u001b[0m\u001b[0;34m\u001b[0m\u001b[0m\n\u001b[0;32m--> 550\u001b[0;31m             \u001b[0mresult\u001b[0m \u001b[0;34m=\u001b[0m \u001b[0mself\u001b[0m\u001b[0;34m.\u001b[0m\u001b[0mforward\u001b[0m\u001b[0;34m(\u001b[0m\u001b[0;34m*\u001b[0m\u001b[0minput\u001b[0m\u001b[0;34m,\u001b[0m \u001b[0;34m**\u001b[0m\u001b[0mkwargs\u001b[0m\u001b[0;34m)\u001b[0m\u001b[0;34m\u001b[0m\u001b[0;34m\u001b[0m\u001b[0m\n\u001b[0m\u001b[1;32m    551\u001b[0m         \u001b[0;32mfor\u001b[0m \u001b[0mhook\u001b[0m \u001b[0;32min\u001b[0m \u001b[0mself\u001b[0m\u001b[0;34m.\u001b[0m\u001b[0m_forward_hooks\u001b[0m\u001b[0;34m.\u001b[0m\u001b[0mvalues\u001b[0m\u001b[0;34m(\u001b[0m\u001b[0;34m)\u001b[0m\u001b[0;34m:\u001b[0m\u001b[0;34m\u001b[0m\u001b[0;34m\u001b[0m\u001b[0m\n\u001b[1;32m    552\u001b[0m             \u001b[0mhook_result\u001b[0m \u001b[0;34m=\u001b[0m \u001b[0mhook\u001b[0m\u001b[0;34m(\u001b[0m\u001b[0mself\u001b[0m\u001b[0;34m,\u001b[0m \u001b[0minput\u001b[0m\u001b[0;34m,\u001b[0m \u001b[0mresult\u001b[0m\u001b[0;34m)\u001b[0m\u001b[0;34m\u001b[0m\u001b[0;34m\u001b[0m\u001b[0m\n",
            "\u001b[0;32m<ipython-input-64-55a6635e26c7>\u001b[0m in \u001b[0;36mforward\u001b[0;34m(self, batch, labels)\u001b[0m\n\u001b[1;32m     30\u001b[0m     \u001b[0mbatch\u001b[0m\u001b[0;34m=\u001b[0m\u001b[0mbatch\u001b[0m\u001b[0;34m.\u001b[0m\u001b[0mview\u001b[0m\u001b[0;34m(\u001b[0m\u001b[0mN\u001b[0m\u001b[0;34m,\u001b[0m\u001b[0mT\u001b[0m\u001b[0;34m,\u001b[0m\u001b[0md\u001b[0m\u001b[0;34m)\u001b[0m\u001b[0;34m\u001b[0m\u001b[0;34m\u001b[0m\u001b[0m\n\u001b[1;32m     31\u001b[0m \u001b[0;34m\u001b[0m\u001b[0m\n\u001b[0;32m---> 32\u001b[0;31m     \u001b[0mlstm_out\u001b[0m\u001b[0;34m,\u001b[0m \u001b[0;34m(\u001b[0m\u001b[0mh\u001b[0m\u001b[0;34m,\u001b[0m\u001b[0mc\u001b[0m\u001b[0;34m)\u001b[0m \u001b[0;34m=\u001b[0m \u001b[0mself\u001b[0m\u001b[0;34m.\u001b[0m\u001b[0mrnn\u001b[0m\u001b[0;34m(\u001b[0m\u001b[0mbatch\u001b[0m\u001b[0;34m,\u001b[0m \u001b[0;34m(\u001b[0m\u001b[0mh\u001b[0m\u001b[0;34m,\u001b[0m \u001b[0mc\u001b[0m\u001b[0;34m)\u001b[0m\u001b[0;34m)\u001b[0m\u001b[0;34m\u001b[0m\u001b[0;34m\u001b[0m\u001b[0m\n\u001b[0m\u001b[1;32m     33\u001b[0m \u001b[0;34m\u001b[0m\u001b[0m\n\u001b[1;32m     34\u001b[0m     \u001b[0ms\u001b[0m \u001b[0;34m=\u001b[0m \u001b[0mtorch\u001b[0m\u001b[0;34m.\u001b[0m\u001b[0mmean\u001b[0m\u001b[0;34m(\u001b[0m\u001b[0mlstm_out\u001b[0m \u001b[0;34m*\u001b[0m \u001b[0mcnn_output\u001b[0m\u001b[0;34m.\u001b[0m\u001b[0munsqueeze\u001b[0m\u001b[0;34m(\u001b[0m\u001b[0;36m2\u001b[0m\u001b[0;34m)\u001b[0m\u001b[0;34m,\u001b[0m \u001b[0;36m1\u001b[0m\u001b[0;34m)\u001b[0m\u001b[0;34m\u001b[0m\u001b[0;34m\u001b[0m\u001b[0m\n",
            "\u001b[0;32m/usr/local/lib/python3.6/dist-packages/torch/nn/modules/module.py\u001b[0m in \u001b[0;36m__call__\u001b[0;34m(self, *input, **kwargs)\u001b[0m\n\u001b[1;32m    548\u001b[0m             \u001b[0mresult\u001b[0m \u001b[0;34m=\u001b[0m \u001b[0mself\u001b[0m\u001b[0;34m.\u001b[0m\u001b[0m_slow_forward\u001b[0m\u001b[0;34m(\u001b[0m\u001b[0;34m*\u001b[0m\u001b[0minput\u001b[0m\u001b[0;34m,\u001b[0m \u001b[0;34m**\u001b[0m\u001b[0mkwargs\u001b[0m\u001b[0;34m)\u001b[0m\u001b[0;34m\u001b[0m\u001b[0;34m\u001b[0m\u001b[0m\n\u001b[1;32m    549\u001b[0m         \u001b[0;32melse\u001b[0m\u001b[0;34m:\u001b[0m\u001b[0;34m\u001b[0m\u001b[0;34m\u001b[0m\u001b[0m\n\u001b[0;32m--> 550\u001b[0;31m             \u001b[0mresult\u001b[0m \u001b[0;34m=\u001b[0m \u001b[0mself\u001b[0m\u001b[0;34m.\u001b[0m\u001b[0mforward\u001b[0m\u001b[0;34m(\u001b[0m\u001b[0;34m*\u001b[0m\u001b[0minput\u001b[0m\u001b[0;34m,\u001b[0m \u001b[0;34m**\u001b[0m\u001b[0mkwargs\u001b[0m\u001b[0;34m)\u001b[0m\u001b[0;34m\u001b[0m\u001b[0;34m\u001b[0m\u001b[0m\n\u001b[0m\u001b[1;32m    551\u001b[0m         \u001b[0;32mfor\u001b[0m \u001b[0mhook\u001b[0m \u001b[0;32min\u001b[0m \u001b[0mself\u001b[0m\u001b[0;34m.\u001b[0m\u001b[0m_forward_hooks\u001b[0m\u001b[0;34m.\u001b[0m\u001b[0mvalues\u001b[0m\u001b[0;34m(\u001b[0m\u001b[0;34m)\u001b[0m\u001b[0;34m:\u001b[0m\u001b[0;34m\u001b[0m\u001b[0;34m\u001b[0m\u001b[0m\n\u001b[1;32m    552\u001b[0m             \u001b[0mhook_result\u001b[0m \u001b[0;34m=\u001b[0m \u001b[0mhook\u001b[0m\u001b[0;34m(\u001b[0m\u001b[0mself\u001b[0m\u001b[0;34m,\u001b[0m \u001b[0minput\u001b[0m\u001b[0;34m,\u001b[0m \u001b[0mresult\u001b[0m\u001b[0;34m)\u001b[0m\u001b[0;34m\u001b[0m\u001b[0;34m\u001b[0m\u001b[0m\n",
            "\u001b[0;32m/usr/local/lib/python3.6/dist-packages/torch/nn/modules/rnn.py\u001b[0m in \u001b[0;36mforward\u001b[0;34m(self, input, hx)\u001b[0m\n\u001b[1;32m    568\u001b[0m         \u001b[0;32mif\u001b[0m \u001b[0mbatch_sizes\u001b[0m \u001b[0;32mis\u001b[0m \u001b[0;32mNone\u001b[0m\u001b[0;34m:\u001b[0m\u001b[0;34m\u001b[0m\u001b[0;34m\u001b[0m\u001b[0m\n\u001b[1;32m    569\u001b[0m             result = _VF.lstm(input, hx, self._flat_weights, self.bias, self.num_layers,\n\u001b[0;32m--> 570\u001b[0;31m                               self.dropout, self.training, self.bidirectional, self.batch_first)\n\u001b[0m\u001b[1;32m    571\u001b[0m         \u001b[0;32melse\u001b[0m\u001b[0;34m:\u001b[0m\u001b[0;34m\u001b[0m\u001b[0;34m\u001b[0m\u001b[0m\n\u001b[1;32m    572\u001b[0m             result = _VF.lstm(input, batch_sizes, hx, self._flat_weights, self.bias,\n",
            "\u001b[0;31mKeyboardInterrupt\u001b[0m: "
          ]
        }
      ]
    },
    {
      "cell_type": "markdown",
      "metadata": {
        "id": "kxIfGOEJ2wIU",
        "colab_type": "text"
      },
      "source": [
        "# Pretrained CAN Params"
      ]
    },
    {
      "cell_type": "code",
      "metadata": {
        "id": "DKRT_eEK2wIU",
        "colab_type": "code",
        "colab": {},
        "outputId": "ef965ebc-d960-4539-c9ed-a2834b9516e7"
      },
      "source": [
        "CAN_m.eval()\n",
        "permutation=torch.randperm(reviews.size()[0])\n",
        "indices = permutation[i:i+batch_size]\n",
        "reviews_batch, labels_batch = reviews[indices], labels[indices]\n",
        "reviews_batch=reviews_batch.to(device)\n",
        "labels_batch=labels_batch.to(device)\n",
        "pred = CAN_m(reviews_batch,labels_batch)\n",
        "print(accuracy_score(labels_batch.cpu(),pred.argmax(dim=-1).cpu()))\n",
        "\n",
        "# Get pretrained params\n",
        "CAN_named_params = CAN_m.state_dict()\n",
        "pretrained_CAN_weights = CAN_named_params['cnn.weight'].cpu()\n",
        "pretrained_CAN_bias = CAN_named_params['cnn.bias'].cpu()"
      ],
      "execution_count": 0,
      "outputs": [
        {
          "output_type": "stream",
          "text": [
            "0.6875\n"
          ],
          "name": "stdout"
        },
        {
          "output_type": "stream",
          "text": [
            "C:\\Users\\sidmu\\AppData\\Local\\Programs\\Python\\Python37\\lib\\site-packages\\ipykernel_launcher.py:28: UserWarning: Implicit dimension choice for log_softmax has been deprecated. Change the call to include dim=X as an argument.\n"
          ],
          "name": "stderr"
        }
      ]
    },
    {
      "cell_type": "markdown",
      "metadata": {
        "id": "jkPWZwEk2wIW",
        "colab_type": "text"
      },
      "source": [
        "# CRAN with Google embedding attention pretrained"
      ]
    },
    {
      "cell_type": "code",
      "metadata": {
        "id": "StgTIcNi2wIW",
        "colab_type": "code",
        "colab": {}
      },
      "source": [
        "#CRAN used with word2vec embedding\n",
        "class PtCRANword2vec(nn.Module):\n",
        "  def __init__(self,embedding_size,cnn_window_length,hidden_units,p_dropout):\n",
        "    super(PtCRANword2vec, self).__init__()\n",
        "\n",
        "    \"\"\"\n",
        "    inputs:\n",
        "      cnn_num_filters: the number of convolutional kernels, represents the number of output channels parameter in Conv2d\n",
        "      cnn_window_length: in a kernel size of d*l, d represents the embedding size and l represents the window length\n",
        "      LSTM_hidden_units: number of hidden units in LSTM layer\n",
        "      dropout: dropout probability for CNN\n",
        "      embedding_size: length of embedded word vectors \n",
        "    \"\"\"\n",
        "    self.cnn=torch.nn.Conv2d(1,hidden_units,(cnn_window_length,embedding_size), padding=(1,0))\n",
        "    \n",
        "    # init cnn params to pretrained\n",
        "    self.cnn.weight.data = pretrained_CAN_weights\n",
        "    self.cnn.bias.data = pretrained_CAN_bias\n",
        "    \n",
        "    \n",
        "    self.dropout=torch.nn.Dropout(p_dropout)\n",
        "    self.rnn=torch.nn.LSTM(embedding_size,hidden_units,1, batch_first=True)\n",
        "    self.hidden_size = hidden_units\n",
        "    self.dense = nn.Linear(hidden_units, 2)\n",
        "  def forward(self,batch,labels):\n",
        "    (N,T,d)=batch.shape\n",
        "    #apply convolutional filters to the input sentences\n",
        "    cnn_output=self.cnn(batch.view(N,1,T,d))\n",
        "    #cnn_output will be of shape (N,cnn_num_filters,H_out from Pytorch documentation,1)\n",
        "    shape=cnn_output.shape\n",
        "    cnn_output= F.relu(cnn_output.squeeze(3))\n",
        "    #average across the different filter outputs\n",
        "    cnn_output=torch.mean(cnn_output,1)\n",
        "    h = batch.new_zeros(1, N, self.hidden_size).float()\n",
        "    c = batch.new_zeros(1, N, self.hidden_size).float()\n",
        "  \n",
        "    lstm_out, (h,c) = self.rnn(batch, (h, c))\n",
        "\n",
        "    s = torch.mean(lstm_out * cnn_output.unsqueeze(2), 1)\n",
        "\n",
        "    pred = F.log_softmax(self.dense(s))\n",
        "    \n",
        "    if self.training:\n",
        "      loss = F.nll_loss(pred, labels)\n",
        "\n",
        "      return loss, pred.argmax(dim=-1)\n",
        "    else:\n",
        "      return pred"
      ],
      "execution_count": 0,
      "outputs": []
    },
    {
      "cell_type": "code",
      "metadata": {
        "id": "XG5NfjbY2wIZ",
        "colab_type": "code",
        "colab": {},
        "outputId": "0417a285-1e0d-447e-ff0d-33ed4f21f9e5"
      },
      "source": [
        "batch_size = 16\n",
        "vocab_size=reviews_vocab.num_word\n",
        "embedding_dim = 300\n",
        "hidden_size = 100\n",
        "cnn_window_length=3\n",
        "lr = 1e-3\n",
        "epoch = 10\n",
        "p_dropout=0.5\n",
        "\n",
        "CRAN_pt = PtCRANword2vec(embedding_dim, cnn_window_length,hidden_size,p_dropout)\n",
        "device = 'cuda' if torch.cuda.is_available() else 'cpu' # cuda:0 if you have gpu\n",
        "CRAN_pt = CRAN_pt.to(device)\n",
        "\n",
        "optimizer = torch.optim.Adadelta(CRAN_m.parameters(), lr=lr)\n",
        "loss_list = []\n",
        "folds = torch.split(reviews, 6472, 0)\n",
        "for fold in folds:\n",
        "  for e in range(epoch):\n",
        "      CRAN_m.train()\n",
        "      permutation=torch.randperm(reviews.size()[0])\n",
        "      for i in range(0,reviews.size()[0],batch_size):\n",
        "          indices = permutation[i:i+batch_size]\n",
        "          reviews_batch, labels_batch = reviews[indices], labels[indices]\n",
        "          reviews_batch=reviews_batch.to(device)\n",
        "          labels_batch=labels_batch.to(device)\n",
        "          loss, pred = CRAN_m(reviews_batch,labels_batch)\n",
        "          loss_list.append(loss.mean().detach())\n",
        "          optimizer.zero_grad()\n",
        "          loss.mean().backward()\n",
        "          optimizer.step()\n",
        "          if i%5000==0:\n",
        "            print('Loss: '+str(loss.mean()))"
      ],
      "execution_count": 0,
      "outputs": [
        {
          "output_type": "stream",
          "text": [
            "C:\\Users\\sidmu\\AppData\\Local\\Programs\\Python\\Python37\\lib\\site-packages\\ipykernel_launcher.py:41: UserWarning: Implicit dimension choice for log_softmax has been deprecated. Change the call to include dim=X as an argument.\n"
          ],
          "name": "stderr"
        },
        {
          "output_type": "stream",
          "text": [
            "Loss: tensor(0.6864, device='cuda:0', grad_fn=<MeanBackward0>)\n",
            "Loss: tensor(0.6887, device='cuda:0', grad_fn=<MeanBackward0>)\n",
            "Loss: tensor(0.6956, device='cuda:0', grad_fn=<MeanBackward0>)\n",
            "Loss: tensor(0.6933, device='cuda:0', grad_fn=<MeanBackward0>)\n",
            "Loss: tensor(0.6933, device='cuda:0', grad_fn=<MeanBackward0>)\n",
            "Loss: tensor(0.6910, device='cuda:0', grad_fn=<MeanBackward0>)\n",
            "Loss: tensor(0.6956, device='cuda:0', grad_fn=<MeanBackward0>)\n",
            "Loss: tensor(0.6933, device='cuda:0', grad_fn=<MeanBackward0>)\n",
            "Loss: tensor(0.6956, device='cuda:0', grad_fn=<MeanBackward0>)\n",
            "Loss: tensor(0.6933, device='cuda:0', grad_fn=<MeanBackward0>)\n",
            "Loss: tensor(0.6933, device='cuda:0', grad_fn=<MeanBackward0>)\n",
            "Loss: tensor(0.6956, device='cuda:0', grad_fn=<MeanBackward0>)\n",
            "Loss: tensor(0.6888, device='cuda:0', grad_fn=<MeanBackward0>)\n",
            "Loss: tensor(0.6979, device='cuda:0', grad_fn=<MeanBackward0>)\n",
            "Loss: tensor(0.6979, device='cuda:0', grad_fn=<MeanBackward0>)\n",
            "Loss: tensor(0.6933, device='cuda:0', grad_fn=<MeanBackward0>)\n"
          ],
          "name": "stdout"
        },
        {
          "output_type": "error",
          "ename": "KeyboardInterrupt",
          "evalue": "",
          "traceback": [
            "\u001b[1;31m---------------------------------------------------------------------------\u001b[0m",
            "\u001b[1;31mKeyboardInterrupt\u001b[0m                         Traceback (most recent call last)",
            "\u001b[1;32m<ipython-input-111-9b69e211db65>\u001b[0m in \u001b[0;36m<module>\u001b[1;34m\u001b[0m\n\u001b[0;32m     20\u001b[0m         \u001b[0mindices\u001b[0m \u001b[1;33m=\u001b[0m \u001b[0mpermutation\u001b[0m\u001b[1;33m[\u001b[0m\u001b[0mi\u001b[0m\u001b[1;33m:\u001b[0m\u001b[0mi\u001b[0m\u001b[1;33m+\u001b[0m\u001b[0mbatch_size\u001b[0m\u001b[1;33m]\u001b[0m\u001b[1;33m\u001b[0m\u001b[1;33m\u001b[0m\u001b[0m\n\u001b[0;32m     21\u001b[0m         \u001b[0mreviews_batch\u001b[0m\u001b[1;33m,\u001b[0m \u001b[0mlabels_batch\u001b[0m \u001b[1;33m=\u001b[0m \u001b[0mreviews\u001b[0m\u001b[1;33m[\u001b[0m\u001b[0mindices\u001b[0m\u001b[1;33m]\u001b[0m\u001b[1;33m,\u001b[0m \u001b[0mlabels\u001b[0m\u001b[1;33m[\u001b[0m\u001b[0mindices\u001b[0m\u001b[1;33m]\u001b[0m\u001b[1;33m\u001b[0m\u001b[1;33m\u001b[0m\u001b[0m\n\u001b[1;32m---> 22\u001b[1;33m         \u001b[0mreviews_batch\u001b[0m\u001b[1;33m=\u001b[0m\u001b[0mreviews_batch\u001b[0m\u001b[1;33m.\u001b[0m\u001b[0mto\u001b[0m\u001b[1;33m(\u001b[0m\u001b[0mdevice\u001b[0m\u001b[1;33m)\u001b[0m\u001b[1;33m\u001b[0m\u001b[1;33m\u001b[0m\u001b[0m\n\u001b[0m\u001b[0;32m     23\u001b[0m         \u001b[0mlabels_batch\u001b[0m\u001b[1;33m=\u001b[0m\u001b[0mlabels_batch\u001b[0m\u001b[1;33m.\u001b[0m\u001b[0mto\u001b[0m\u001b[1;33m(\u001b[0m\u001b[0mdevice\u001b[0m\u001b[1;33m)\u001b[0m\u001b[1;33m\u001b[0m\u001b[1;33m\u001b[0m\u001b[0m\n\u001b[0;32m     24\u001b[0m         \u001b[0mloss\u001b[0m\u001b[1;33m,\u001b[0m \u001b[0mpred\u001b[0m \u001b[1;33m=\u001b[0m \u001b[0mCRAN_m\u001b[0m\u001b[1;33m(\u001b[0m\u001b[0mreviews_batch\u001b[0m\u001b[1;33m,\u001b[0m\u001b[0mlabels_batch\u001b[0m\u001b[1;33m)\u001b[0m\u001b[1;33m\u001b[0m\u001b[1;33m\u001b[0m\u001b[0m\n",
            "\u001b[1;31mKeyboardInterrupt\u001b[0m: "
          ]
        }
      ]
    },
    {
      "cell_type": "code",
      "metadata": {
        "id": "XEOvH3SZ2wIa",
        "colab_type": "code",
        "colab": {},
        "outputId": "ac5b8cff-5390-4d02-de92-5cfed9687593"
      },
      "source": [
        "#CAN_pt.eval()\n",
        "print(reviews.shape)\n",
        "\n",
        "acc_list = []\n",
        "for fold in folds:\n",
        "\n",
        "\n",
        "pred = CAN_m(reviews_batch,labels_batch)\n",
        "print(accuracy_score(labels_batch.cpu(),pred.argmax(dim=-1).cpu()))"
      ],
      "execution_count": 0,
      "outputs": [
        {
          "output_type": "stream",
          "text": [
            "torch.Size([64720, 50, 300])\n",
            "torch.Size([6472, 50, 300])\n"
          ],
          "name": "stdout"
        }
      ]
    },
    {
      "cell_type": "code",
      "metadata": {
        "id": "bHUITqsK2wId",
        "colab_type": "code",
        "colab": {}
      },
      "source": [
        ""
      ],
      "execution_count": 0,
      "outputs": []
    }
  ]
}